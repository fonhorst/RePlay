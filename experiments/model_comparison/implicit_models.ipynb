{
 "cells": [
  {
   "cell_type": "code",
   "execution_count": 1,
   "metadata": {},
   "outputs": [],
   "source": [
    "import yaml\n",
    "import logging\n",
    "from tqdm.notebook import tqdm\n",
    "\n",
    "import numpy as np\n",
    "import pandas as pd\n",
    "import scipy\n",
    "import optuna\n",
    "\n",
    "from implicit.als import AlternatingLeastSquares\n",
    "\n",
    "from replay.metrics import NDCG\n"
   ]
  },
  {
   "cell_type": "code",
   "execution_count": 2,
   "metadata": {},
   "outputs": [],
   "source": [
    "logger_config = \"\"\"\n",
    "version: 1\n",
    "formatters:\n",
    "    simple:\n",
    "        class: logging.Formatter\n",
    "        format: \"%(asctime)s, %(name)s, %(levelname)s: %(message)s\"\n",
    "        datefmt: \"%d-%b-%y %H:%M:%S\"\n",
    "handlers:\n",
    "    file_handler:\n",
    "        class: logging.FileHandler\n",
    "        filename: logs/implicit_models.log\n",
    "        level: DEBUG\n",
    "        formatter: simple\n",
    "    stream_handler:\n",
    "        class: logging.StreamHandler\n",
    "        stream: ext://sys.stdout\n",
    "        level: DEBUG\n",
    "        formatter: simple\n",
    "loggers:\n",
    "    implicit_models_logger:\n",
    "        level: DEBUG\n",
    "        handlers: [file_handler, stream_handler]\n",
    "        propagate: no\n",
    "\"\"\"\n",
    "logger = logging.getLogger(name=\"implicit_models_logger\")\n",
    "\n",
    "config = yaml.load(logger_config, Loader=yaml.FullLoader)\n",
    "logging.config.dictConfig(config)\n",
    "\n"
   ]
  },
  {
   "cell_type": "code",
   "execution_count": 3,
   "metadata": {},
   "outputs": [],
   "source": [
    "DATA_NAME = \"lastfm\"\n",
    "DATA_PATH = f\"data/{DATA_NAME}/\"\n",
    "TRAIN_FILE_NAME = \"train.csv\"\n",
    "VAL_FILE_NAME = \"val.csv\"\n",
    "TEST_FILE_NAME = \"test.csv\"\n",
    "\n",
    "k = 10\n",
    "shuffle = False\n",
    "budget = 10\n",
    "seed = 1909\n",
    "\n"
   ]
  },
  {
   "cell_type": "code",
   "execution_count": 4,
   "metadata": {},
   "outputs": [],
   "source": [
    "def load_data(data_path, train_file_name, val_file_name, test_file_name):\n",
    "    return (\n",
    "        pd.read_csv(f\"{data_path}{train_file_name}\"),\n",
    "        pd.read_csv(f\"{data_path}{val_file_name}\"),\n",
    "        pd.read_csv(f\"{data_path}{test_file_name}\"),\n",
    "    )\n",
    "\n"
   ]
  },
  {
   "cell_type": "code",
   "execution_count": 5,
   "metadata": {},
   "outputs": [
    {
     "name": "stdout",
     "output_type": "stream",
     "text": [
      "19-Jul-22 22:15:21, implicit_models_logger, INFO: lastfm dataset!\n"
     ]
    },
    {
     "data": {
      "text/plain": [
       "((13916045, 4), (110000, 4), (110000, 4))"
      ]
     },
     "execution_count": 5,
     "metadata": {},
     "output_type": "execute_result"
    }
   ],
   "source": [
    "train, val, test = load_data(\n",
    "    data_path=DATA_PATH,\n",
    "    train_file_name=TRAIN_FILE_NAME,\n",
    "    val_file_name=VAL_FILE_NAME,\n",
    "    test_file_name=TEST_FILE_NAME,\n",
    ")\n",
    "logger.info(msg=f\"{DATA_NAME} dataset!\")\n",
    "\n",
    "train.shape, val.shape, test.shape\n"
   ]
  },
  {
   "cell_type": "code",
   "execution_count": 6,
   "metadata": {},
   "outputs": [],
   "source": [
    "train_data = scipy.sparse.csr_matrix(\n",
    "    (train.relevance, (train.user_idx.values, train.item_idx.values))\n",
    ")\n",
    "val_data = scipy.sparse.csr_matrix(\n",
    "    (val.relevance, (val.user_idx.values, val.item_idx.values))\n",
    ")\n",
    "test_data = scipy.sparse.csr_matrix(\n",
    "    (test.relevance, (test.user_idx.values, test.item_idx.values))\n",
    ")\n"
   ]
  },
  {
   "cell_type": "code",
   "execution_count": 7,
   "metadata": {},
   "outputs": [],
   "source": [
    "ndcg = NDCG()"
   ]
  },
  {
   "cell_type": "code",
   "execution_count": 8,
   "metadata": {},
   "outputs": [],
   "source": [
    "def predict(model):\n",
    "    result = pd.DataFrame(columns=[\"user_idx\", \"item_idx\", \"relevance\"])\n",
    "    for user_idx in tqdm(test.user_idx.unique()):\n",
    "        pred_ = model.recommend(\n",
    "            user_idx,\n",
    "            train_data,\n",
    "            N=k,\n",
    "            filter_already_liked_items=True,\n",
    "        )\n",
    "        pred = pd.DataFrame(\n",
    "            {\n",
    "                \"user_idx\": np.array([user_idx] * k),\n",
    "                \"item_idx\": np.array([item_idx for item_idx, rel in pred_]),\n",
    "                \"relevance\": np.array([rel for item_idx, rel in pred_]),\n",
    "            }\n",
    "        )\n",
    "        result = pd.concat([result, pred])\n",
    "    return result\n"
   ]
  },
  {
   "cell_type": "code",
   "execution_count": 9,
   "metadata": {},
   "outputs": [],
   "source": [
    "def objective(trial):\n",
    "    params = {\n",
    "        \"factors\": trial.suggest_int(\"factors\", 2**3, 2**9, log=True),\n",
    "        \"regularization\": trial.suggest_float(\"regularization\", 1e-4, 100, log=True),\n",
    "        \"use_cg\": trial.suggest_categorical(\"use_cg\", [True, False]),\n",
    "        \"iterations\": trial.suggest_int(\"iterations\", 5, 100),\n",
    "    }\n",
    "\n",
    "    model = AlternatingLeastSquares(\n",
    "        use_native=True,\n",
    "        random_state=seed,\n",
    "        **params,\n",
    "    )\n",
    "    model.fit(train_data.T)\n",
    "    val_preds = predict(model)\n",
    "\n",
    "    return ndcg(val_preds, val, k)\n"
   ]
  },
  {
   "cell_type": "code",
   "execution_count": 10,
   "metadata": {},
   "outputs": [
    {
     "name": "stdout",
     "output_type": "stream",
     "text": [
      "19-Jul-22 22:15:22, implicit_models_logger, INFO: ALS model optimizing by NDCG@10 started\n"
     ]
    },
    {
     "name": "stderr",
     "output_type": "stream",
     "text": [
      "/home/baurzhan/model_comparison/mc_venv/lib/python3.8/site-packages/optuna/progress_bar.py:47: ExperimentalWarning: Progress bar is experimental (supported from v1.2.0). The interface can change in the future.\n",
      "  self._init_valid()\n"
     ]
    },
    {
     "data": {
      "application/vnd.jupyter.widget-view+json": {
       "model_id": "722ead9b8ead4761b07e5e12c6443071",
       "version_major": 2,
       "version_minor": 0
      },
      "text/plain": [
       "  0%|          | 0/10 [00:00<?, ?it/s]"
      ]
     },
     "metadata": {},
     "output_type": "display_data"
    },
    {
     "name": "stderr",
     "output_type": "stream",
     "text": [
      "WARNING:root:OpenBLAS detected. Its highly recommend to set the environment variable 'export OPENBLAS_NUM_THREADS=1' to disable its internal multithreading\n"
     ]
    },
    {
     "data": {
      "application/vnd.jupyter.widget-view+json": {
       "model_id": "092b080119484b699f4c4f71d425d495",
       "version_major": 2,
       "version_minor": 0
      },
      "text/plain": [
       "  0%|          | 0/80 [00:00<?, ?it/s]"
      ]
     },
     "metadata": {},
     "output_type": "display_data"
    }
   ],
   "source": [
    "study = optuna.create_study(direction=\"maximize\")\n",
    "logger.info(f\"ALS model optimizing by NDCG@10 started\")\n",
    "study.optimize(objective, n_trials=budget, timeout=3600 * 5, show_progress_bar=True)\n",
    "logger.info(f\"ALS model optimizing by NDCG@10 finished\")\n",
    "logger.info(f\"ALS model best params:\\n{study.best_params}\")\n"
   ]
  },
  {
   "cell_type": "code",
   "execution_count": null,
   "metadata": {},
   "outputs": [
    {
     "data": {
      "application/vnd.jupyter.widget-view+json": {
       "model_id": "3b791e17504b45d092116ff906d63709",
       "version_major": 2,
       "version_minor": 0
      },
      "text/plain": [
       "  0%|          | 0/33 [00:00<?, ?it/s]"
      ]
     },
     "metadata": {},
     "output_type": "display_data"
    }
   ],
   "source": [
    "model = AlternatingLeastSquares(**study.best_params)\n",
    "model.fit(train_data.T)\n"
   ]
  },
  {
   "cell_type": "code",
   "execution_count": null,
   "metadata": {},
   "outputs": [
    {
     "data": {
      "application/vnd.jupyter.widget-view+json": {
       "model_id": "f4a0d46cb1b545c2993872d1fd5f64a5",
       "version_major": 2,
       "version_minor": 0
      },
      "text/plain": [
       "  0%|          | 0/4030 [00:00<?, ?it/s]"
      ]
     },
     "metadata": {},
     "output_type": "display_data"
    },
    {
     "name": "stderr",
     "output_type": "stream",
     "text": [
      "                                                                                \r"
     ]
    },
    {
     "data": {
      "text/plain": [
       "0.019054172910326368"
      ]
     },
     "execution_count": 12,
     "metadata": {},
     "output_type": "execute_result"
    }
   ],
   "source": [
    "result = predict(model)\n",
    "ndcg(result, test, k)\n"
   ]
  },
  {
   "cell_type": "code",
   "execution_count": null,
   "metadata": {},
   "outputs": [],
   "source": [
    "result.to_csv(f\"{DATA_PATH}predicts/implicit_als_test_predict.csv\")"
   ]
  }
 ],
 "metadata": {
  "kernelspec": {
   "display_name": "Python 3.8.10 ('mc_venv': venv)",
   "language": "python",
   "name": "python3"
  },
  "language_info": {
   "codemirror_mode": {
    "name": "ipython",
    "version": 3
   },
   "file_extension": ".py",
   "mimetype": "text/x-python",
   "name": "python",
   "nbconvert_exporter": "python",
   "pygments_lexer": "ipython3",
   "version": "3.8.10"
  },
  "orig_nbformat": 4,
  "vscode": {
   "interpreter": {
    "hash": "4a1e246ba7264a68dfa8de1083033df2ac4589a6e589f0ab99b6826ead015aaf"
   }
  }
 },
 "nbformat": 4,
 "nbformat_minor": 2
}
