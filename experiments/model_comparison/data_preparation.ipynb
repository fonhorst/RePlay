{
 "cells": [
  {
   "cell_type": "code",
   "execution_count": 1,
   "metadata": {},
   "outputs": [],
   "source": [
    "import numpy as np\n",
    "import pandas as pd\n",
    "import scipy.stats as ss\n",
    "import logging\n",
    "import yaml\n",
    "\n",
    "from catboost import CatBoostRegressor, Pool\n",
    "from sklearn.model_selection import train_test_split\n",
    "from sklearn.metrics import mean_absolute_error, mean_squared_error\n",
    "\n",
    "import seaborn as sns\n",
    "import matplotlib.pyplot as plt\n",
    "\n",
    "from pyspark.sql import functions as sf\n",
    "from pyspark.sql.types import IntegerType\n",
    "\n",
    "from replay.data_preparator import DataPreparator, CatFeaturesTransformer, Indexer\n",
    "from replay.session_handler import get_spark_session\n",
    "from replay.splitters import UserSplitter\n",
    "from replay.filters import filter_by_min_count\n"
   ]
  },
  {
   "cell_type": "code",
   "execution_count": 2,
   "metadata": {},
   "outputs": [
    {
     "name": "stderr",
     "output_type": "stream",
     "text": [
      "22/07/20 15:43:18 WARN Utils: Your hostname, recsys-automl resolves to a loopback address: 127.0.1.1; using 192.168.0.5 instead (on interface ens160)\n",
      "22/07/20 15:43:18 WARN Utils: Set SPARK_LOCAL_IP if you need to bind to another address\n",
      "22/07/20 15:43:19 WARN NativeCodeLoader: Unable to load native-hadoop library for your platform... using builtin-java classes where applicable\n",
      "Using Spark's default log4j profile: org/apache/spark/log4j-defaults.properties\n",
      "Setting default log level to \"WARN\".\n",
      "To adjust logging level use sc.setLogLevel(newLevel). For SparkR, use setLogLevel(newLevel).\n",
      "22/07/20 15:43:19 WARN SparkConf: Note that spark.local.dir will be overridden by the value set by the cluster manager (via SPARK_LOCAL_DIRS in mesos/standalone/kubernetes and LOCAL_DIRS in YARN).\n"
     ]
    }
   ],
   "source": [
    "spark = get_spark_session(20)\n"
   ]
  },
  {
   "cell_type": "code",
   "execution_count": 3,
   "metadata": {},
   "outputs": [],
   "source": [
    "seed = 1909\n"
   ]
  },
  {
   "cell_type": "code",
   "execution_count": 4,
   "metadata": {},
   "outputs": [],
   "source": [
    "logger_config = \"\"\"\n",
    "version: 1\n",
    "formatters:\n",
    "    simple:\n",
    "        class: logging.Formatter\n",
    "        format: \"%(asctime)s, %(name)s, %(levelname)s: %(message)s\"\n",
    "        datefmt: \"%d-%b-%y %H:%M:%S\"\n",
    "handlers:\n",
    "    file_handler:\n",
    "        class: logging.FileHandler\n",
    "        filename: logs/data_preparation.log\n",
    "        level: DEBUG\n",
    "        formatter: simple\n",
    "    stream_handler:\n",
    "        class: logging.StreamHandler\n",
    "        stream: ext://sys.stdout\n",
    "        level: DEBUG\n",
    "        formatter: simple\n",
    "loggers:\n",
    "    data_preparation_logger:\n",
    "        level: DEBUG\n",
    "        handlers: [file_handler, stream_handler]\n",
    "        propagate: no\n",
    "\"\"\"\n",
    "logger = logging.getLogger(name=\"data_preparation_logger\")\n",
    "\n",
    "config = yaml.load(logger_config, Loader=yaml.FullLoader)\n",
    "logging.config.dictConfig(config)\n"
   ]
  },
  {
   "cell_type": "markdown",
   "metadata": {},
   "source": [
    "# Anime data"
   ]
  },
  {
   "cell_type": "code",
   "execution_count": 5,
   "metadata": {},
   "outputs": [],
   "source": [
    "data_path = \"data/anime/\"\n",
    "ratings_file_name = \"ratings.csv\"\n",
    "items_file_name = \"items.csv\"\n",
    "\n",
    "ratings = pd.read_csv(f\"{data_path}{ratings_file_name}\")\n",
    "items = pd.read_csv(f\"{data_path}{items_file_name}\")\n"
   ]
  },
  {
   "cell_type": "code",
   "execution_count": 6,
   "metadata": {},
   "outputs": [
    {
     "name": "stdout",
     "output_type": "stream",
     "text": [
      "(7813737, 3)\n"
     ]
    },
    {
     "data": {
      "text/html": [
       "<div>\n",
       "<style scoped>\n",
       "    .dataframe tbody tr th:only-of-type {\n",
       "        vertical-align: middle;\n",
       "    }\n",
       "\n",
       "    .dataframe tbody tr th {\n",
       "        vertical-align: top;\n",
       "    }\n",
       "\n",
       "    .dataframe thead th {\n",
       "        text-align: right;\n",
       "    }\n",
       "</style>\n",
       "<table border=\"1\" class=\"dataframe\">\n",
       "  <thead>\n",
       "    <tr style=\"text-align: right;\">\n",
       "      <th></th>\n",
       "      <th>user_id</th>\n",
       "      <th>anime_id</th>\n",
       "      <th>rating</th>\n",
       "    </tr>\n",
       "  </thead>\n",
       "  <tbody>\n",
       "    <tr>\n",
       "      <th>0</th>\n",
       "      <td>1</td>\n",
       "      <td>20</td>\n",
       "      <td>-1</td>\n",
       "    </tr>\n",
       "    <tr>\n",
       "      <th>1</th>\n",
       "      <td>1</td>\n",
       "      <td>24</td>\n",
       "      <td>-1</td>\n",
       "    </tr>\n",
       "    <tr>\n",
       "      <th>2</th>\n",
       "      <td>1</td>\n",
       "      <td>79</td>\n",
       "      <td>-1</td>\n",
       "    </tr>\n",
       "    <tr>\n",
       "      <th>3</th>\n",
       "      <td>1</td>\n",
       "      <td>226</td>\n",
       "      <td>-1</td>\n",
       "    </tr>\n",
       "    <tr>\n",
       "      <th>4</th>\n",
       "      <td>1</td>\n",
       "      <td>241</td>\n",
       "      <td>-1</td>\n",
       "    </tr>\n",
       "    <tr>\n",
       "      <th>5</th>\n",
       "      <td>1</td>\n",
       "      <td>355</td>\n",
       "      <td>-1</td>\n",
       "    </tr>\n",
       "    <tr>\n",
       "      <th>6</th>\n",
       "      <td>1</td>\n",
       "      <td>356</td>\n",
       "      <td>-1</td>\n",
       "    </tr>\n",
       "    <tr>\n",
       "      <th>7</th>\n",
       "      <td>1</td>\n",
       "      <td>442</td>\n",
       "      <td>-1</td>\n",
       "    </tr>\n",
       "    <tr>\n",
       "      <th>8</th>\n",
       "      <td>1</td>\n",
       "      <td>487</td>\n",
       "      <td>-1</td>\n",
       "    </tr>\n",
       "    <tr>\n",
       "      <th>9</th>\n",
       "      <td>1</td>\n",
       "      <td>846</td>\n",
       "      <td>-1</td>\n",
       "    </tr>\n",
       "  </tbody>\n",
       "</table>\n",
       "</div>"
      ],
      "text/plain": [
       "   user_id  anime_id  rating\n",
       "0        1        20      -1\n",
       "1        1        24      -1\n",
       "2        1        79      -1\n",
       "3        1       226      -1\n",
       "4        1       241      -1\n",
       "5        1       355      -1\n",
       "6        1       356      -1\n",
       "7        1       442      -1\n",
       "8        1       487      -1\n",
       "9        1       846      -1"
      ]
     },
     "metadata": {},
     "output_type": "display_data"
    }
   ],
   "source": [
    "print(ratings.shape)\n",
    "display(ratings.head(10))\n"
   ]
  },
  {
   "cell_type": "code",
   "execution_count": 7,
   "metadata": {},
   "outputs": [
    {
     "data": {
      "image/png": "[encoded data removed]",
      "text/plain": [
       "<Figure size 864x648 with 1 Axes>"
      ]
     },
     "metadata": {
      "needs_background": "light"
     },
     "output_type": "display_data"
    }
   ],
   "source": [
    "plt.figure(figsize=(12, 9))\n",
    "sns.histplot(ratings[\"rating\"])\n",
    "plt.show()\n"
   ]
  },
  {
   "cell_type": "code",
   "execution_count": 8,
   "metadata": {},
   "outputs": [
    {
     "name": "stdout",
     "output_type": "stream",
     "text": [
      "(12294, 7)\n"
     ]
    },
    {
     "data": {
      "text/html": [
       "<div>\n",
       "<style scoped>\n",
       "    .dataframe tbody tr th:only-of-type {\n",
       "        vertical-align: middle;\n",
       "    }\n",
       "\n",
       "    .dataframe tbody tr th {\n",
       "        vertical-align: top;\n",
       "    }\n",
       "\n",
       "    .dataframe thead th {\n",
       "        text-align: right;\n",
       "    }\n",
       "</style>\n",
       "<table border=\"1\" class=\"dataframe\">\n",
       "  <thead>\n",
       "    <tr style=\"text-align: right;\">\n",
       "      <th></th>\n",
       "      <th>anime_id</th>\n",
       "      <th>name</th>\n",
       "      <th>genre</th>\n",
       "      <th>type</th>\n",
       "      <th>episodes</th>\n",
       "      <th>rating</th>\n",
       "      <th>members</th>\n",
       "    </tr>\n",
       "  </thead>\n",
       "  <tbody>\n",
       "    <tr>\n",
       "      <th>0</th>\n",
       "      <td>32281</td>\n",
       "      <td>Kimi no Na wa.</td>\n",
       "      <td>Drama, Romance, School, Supernatural</td>\n",
       "      <td>Movie</td>\n",
       "      <td>1</td>\n",
       "      <td>9.37</td>\n",
       "      <td>200630</td>\n",
       "    </tr>\n",
       "    <tr>\n",
       "      <th>1</th>\n",
       "      <td>5114</td>\n",
       "      <td>Fullmetal Alchemist: Brotherhood</td>\n",
       "      <td>Action, Adventure, Drama, Fantasy, Magic, Mili...</td>\n",
       "      <td>TV</td>\n",
       "      <td>64</td>\n",
       "      <td>9.26</td>\n",
       "      <td>793665</td>\n",
       "    </tr>\n",
       "    <tr>\n",
       "      <th>2</th>\n",
       "      <td>28977</td>\n",
       "      <td>Gintama°</td>\n",
       "      <td>Action, Comedy, Historical, Parody, Samurai, S...</td>\n",
       "      <td>TV</td>\n",
       "      <td>51</td>\n",
       "      <td>9.25</td>\n",
       "      <td>114262</td>\n",
       "    </tr>\n",
       "    <tr>\n",
       "      <th>3</th>\n",
       "      <td>9253</td>\n",
       "      <td>Steins;Gate</td>\n",
       "      <td>Sci-Fi, Thriller</td>\n",
       "      <td>TV</td>\n",
       "      <td>24</td>\n",
       "      <td>9.17</td>\n",
       "      <td>673572</td>\n",
       "    </tr>\n",
       "    <tr>\n",
       "      <th>4</th>\n",
       "      <td>9969</td>\n",
       "      <td>Gintama&amp;#039;</td>\n",
       "      <td>Action, Comedy, Historical, Parody, Samurai, S...</td>\n",
       "      <td>TV</td>\n",
       "      <td>51</td>\n",
       "      <td>9.16</td>\n",
       "      <td>151266</td>\n",
       "    </tr>\n",
       "    <tr>\n",
       "      <th>5</th>\n",
       "      <td>32935</td>\n",
       "      <td>Haikyuu!!: Karasuno Koukou VS Shiratorizawa Ga...</td>\n",
       "      <td>Comedy, Drama, School, Shounen, Sports</td>\n",
       "      <td>TV</td>\n",
       "      <td>10</td>\n",
       "      <td>9.15</td>\n",
       "      <td>93351</td>\n",
       "    </tr>\n",
       "    <tr>\n",
       "      <th>6</th>\n",
       "      <td>11061</td>\n",
       "      <td>Hunter x Hunter (2011)</td>\n",
       "      <td>Action, Adventure, Shounen, Super Power</td>\n",
       "      <td>TV</td>\n",
       "      <td>148</td>\n",
       "      <td>9.13</td>\n",
       "      <td>425855</td>\n",
       "    </tr>\n",
       "    <tr>\n",
       "      <th>7</th>\n",
       "      <td>820</td>\n",
       "      <td>Ginga Eiyuu Densetsu</td>\n",
       "      <td>Drama, Military, Sci-Fi, Space</td>\n",
       "      <td>OVA</td>\n",
       "      <td>110</td>\n",
       "      <td>9.11</td>\n",
       "      <td>80679</td>\n",
       "    </tr>\n",
       "    <tr>\n",
       "      <th>8</th>\n",
       "      <td>15335</td>\n",
       "      <td>Gintama Movie: Kanketsu-hen - Yorozuya yo Eien...</td>\n",
       "      <td>Action, Comedy, Historical, Parody, Samurai, S...</td>\n",
       "      <td>Movie</td>\n",
       "      <td>1</td>\n",
       "      <td>9.10</td>\n",
       "      <td>72534</td>\n",
       "    </tr>\n",
       "    <tr>\n",
       "      <th>9</th>\n",
       "      <td>15417</td>\n",
       "      <td>Gintama&amp;#039;: Enchousen</td>\n",
       "      <td>Action, Comedy, Historical, Parody, Samurai, S...</td>\n",
       "      <td>TV</td>\n",
       "      <td>13</td>\n",
       "      <td>9.11</td>\n",
       "      <td>81109</td>\n",
       "    </tr>\n",
       "  </tbody>\n",
       "</table>\n",
       "</div>"
      ],
      "text/plain": [
       "   anime_id                                               name  \\\n",
       "0     32281                                     Kimi no Na wa.   \n",
       "1      5114                   Fullmetal Alchemist: Brotherhood   \n",
       "2     28977                                           Gintama°   \n",
       "3      9253                                        Steins;Gate   \n",
       "4      9969                                      Gintama&#039;   \n",
       "5     32935  Haikyuu!!: Karasuno Koukou VS Shiratorizawa Ga...   \n",
       "6     11061                             Hunter x Hunter (2011)   \n",
       "7       820                               Ginga Eiyuu Densetsu   \n",
       "8     15335  Gintama Movie: Kanketsu-hen - Yorozuya yo Eien...   \n",
       "9     15417                           Gintama&#039;: Enchousen   \n",
       "\n",
       "                                               genre   type episodes  rating  \\\n",
       "0               Drama, Romance, School, Supernatural  Movie        1    9.37   \n",
       "1  Action, Adventure, Drama, Fantasy, Magic, Mili...     TV       64    9.26   \n",
       "2  Action, Comedy, Historical, Parody, Samurai, S...     TV       51    9.25   \n",
       "3                                   Sci-Fi, Thriller     TV       24    9.17   \n",
       "4  Action, Comedy, Historical, Parody, Samurai, S...     TV       51    9.16   \n",
       "5             Comedy, Drama, School, Shounen, Sports     TV       10    9.15   \n",
       "6            Action, Adventure, Shounen, Super Power     TV      148    9.13   \n",
       "7                     Drama, Military, Sci-Fi, Space    OVA      110    9.11   \n",
       "8  Action, Comedy, Historical, Parody, Samurai, S...  Movie        1    9.10   \n",
       "9  Action, Comedy, Historical, Parody, Samurai, S...     TV       13    9.11   \n",
       "\n",
       "   members  \n",
       "0   200630  \n",
       "1   793665  \n",
       "2   114262  \n",
       "3   673572  \n",
       "4   151266  \n",
       "5    93351  \n",
       "6   425855  \n",
       "7    80679  \n",
       "8    72534  \n",
       "9    81109  "
      ]
     },
     "execution_count": 8,
     "metadata": {},
     "output_type": "execute_result"
    }
   ],
   "source": [
    "print(items.shape)\n",
    "items.head(10)\n"
   ]
  },
  {
   "cell_type": "code",
   "execution_count": 9,
   "metadata": {},
   "outputs": [
    {
     "name": "stdout",
     "output_type": "stream",
     "text": [
      "User count: 73515\n",
      "Item count: 11200\n",
      "Ratings count: 7813737\n",
      "interactions / (users * items) : 0.009489969248258373\n"
     ]
    }
   ],
   "source": [
    "user_count = ratings.user_id.nunique()\n",
    "item_count = ratings.anime_id.nunique()\n",
    "rating_count = ratings.shape[0]\n",
    "print(\n",
    "    f\"User count: {user_count}\",\n",
    "    f\"Item count: {item_count}\",\n",
    "    f\"Ratings count: {rating_count}\",\n",
    "    f\"interactions / (users * items) : {rating_count / (user_count * item_count)}\",\n",
    "    sep=\"\\n\",\n",
    ")\n"
   ]
  },
  {
   "cell_type": "code",
   "execution_count": 10,
   "metadata": {},
   "outputs": [
    {
     "data": {
      "image/png": "[encoded data removed]",
      "text/plain": [
       "<Figure size 864x648 with 1 Axes>"
      ]
     },
     "metadata": {
      "needs_background": "light"
     },
     "output_type": "display_data"
    }
   ],
   "source": [
    "ratings_group = ratings.groupby(\"user_id\")\n",
    "ratings_group_count = ratings_group.count()\n",
    "\n",
    "plt.figure(figsize=(12, 9))\n",
    "sns.histplot(ratings_group_count.rating)\n",
    "plt.show()\n"
   ]
  },
  {
   "cell_type": "code",
   "execution_count": 11,
   "metadata": {},
   "outputs": [],
   "source": [
    "ratings[\"timestamp\"] = np.arange(ratings.shape[0])\n",
    "\n",
    "ratings.drop(ratings[ratings[\"rating\"] < 7].index, axis=0, inplace=True)\n",
    "ratings[\"rating\"] = np.ones(ratings.shape[0])\n"
   ]
  },
  {
   "cell_type": "code",
   "execution_count": 12,
   "metadata": {},
   "outputs": [],
   "source": [
    "items.drop(\"name\", axis=1, inplace=True)\n",
    "items.drop(items[items[\"episodes\"] == \"Unknown\"].index, axis=0, inplace=True)\n",
    "items[\"episodes\"] = items[\"episodes\"].astype(int)\n",
    "items.dropna(inplace=True)\n",
    "\n",
    "items[\"members\"], lambda_for_members = ss.boxcox(items.members)\n",
    "\n",
    "items[\"is_film\"] = items[\"episodes\"].apply(lambda x: 1 if x == 1 else 0)\n"
   ]
  },
  {
   "cell_type": "code",
   "execution_count": 13,
   "metadata": {},
   "outputs": [
    {
     "name": "stderr",
     "output_type": "stream",
     "text": [
      "22/07/20 15:43:34 WARN TaskSetManager: Stage 0 contains a task of very large size (13627 KiB). The maximum recommended task size is 1000 KiB.\n",
      "22/07/20 15:43:35 WARN TaskSetManager: Stage 1 contains a task of very large size (13627 KiB). The maximum recommended task size is 1000 KiB.\n",
      "22/07/20 15:43:35 WARN TaskSetManager: Stage 3 contains a task of very large size (13627 KiB). The maximum recommended task size is 1000 KiB.\n",
      "20-Jul-22 15:43:36, replay, INFO: Column with ids of users or items is absent in mapping. The dataframe will be treated as a users'/items' features dataframe.\n"
     ]
    }
   ],
   "source": [
    "data_prep = DataPreparator()\n",
    "log = data_prep.transform(\n",
    "    data=ratings,\n",
    "    columns_mapping={\"relevance\": \"rating\", \"item_id\": \"anime_id\"},\n",
    ")\n",
    "item_features = data_prep.transform(\n",
    "    data=items,\n",
    "    columns_mapping={\"item_id\": \"anime_id\"},\n",
    ")\n"
   ]
  },
  {
   "cell_type": "code",
   "execution_count": 14,
   "metadata": {},
   "outputs": [],
   "source": [
    "item_id = item_features.select(sf.col(\"item_id\").alias(\"item_id_\"))\n",
    "log = log.join(\n",
    "    item_id,\n",
    "    log.item_id == item_id.item_id_,\n",
    "    \"inner\",\n",
    ").drop(sf.col(\"item_id_\"))\n"
   ]
  },
  {
   "cell_type": "code",
   "execution_count": 15,
   "metadata": {},
   "outputs": [
    {
     "name": "stderr",
     "output_type": "stream",
     "text": [
      "22/07/20 15:43:37 WARN TaskSetManager: Stage 8 contains a task of very large size (13627 KiB). The maximum recommended task size is 1000 KiB.\n",
      "22/07/20 15:43:39 WARN TaskSetManager: Stage 12 contains a task of very large size (13627 KiB). The maximum recommended task size is 1000 KiB.\n",
      "20-Jul-22 15:43:41, replay, INFO: current threshold removes 0.022639610773801364% of data\n"
     ]
    }
   ],
   "source": [
    "log = filter_by_min_count(\n",
    "    log,\n",
    "    num_entries=15,  # 10 test/val, 5 train\n",
    "    group_by=\"user_id\",\n",
    ")\n"
   ]
  },
  {
   "cell_type": "code",
   "execution_count": 16,
   "metadata": {},
   "outputs": [
    {
     "name": "stderr",
     "output_type": "stream",
     "text": [
      "22/07/20 15:43:43 WARN TaskSetManager: Stage 19 contains a task of very large size (13627 KiB). The maximum recommended task size is 1000 KiB.\n",
      "22/07/20 15:43:45 WARN TaskSetManager: Stage 26 contains a task of very large size (13627 KiB). The maximum recommended task size is 1000 KiB.\n",
      "22/07/20 15:43:47 WARN TaskSetManager: Stage 32 contains a task of very large size (13627 KiB). The maximum recommended task size is 1000 KiB.\n"
     ]
    }
   ],
   "source": [
    "indexer = Indexer(user_col=\"user_id\", item_col=\"item_id\")\n",
    "indexer.fit(users=log.select(\"user_id\").distinct(), items=item_features.select(\"item_id\"))\n",
    "log = indexer.transform(log)\n",
    "item_features = indexer.transform(item_features)\n"
   ]
  },
  {
   "cell_type": "code",
   "execution_count": 17,
   "metadata": {},
   "outputs": [
    {
     "name": "stderr",
     "output_type": "stream",
     "text": [
      "22/07/20 15:43:49 WARN TaskSetManager: Stage 39 contains a task of very large size (13627 KiB). The maximum recommended task size is 1000 KiB.\n",
      "22/07/20 15:43:49 WARN DAGScheduler: Broadcasting large task binary with size 1800.1 KiB\n",
      "22/07/20 15:43:50 WARN DAGScheduler: Broadcasting large task binary with size 1790.2 KiB\n",
      "22/07/20 15:43:51 WARN TaskSetManager: Stage 48 contains a task of very large size (13627 KiB). The maximum recommended task size is 1000 KiB.\n",
      "22/07/20 15:43:51 WARN TaskSetManager: Stage 47 contains a task of very large size (13627 KiB). The maximum recommended task size is 1000 KiB.\n",
      "22/07/20 15:43:52 WARN DAGScheduler: Broadcasting large task binary with size 2.2 MiB\n",
      "22/07/20 15:43:52 WARN DAGScheduler: Broadcasting large task binary with size 1801.3 KiB\n",
      "22/07/20 15:43:54 WARN DAGScheduler: Broadcasting large task binary with size 2.2 MiB\n",
      "22/07/20 15:43:57 WARN TaskSetManager: Stage 66 contains a task of very large size (13627 KiB). The maximum recommended task size is 1000 KiB.\n",
      "22/07/20 15:43:57 WARN TaskSetManager: Stage 64 contains a task of very large size (13627 KiB). The maximum recommended task size is 1000 KiB.\n",
      "22/07/20 15:43:57 WARN DAGScheduler: Broadcasting large task binary with size 2.2 MiB\n",
      "22/07/20 15:43:58 WARN DAGScheduler: Broadcasting large task binary with size 2.2 MiB\n",
      "22/07/20 15:43:58 WARN DAGScheduler: Broadcasting large task binary with size 1801.4 KiB\n",
      "22/07/20 15:44:00 WARN DAGScheduler: Broadcasting large task binary with size 2.2 MiB\n",
      "22/07/20 15:44:00 WARN DAGScheduler: Broadcasting large task binary with size 2.2 MiB\n",
      "22/07/20 15:44:01 WARN DAGScheduler: Broadcasting large task binary with size 2.3 MiB\n",
      "                                                                                \r"
     ]
    }
   ],
   "source": [
    "train, test = UserSplitter(\n",
    "    item_test_size=10,\n",
    "    shuffle=False,\n",
    "    seed=seed,\n",
    "    drop_cold_items=True,\n",
    "    drop_cold_users=True,\n",
    ").split(log)\n"
   ]
  },
  {
   "cell_type": "code",
   "execution_count": 18,
   "metadata": {},
   "outputs": [],
   "source": [
    "cat_feat_prep = CatFeaturesTransformer(cat_cols_list=[\"type\"])\n",
    "cat_feat_prep.fit(item_features)\n",
    "item_features = cat_feat_prep.transform(item_features)\n"
   ]
  },
  {
   "cell_type": "code",
   "execution_count": 19,
   "metadata": {},
   "outputs": [],
   "source": [
    "item_features = (\n",
    "    item_features.withColumn(\"genre_collection\", sf.split(\"genre\", \", \"))\n",
    "    .drop(\"genre\")\n",
    "    .withColumnRenamed(\"genre_collection\", \"genre\")\n",
    ")\n",
    "genres_list = (\n",
    "    item_features.select(sf.explode(\"genre\").alias(\"genre\"))\n",
    "    .distinct()\n",
    "    .toPandas()\n",
    "    .genre.tolist()\n",
    ")\n"
   ]
  },
  {
   "cell_type": "code",
   "execution_count": 20,
   "metadata": {},
   "outputs": [],
   "source": [
    "for genre in genres_list:\n",
    "    item_features = item_features.withColumn(\n",
    "        f\"genre_{genre}\",\n",
    "        sf.array_contains(sf.col(\"genre\"), genre).astype(IntegerType()),\n",
    "    )\n",
    "item_features = item_features.drop(\"genre\")\n"
   ]
  },
  {
   "cell_type": "code",
   "execution_count": 21,
   "metadata": {},
   "outputs": [
    {
     "name": "stderr",
     "output_type": "stream",
     "text": [
      "22/07/20 15:44:03 WARN DAGScheduler: Broadcasting large task binary with size 2.2 MiB\n",
      "22/07/20 15:44:11 WARN DAGScheduler: Broadcasting large task binary with size 2.3 MiB\n",
      "22/07/20 15:44:12 WARN package: Truncated the string representation of a plan since it was too large. This behavior can be adjusted by setting 'spark.sql.debug.maxToStringFields'.\n"
     ]
    }
   ],
   "source": [
    "train.toPandas().to_csv(\n",
    "    f\"{data_path}train.csv\",\n",
    "    index=False,\n",
    ")\n",
    "test.toPandas().to_csv(\n",
    "    f\"{data_path}test.csv\",\n",
    "    index=False,\n",
    ")\n",
    "item_features.toPandas().to_csv(\n",
    "    f\"{data_path}item_features.csv\",\n",
    "    index=False,\n",
    ")\n"
   ]
  },
  {
   "cell_type": "markdown",
   "metadata": {},
   "source": [
    "# BookCrossing data"
   ]
  },
  {
   "cell_type": "code",
   "execution_count": 58,
   "metadata": {},
   "outputs": [],
   "source": [
    "data_path = \"data/bookcrossing/\"\n",
    "ratings_file_name = \"ratings.csv\"\n",
    "items_file_name = \"items.csv\"\n",
    "users_file_name = \"users.csv\"\n",
    "\n",
    "ratings = pd.read_csv(f\"{data_path}{ratings_file_name}\")\n",
    "items = pd.read_csv(f\"{data_path}{items_file_name}\")\n",
    "users = pd.read_csv(f\"{data_path}{users_file_name}\")\n"
   ]
  },
  {
   "cell_type": "code",
   "execution_count": 59,
   "metadata": {},
   "outputs": [
    {
     "name": "stdout",
     "output_type": "stream",
     "text": [
      "(1149780, 3)\n",
      "interactions\n"
     ]
    },
    {
     "data": {
      "text/html": [
       "<div>\n",
       "<style scoped>\n",
       "    .dataframe tbody tr th:only-of-type {\n",
       "        vertical-align: middle;\n",
       "    }\n",
       "\n",
       "    .dataframe tbody tr th {\n",
       "        vertical-align: top;\n",
       "    }\n",
       "\n",
       "    .dataframe thead th {\n",
       "        text-align: right;\n",
       "    }\n",
       "</style>\n",
       "<table border=\"1\" class=\"dataframe\">\n",
       "  <thead>\n",
       "    <tr style=\"text-align: right;\">\n",
       "      <th></th>\n",
       "      <th>user_id</th>\n",
       "      <th>item_id</th>\n",
       "      <th>rating</th>\n",
       "    </tr>\n",
       "  </thead>\n",
       "  <tbody>\n",
       "    <tr>\n",
       "      <th>0</th>\n",
       "      <td>276725</td>\n",
       "      <td>034545104X</td>\n",
       "      <td>0</td>\n",
       "    </tr>\n",
       "    <tr>\n",
       "      <th>1</th>\n",
       "      <td>276726</td>\n",
       "      <td>0155061224</td>\n",
       "      <td>5</td>\n",
       "    </tr>\n",
       "    <tr>\n",
       "      <th>2</th>\n",
       "      <td>276727</td>\n",
       "      <td>0446520802</td>\n",
       "      <td>0</td>\n",
       "    </tr>\n",
       "    <tr>\n",
       "      <th>3</th>\n",
       "      <td>276729</td>\n",
       "      <td>052165615X</td>\n",
       "      <td>3</td>\n",
       "    </tr>\n",
       "    <tr>\n",
       "      <th>4</th>\n",
       "      <td>276729</td>\n",
       "      <td>0521795028</td>\n",
       "      <td>6</td>\n",
       "    </tr>\n",
       "  </tbody>\n",
       "</table>\n",
       "</div>"
      ],
      "text/plain": [
       "   user_id     item_id  rating\n",
       "0   276725  034545104X       0\n",
       "1   276726  0155061224       5\n",
       "2   276727  0446520802       0\n",
       "3   276729  052165615X       3\n",
       "4   276729  0521795028       6"
      ]
     },
     "execution_count": 59,
     "metadata": {},
     "output_type": "execute_result"
    }
   ],
   "source": [
    "print(ratings.shape)\n",
    "print(\"interactions\")\n",
    "ratings.head()\n"
   ]
  },
  {
   "cell_type": "code",
   "execution_count": 60,
   "metadata": {},
   "outputs": [
    {
     "data": {
      "image/png": "[encoded data removed]",
      "text/plain": [
       "<Figure size 864x648 with 1 Axes>"
      ]
     },
     "metadata": {
      "needs_background": "light"
     },
     "output_type": "display_data"
    }
   ],
   "source": [
    "plt.figure(figsize=(12, 9))\n",
    "sns.histplot(ratings[\"rating\"])\n",
    "plt.show()\n"
   ]
  },
  {
   "cell_type": "code",
   "execution_count": 61,
   "metadata": {},
   "outputs": [
    {
     "data": {
      "text/plain": [
       "(326344, 3)"
      ]
     },
     "execution_count": 61,
     "metadata": {},
     "output_type": "execute_result"
    }
   ],
   "source": [
    "ratings[ratings[\"rating\"] > 6].shape\n"
   ]
  },
  {
   "cell_type": "code",
   "execution_count": 62,
   "metadata": {},
   "outputs": [
    {
     "name": "stdout",
     "output_type": "stream",
     "text": [
      "(271379, 8)\n",
      "items\n"
     ]
    },
    {
     "data": {
      "text/html": [
       "<div>\n",
       "<style scoped>\n",
       "    .dataframe tbody tr th:only-of-type {\n",
       "        vertical-align: middle;\n",
       "    }\n",
       "\n",
       "    .dataframe tbody tr th {\n",
       "        vertical-align: top;\n",
       "    }\n",
       "\n",
       "    .dataframe thead th {\n",
       "        text-align: right;\n",
       "    }\n",
       "</style>\n",
       "<table border=\"1\" class=\"dataframe\">\n",
       "  <thead>\n",
       "    <tr style=\"text-align: right;\">\n",
       "      <th></th>\n",
       "      <th>item_id</th>\n",
       "      <th>title</th>\n",
       "      <th>author</th>\n",
       "      <th>year</th>\n",
       "      <th>publisher</th>\n",
       "      <th>img_s</th>\n",
       "      <th>img_m</th>\n",
       "      <th>img_l</th>\n",
       "    </tr>\n",
       "  </thead>\n",
       "  <tbody>\n",
       "    <tr>\n",
       "      <th>0</th>\n",
       "      <td>0195153448</td>\n",
       "      <td>Classical Mythology</td>\n",
       "      <td>Mark P. O. Morford</td>\n",
       "      <td>2002</td>\n",
       "      <td>Oxford University Press</td>\n",
       "      <td>http://images.amazon.com/images/P/0195153448.0...</td>\n",
       "      <td>http://images.amazon.com/images/P/0195153448.0...</td>\n",
       "      <td>http://images.amazon.com/images/P/0195153448.0...</td>\n",
       "    </tr>\n",
       "    <tr>\n",
       "      <th>1</th>\n",
       "      <td>0002005018</td>\n",
       "      <td>Clara Callan</td>\n",
       "      <td>Richard Bruce Wright</td>\n",
       "      <td>2001</td>\n",
       "      <td>HarperFlamingo Canada</td>\n",
       "      <td>http://images.amazon.com/images/P/0002005018.0...</td>\n",
       "      <td>http://images.amazon.com/images/P/0002005018.0...</td>\n",
       "      <td>http://images.amazon.com/images/P/0002005018.0...</td>\n",
       "    </tr>\n",
       "    <tr>\n",
       "      <th>2</th>\n",
       "      <td>0060973129</td>\n",
       "      <td>Decision in Normandy</td>\n",
       "      <td>Carlo D'Este</td>\n",
       "      <td>1991</td>\n",
       "      <td>HarperPerennial</td>\n",
       "      <td>http://images.amazon.com/images/P/0060973129.0...</td>\n",
       "      <td>http://images.amazon.com/images/P/0060973129.0...</td>\n",
       "      <td>http://images.amazon.com/images/P/0060973129.0...</td>\n",
       "    </tr>\n",
       "    <tr>\n",
       "      <th>3</th>\n",
       "      <td>0374157065</td>\n",
       "      <td>Flu: The Story of the Great Influenza Pandemic...</td>\n",
       "      <td>Gina Bari Kolata</td>\n",
       "      <td>1999</td>\n",
       "      <td>Farrar Straus Giroux</td>\n",
       "      <td>http://images.amazon.com/images/P/0374157065.0...</td>\n",
       "      <td>http://images.amazon.com/images/P/0374157065.0...</td>\n",
       "      <td>http://images.amazon.com/images/P/0374157065.0...</td>\n",
       "    </tr>\n",
       "    <tr>\n",
       "      <th>4</th>\n",
       "      <td>0393045218</td>\n",
       "      <td>The Mummies of Urumchi</td>\n",
       "      <td>E. J. W. Barber</td>\n",
       "      <td>1999</td>\n",
       "      <td>W. W. Norton &amp;amp; Company</td>\n",
       "      <td>http://images.amazon.com/images/P/0393045218.0...</td>\n",
       "      <td>http://images.amazon.com/images/P/0393045218.0...</td>\n",
       "      <td>http://images.amazon.com/images/P/0393045218.0...</td>\n",
       "    </tr>\n",
       "  </tbody>\n",
       "</table>\n",
       "</div>"
      ],
      "text/plain": [
       "      item_id                                              title  \\\n",
       "0  0195153448                                Classical Mythology   \n",
       "1  0002005018                                       Clara Callan   \n",
       "2  0060973129                               Decision in Normandy   \n",
       "3  0374157065  Flu: The Story of the Great Influenza Pandemic...   \n",
       "4  0393045218                             The Mummies of Urumchi   \n",
       "\n",
       "                 author  year                   publisher  \\\n",
       "0    Mark P. O. Morford  2002     Oxford University Press   \n",
       "1  Richard Bruce Wright  2001       HarperFlamingo Canada   \n",
       "2          Carlo D'Este  1991             HarperPerennial   \n",
       "3      Gina Bari Kolata  1999        Farrar Straus Giroux   \n",
       "4       E. J. W. Barber  1999  W. W. Norton &amp; Company   \n",
       "\n",
       "                                               img_s  \\\n",
       "0  http://images.amazon.com/images/P/0195153448.0...   \n",
       "1  http://images.amazon.com/images/P/0002005018.0...   \n",
       "2  http://images.amazon.com/images/P/0060973129.0...   \n",
       "3  http://images.amazon.com/images/P/0374157065.0...   \n",
       "4  http://images.amazon.com/images/P/0393045218.0...   \n",
       "\n",
       "                                               img_m  \\\n",
       "0  http://images.amazon.com/images/P/0195153448.0...   \n",
       "1  http://images.amazon.com/images/P/0002005018.0...   \n",
       "2  http://images.amazon.com/images/P/0060973129.0...   \n",
       "3  http://images.amazon.com/images/P/0374157065.0...   \n",
       "4  http://images.amazon.com/images/P/0393045218.0...   \n",
       "\n",
       "                                               img_l  \n",
       "0  http://images.amazon.com/images/P/0195153448.0...  \n",
       "1  http://images.amazon.com/images/P/0002005018.0...  \n",
       "2  http://images.amazon.com/images/P/0060973129.0...  \n",
       "3  http://images.amazon.com/images/P/0374157065.0...  \n",
       "4  http://images.amazon.com/images/P/0393045218.0...  "
      ]
     },
     "execution_count": 62,
     "metadata": {},
     "output_type": "execute_result"
    }
   ],
   "source": [
    "print(items.shape)\n",
    "print(\"items\")\n",
    "items.head()\n"
   ]
  },
  {
   "cell_type": "code",
   "execution_count": 63,
   "metadata": {},
   "outputs": [
    {
     "name": "stdout",
     "output_type": "stream",
     "text": [
      "(278858, 3)\n",
      "users\n"
     ]
    },
    {
     "data": {
      "text/html": [
       "<div>\n",
       "<style scoped>\n",
       "    .dataframe tbody tr th:only-of-type {\n",
       "        vertical-align: middle;\n",
       "    }\n",
       "\n",
       "    .dataframe tbody tr th {\n",
       "        vertical-align: top;\n",
       "    }\n",
       "\n",
       "    .dataframe thead th {\n",
       "        text-align: right;\n",
       "    }\n",
       "</style>\n",
       "<table border=\"1\" class=\"dataframe\">\n",
       "  <thead>\n",
       "    <tr style=\"text-align: right;\">\n",
       "      <th></th>\n",
       "      <th>user_id</th>\n",
       "      <th>location</th>\n",
       "      <th>age</th>\n",
       "    </tr>\n",
       "  </thead>\n",
       "  <tbody>\n",
       "    <tr>\n",
       "      <th>0</th>\n",
       "      <td>1</td>\n",
       "      <td>nyc, new york, usa</td>\n",
       "      <td>NaN</td>\n",
       "    </tr>\n",
       "    <tr>\n",
       "      <th>1</th>\n",
       "      <td>2</td>\n",
       "      <td>stockton, california, usa</td>\n",
       "      <td>18.0</td>\n",
       "    </tr>\n",
       "    <tr>\n",
       "      <th>2</th>\n",
       "      <td>3</td>\n",
       "      <td>moscow, yukon territory, russia</td>\n",
       "      <td>NaN</td>\n",
       "    </tr>\n",
       "    <tr>\n",
       "      <th>3</th>\n",
       "      <td>4</td>\n",
       "      <td>porto, v.n.gaia, portugal</td>\n",
       "      <td>17.0</td>\n",
       "    </tr>\n",
       "    <tr>\n",
       "      <th>4</th>\n",
       "      <td>5</td>\n",
       "      <td>farnborough, hants, united kingdom</td>\n",
       "      <td>NaN</td>\n",
       "    </tr>\n",
       "  </tbody>\n",
       "</table>\n",
       "</div>"
      ],
      "text/plain": [
       "   user_id                            location   age\n",
       "0        1                  nyc, new york, usa   NaN\n",
       "1        2           stockton, california, usa  18.0\n",
       "2        3     moscow, yukon territory, russia   NaN\n",
       "3        4           porto, v.n.gaia, portugal  17.0\n",
       "4        5  farnborough, hants, united kingdom   NaN"
      ]
     },
     "execution_count": 63,
     "metadata": {},
     "output_type": "execute_result"
    }
   ],
   "source": [
    "print(users.shape)\n",
    "print(\"users\")\n",
    "users.head()\n"
   ]
  },
  {
   "cell_type": "code",
   "execution_count": 65,
   "metadata": {},
   "outputs": [
    {
     "name": "stdout",
     "output_type": "stream",
     "text": [
      "User count: 105283\n",
      "Item count: 340556\n",
      "Ratings count: 1149780\n",
      "interactions / (users * items) : 3.206771109452608e-05\n"
     ]
    }
   ],
   "source": [
    "user_count = ratings.user_id.nunique()\n",
    "item_count = ratings.item_id.nunique()\n",
    "rating_count = ratings.shape[0]\n",
    "print(\n",
    "    f\"User count: {user_count}\",\n",
    "    f\"Item count: {item_count}\",\n",
    "    f\"Ratings count: {rating_count}\",\n",
    "    f\"interactions / (users * items) : {rating_count / (user_count * item_count)}\",\n",
    "    sep=\"\\n\",\n",
    ")\n"
   ]
  },
  {
   "cell_type": "code",
   "execution_count": 67,
   "metadata": {},
   "outputs": [
    {
     "data": {
      "image/png": "[encoded data removed]",
      "text/plain": [
       "<Figure size 864x648 with 1 Axes>"
      ]
     },
     "metadata": {
      "needs_background": "light"
     },
     "output_type": "display_data"
    },
    {
     "data": {
      "text/plain": [
       "1     59166\n",
       "2     12502\n",
       "3      6534\n",
       "4      4265\n",
       "5      3099\n",
       "6      2334\n",
       "7      1725\n",
       "8      1388\n",
       "9      1173\n",
       "10     1044\n",
       "11      856\n",
       "12      729\n",
       "13      612\n",
       "14      514\n",
       "15      489\n",
       "16      457\n",
       "17      380\n",
       "18      327\n",
       "19      320\n",
       "20      291\n",
       "Name: item_id, dtype: int64"
      ]
     },
     "execution_count": 67,
     "metadata": {},
     "output_type": "execute_result"
    }
   ],
   "source": [
    "ratings_group = ratings.groupby(\"user_id\")\n",
    "ratings_group_count = ratings_group.count()\n",
    "\n",
    "plt.figure(figsize=(12, 9))\n",
    "sns.histplot(ratings_group_count.rating)\n",
    "plt.ylim((0, 20))\n",
    "plt.show()\n",
    "\n",
    "ratings_group_count[\"item_id\"].value_counts().head(20)\n"
   ]
  },
  {
   "cell_type": "code",
   "execution_count": 68,
   "metadata": {},
   "outputs": [
    {
     "name": "stderr",
     "output_type": "stream",
     "text": [
      "/tmp/ipykernel_1433046/2665446480.py:3: SettingWithCopyWarning: \n",
      "A value is trying to be set on a copy of a slice from a DataFrame.\n",
      "Try using .loc[row_indexer,col_indexer] = value instead\n",
      "\n",
      "See the caveats in the documentation: https://pandas.pydata.org/pandas-docs/stable/user_guide/indexing.html#returning-a-view-versus-a-copy\n",
      "  ratings[\"rating\"] = np.ones(ratings.shape[0])\n"
     ]
    }
   ],
   "source": [
    "ratings[\"timestamp\"] = np.arange(ratings.shape[0])\n",
    "ratings = ratings[(ratings[\"rating\"] < 7) | (ratings[\"rating\"] == 0)]\n",
    "ratings[\"rating\"] = np.ones(ratings.shape[0])\n",
    "\n",
    "item_features_to_drop = [\"title\", \"img_s\", \"img_m\", \"img_l\", \"author\"]\n",
    "items.drop(item_features_to_drop, axis=1, inplace=True)\n",
    "\n",
    "user_features_to_drop = [\"age\"]\n",
    "users.drop(user_features_to_drop, axis=1, inplace=True)\n",
    "items.dropna(inplace=True)\n"
   ]
  },
  {
   "cell_type": "code",
   "execution_count": 69,
   "metadata": {},
   "outputs": [],
   "source": [
    "users[\"country\"] = users.location.apply(lambda x: x.split(\", \")[-1])\n",
    "users.drop(\"location\", axis=1, inplace=True)\n",
    "country_categories = set(users.country.value_counts()[:7].index.tolist())\n",
    "users[\"country\"] = users[\"country\"].apply(\n",
    "    lambda x: x if x in country_categories else \"other\"\n",
    ")\n"
   ]
  },
  {
   "cell_type": "code",
   "execution_count": 70,
   "metadata": {},
   "outputs": [],
   "source": [
    "item_publisher_to_other = set(\n",
    "    items.publisher.value_counts()[items.publisher.value_counts() < 2].index\n",
    ")\n",
    "items[\"publisher\"] = items[\"publisher\"].apply(\n",
    "    lambda x: \"other\" if x in item_publisher_to_other else x\n",
    ")\n"
   ]
  },
  {
   "cell_type": "code",
   "execution_count": 71,
   "metadata": {},
   "outputs": [
    {
     "name": "stderr",
     "output_type": "stream",
     "text": [
      "20-Jul-22 15:06:55, replay, INFO: Column with ids of users or items is absent in mapping. The dataframe will be treated as a users'/items' features dataframe.\n",
      "22/07/20 15:06:55 WARN TaskSetManager: Stage 352 contains a task of very large size (2551 KiB). The maximum recommended task size is 1000 KiB.\n",
      "22/07/20 15:06:55 WARN TaskSetManager: Stage 353 contains a task of very large size (2551 KiB). The maximum recommended task size is 1000 KiB.\n",
      "22/07/20 15:06:55 WARN TaskSetManager: Stage 355 contains a task of very large size (2551 KiB). The maximum recommended task size is 1000 KiB.\n",
      "20-Jul-22 15:06:55, replay, INFO: Column with ids of users or items is absent in mapping. The dataframe will be treated as a users'/items' features dataframe.\n",
      "20-Jul-22 15:06:56, replay, INFO: Column with ids of users or items is absent in mapping. The dataframe will be treated as a users'/items' features dataframe.\n"
     ]
    }
   ],
   "source": [
    "data_prep = DataPreparator()\n",
    "log = data_prep.transform(\n",
    "    data=ratings, columns_mapping={\"relevance\": \"rating\", \"item_id\": \"item_id\"}\n",
    ")\n",
    "user_features = data_prep.transform(data=users, columns_mapping={\"user_id\": \"user_id\"})\n",
    "item_features = data_prep.transform(data=items, columns_mapping={\"item_id\": \"item_id\"})\n"
   ]
  },
  {
   "cell_type": "code",
   "execution_count": 72,
   "metadata": {},
   "outputs": [
    {
     "name": "stderr",
     "output_type": "stream",
     "text": [
      "22/07/20 15:06:59 WARN TaskSetManager: Stage 363 contains a task of very large size (2551 KiB). The maximum recommended task size is 1000 KiB.\n",
      "22/07/20 15:06:59 WARN TaskSetManager: Stage 365 contains a task of very large size (2551 KiB). The maximum recommended task size is 1000 KiB.\n",
      "22/07/20 15:06:59 WARN TaskSetManager: Stage 366 contains a task of very large size (2551 KiB). The maximum recommended task size is 1000 KiB.\n",
      "20-Jul-22 15:06:59, replay, INFO: current threshold removes 0.1931030462598186% of data\n"
     ]
    }
   ],
   "source": [
    "log = filter_by_min_count(\n",
    "    log,\n",
    "    num_entries=15,  # 10 test, 5 train\n",
    "    group_by=\"user_id\",\n",
    ")\n"
   ]
  },
  {
   "cell_type": "code",
   "execution_count": 73,
   "metadata": {},
   "outputs": [
    {
     "name": "stderr",
     "output_type": "stream",
     "text": [
      "22/07/20 15:07:49 WARN TaskSetManager: Stage 374 contains a task of very large size (2551 KiB). The maximum recommended task size is 1000 KiB.\n",
      "22/07/20 15:07:49 WARN TaskSetManager: Stage 375 contains a task of very large size (2551 KiB). The maximum recommended task size is 1000 KiB.\n",
      "22/07/20 15:08:13 WARN TaskSetManager: Stage 378 contains a task of very large size (2551 KiB). The maximum recommended task size is 1000 KiB.\n",
      "22/07/20 15:08:13 WARN TaskSetManager: Stage 379 contains a task of very large size (2551 KiB). The maximum recommended task size is 1000 KiB.\n"
     ]
    }
   ],
   "source": [
    "indexer = Indexer(user_col=\"user_id\", item_col=\"item_id\")\n",
    "indexer.fit(users=user_features.select(\"user_id\").distinct(), items=item_features.select(\"item_id\"))\n",
    "log = indexer.transform(log)\n",
    "item_features = indexer.transform(item_features)\n",
    "user_features = indexer.transform(user_features)\n",
    "\n"
   ]
  },
  {
   "cell_type": "code",
   "execution_count": 74,
   "metadata": {},
   "outputs": [
    {
     "name": "stderr",
     "output_type": "stream",
     "text": [
      "22/07/20 15:09:11 WARN TaskSetManager: Stage 385 contains a task of very large size (2551 KiB). The maximum recommended task size is 1000 KiB.\n",
      "22/07/20 15:09:11 WARN TaskSetManager: Stage 386 contains a task of very large size (2551 KiB). The maximum recommended task size is 1000 KiB.\n",
      "22/07/20 15:09:12 WARN DAGScheduler: Broadcasting large task binary with size 8.0 MiB\n",
      "22/07/20 15:09:12 WARN DAGScheduler: Broadcasting large task binary with size 8.0 MiB\n",
      "22/07/20 15:09:15 WARN TaskSetManager: Stage 391 contains a task of very large size (2551 KiB). The maximum recommended task size is 1000 KiB.\n",
      "22/07/20 15:09:15 WARN TaskSetManager: Stage 390 contains a task of very large size (2551 KiB). The maximum recommended task size is 1000 KiB.\n",
      "22/07/20 15:09:15 WARN TaskSetManager: Stage 392 contains a task of very large size (2551 KiB). The maximum recommended task size is 1000 KiB.\n",
      "22/07/20 15:09:15 WARN DAGScheduler: Broadcasting large task binary with size 17.6 MiB\n",
      "22/07/20 15:09:15 WARN DAGScheduler: Broadcasting large task binary with size 8.0 MiB\n",
      "22/07/20 15:09:17 WARN DAGScheduler: Broadcasting large task binary with size 17.6 MiB\n",
      "22/07/20 15:09:20 WARN DAGScheduler: Broadcasting large task binary with size 17.6 MiB\n",
      "22/07/20 15:09:21 WARN DAGScheduler: Broadcasting large task binary with size 17.6 MiB\n",
      "22/07/20 15:09:22 WARN DAGScheduler: Broadcasting large task binary with size 17.6 MiB\n",
      "22/07/20 15:09:25 WARN TaskSetManager: Stage 406 contains a task of very large size (2551 KiB). The maximum recommended task size is 1000 KiB.\n",
      "22/07/20 15:09:25 WARN TaskSetManager: Stage 407 contains a task of very large size (2551 KiB). The maximum recommended task size is 1000 KiB.\n",
      "22/07/20 15:09:25 WARN TaskSetManager: Stage 405 contains a task of very large size (2551 KiB). The maximum recommended task size is 1000 KiB.\n",
      "22/07/20 15:09:25 WARN DAGScheduler: Broadcasting large task binary with size 8.0 MiB\n",
      "22/07/20 15:09:26 WARN DAGScheduler: Broadcasting large task binary with size 17.6 MiB\n",
      "22/07/20 15:09:27 WARN DAGScheduler: Broadcasting large task binary with size 17.6 MiB\n",
      "                                                                                \r"
     ]
    }
   ],
   "source": [
    "train, test = UserSplitter(\n",
    "    item_test_size=10,\n",
    "    shuffle=False,\n",
    "    drop_cold_items=True,\n",
    "    drop_cold_users=True,\n",
    ").split(\n",
    "    log.withColumnRenamed(\"user_id\", \"user_idx\").withColumnRenamed(\n",
    "        \"item_id\", \"item_idx\"\n",
    "    )\n",
    ")\n"
   ]
  },
  {
   "cell_type": "code",
   "execution_count": 75,
   "metadata": {},
   "outputs": [],
   "source": [
    "user_features_ohe_encoder = CatFeaturesTransformer(cat_cols_list=[\"country\"])\n",
    "user_features_ohe_encoder.fit(user_features)\n",
    "user_features = user_features_ohe_encoder.transform(user_features)\n"
   ]
  },
  {
   "cell_type": "code",
   "execution_count": 76,
   "metadata": {},
   "outputs": [
    {
     "name": "stderr",
     "output_type": "stream",
     "text": [
      "22/07/20 15:09:29 WARN DAGScheduler: Broadcasting large task binary with size 17.6 MiB\n",
      "22/07/20 15:09:34 WARN DAGScheduler: Broadcasting large task binary with size 17.6 MiB\n",
      "22/07/20 15:09:35 WARN DAGScheduler: Broadcasting large task binary with size 9.6 MiB\n",
      "22/07/20 15:09:37 WARN DAGScheduler: Broadcasting large task binary with size 7.9 MiB\n",
      "                                                                                \r"
     ]
    }
   ],
   "source": [
    "train.toPandas().to_csv(\n",
    "    f\"{data_path}train.csv\",\n",
    "    index=False,\n",
    ")\n",
    "test.toPandas().to_csv(\n",
    "    f\"{data_path}test.csv\",\n",
    "    index=False,\n",
    ")\n",
    "item_features.toPandas().to_csv(\n",
    "    f\"{data_path}item_features.csv\",\n",
    "    index=False,\n",
    ")\n",
    "user_features.toPandas().to_csv(\n",
    "    f\"{data_path}user_features.csv\",\n",
    "    index=False,\n",
    ")\n"
   ]
  },
  {
   "cell_type": "markdown",
   "metadata": {},
   "source": [
    "# Last fm"
   ]
  },
  {
   "cell_type": "code",
   "execution_count": 5,
   "metadata": {},
   "outputs": [],
   "source": [
    "data_path = \"data/lastfm/\"\n",
    "ratings_file_name = \"ratings.csv\"\n",
    "users_file_name = \"users.csv\"\n",
    "\n",
    "ratings = pd.read_csv(f\"{data_path}{ratings_file_name}\")\n",
    "users = pd.read_csv(f\"{data_path}{users_file_name}\")\n"
   ]
  },
  {
   "cell_type": "code",
   "execution_count": 6,
   "metadata": {},
   "outputs": [
    {
     "name": "stdout",
     "output_type": "stream",
     "text": [
      "(17535654, 4)\n",
      "interactions\n"
     ]
    },
    {
     "data": {
      "text/html": [
       "<div>\n",
       "<style scoped>\n",
       "    .dataframe tbody tr th:only-of-type {\n",
       "        vertical-align: middle;\n",
       "    }\n",
       "\n",
       "    .dataframe tbody tr th {\n",
       "        vertical-align: top;\n",
       "    }\n",
       "\n",
       "    .dataframe thead th {\n",
       "        text-align: right;\n",
       "    }\n",
       "</style>\n",
       "<table border=\"1\" class=\"dataframe\">\n",
       "  <thead>\n",
       "    <tr style=\"text-align: right;\">\n",
       "      <th></th>\n",
       "      <th>user_id</th>\n",
       "      <th>artist_id</th>\n",
       "      <th>artist</th>\n",
       "      <th>plays</th>\n",
       "    </tr>\n",
       "  </thead>\n",
       "  <tbody>\n",
       "    <tr>\n",
       "      <th>0</th>\n",
       "      <td>00000c289a1829a808ac09c00daf10bc3c4e223b</td>\n",
       "      <td>f2fb0ff0-5679-42ec-a55c-15109ce6e320</td>\n",
       "      <td>die Ärzte</td>\n",
       "      <td>1099</td>\n",
       "    </tr>\n",
       "    <tr>\n",
       "      <th>1</th>\n",
       "      <td>00000c289a1829a808ac09c00daf10bc3c4e223b</td>\n",
       "      <td>b3ae82c2-e60b-4551-a76d-6620f1b456aa</td>\n",
       "      <td>melissa etheridge</td>\n",
       "      <td>897</td>\n",
       "    </tr>\n",
       "    <tr>\n",
       "      <th>2</th>\n",
       "      <td>00000c289a1829a808ac09c00daf10bc3c4e223b</td>\n",
       "      <td>3d6bbeb7-f90e-4d10-b440-e153c0d10b53</td>\n",
       "      <td>elvenking</td>\n",
       "      <td>717</td>\n",
       "    </tr>\n",
       "    <tr>\n",
       "      <th>3</th>\n",
       "      <td>00000c289a1829a808ac09c00daf10bc3c4e223b</td>\n",
       "      <td>bbd2ffd7-17f4-4506-8572-c1ea58c3f9a8</td>\n",
       "      <td>juliette &amp; the licks</td>\n",
       "      <td>706</td>\n",
       "    </tr>\n",
       "    <tr>\n",
       "      <th>4</th>\n",
       "      <td>00000c289a1829a808ac09c00daf10bc3c4e223b</td>\n",
       "      <td>8bfac288-ccc5-448d-9573-c33ea2aa5c30</td>\n",
       "      <td>red hot chili peppers</td>\n",
       "      <td>691</td>\n",
       "    </tr>\n",
       "  </tbody>\n",
       "</table>\n",
       "</div>"
      ],
      "text/plain": [
       "                                    user_id  \\\n",
       "0  00000c289a1829a808ac09c00daf10bc3c4e223b   \n",
       "1  00000c289a1829a808ac09c00daf10bc3c4e223b   \n",
       "2  00000c289a1829a808ac09c00daf10bc3c4e223b   \n",
       "3  00000c289a1829a808ac09c00daf10bc3c4e223b   \n",
       "4  00000c289a1829a808ac09c00daf10bc3c4e223b   \n",
       "\n",
       "                              artist_id                 artist  plays  \n",
       "0  f2fb0ff0-5679-42ec-a55c-15109ce6e320              die Ärzte   1099  \n",
       "1  b3ae82c2-e60b-4551-a76d-6620f1b456aa      melissa etheridge    897  \n",
       "2  3d6bbeb7-f90e-4d10-b440-e153c0d10b53              elvenking    717  \n",
       "3  bbd2ffd7-17f4-4506-8572-c1ea58c3f9a8   juliette & the licks    706  \n",
       "4  8bfac288-ccc5-448d-9573-c33ea2aa5c30  red hot chili peppers    691  "
      ]
     },
     "execution_count": 6,
     "metadata": {},
     "output_type": "execute_result"
    }
   ],
   "source": [
    "print(ratings.shape)\n",
    "print(\"interactions\")\n",
    "ratings.head(5)\n"
   ]
  },
  {
   "cell_type": "code",
   "execution_count": 7,
   "metadata": {},
   "outputs": [
    {
     "name": "stdout",
     "output_type": "stream",
     "text": [
      "(359346, 5)\n",
      "users\n"
     ]
    },
    {
     "data": {
      "text/html": [
       "<div>\n",
       "<style scoped>\n",
       "    .dataframe tbody tr th:only-of-type {\n",
       "        vertical-align: middle;\n",
       "    }\n",
       "\n",
       "    .dataframe tbody tr th {\n",
       "        vertical-align: top;\n",
       "    }\n",
       "\n",
       "    .dataframe thead th {\n",
       "        text-align: right;\n",
       "    }\n",
       "</style>\n",
       "<table border=\"1\" class=\"dataframe\">\n",
       "  <thead>\n",
       "    <tr style=\"text-align: right;\">\n",
       "      <th></th>\n",
       "      <th>user_id</th>\n",
       "      <th>gender</th>\n",
       "      <th>age</th>\n",
       "      <th>country</th>\n",
       "      <th>signup_date</th>\n",
       "    </tr>\n",
       "  </thead>\n",
       "  <tbody>\n",
       "    <tr>\n",
       "      <th>0</th>\n",
       "      <td>00001411dc427966b17297bf4d69e7e193135d89</td>\n",
       "      <td>f</td>\n",
       "      <td>NaN</td>\n",
       "      <td>Canada</td>\n",
       "      <td>Dec 4, 2007</td>\n",
       "    </tr>\n",
       "    <tr>\n",
       "      <th>1</th>\n",
       "      <td>00004d2ac9316e22dc007ab2243d6fcb239e707d</td>\n",
       "      <td>NaN</td>\n",
       "      <td>NaN</td>\n",
       "      <td>Germany</td>\n",
       "      <td>Sep 1, 2006</td>\n",
       "    </tr>\n",
       "    <tr>\n",
       "      <th>2</th>\n",
       "      <td>000063d3fe1cf2ba248b9e3c3f0334845a27a6bf</td>\n",
       "      <td>m</td>\n",
       "      <td>19.0</td>\n",
       "      <td>Mexico</td>\n",
       "      <td>Apr 28, 2008</td>\n",
       "    </tr>\n",
       "    <tr>\n",
       "      <th>3</th>\n",
       "      <td>00007a47085b9aab8af55f52ec8846ac479ac4fe</td>\n",
       "      <td>m</td>\n",
       "      <td>28.0</td>\n",
       "      <td>United States</td>\n",
       "      <td>Jan 27, 2006</td>\n",
       "    </tr>\n",
       "    <tr>\n",
       "      <th>4</th>\n",
       "      <td>0000c176103e538d5c9828e695fed4f7ae42dd01</td>\n",
       "      <td>m</td>\n",
       "      <td>20.0</td>\n",
       "      <td>United Kingdom</td>\n",
       "      <td>Jan 14, 2006</td>\n",
       "    </tr>\n",
       "  </tbody>\n",
       "</table>\n",
       "</div>"
      ],
      "text/plain": [
       "                                    user_id gender   age         country  \\\n",
       "0  00001411dc427966b17297bf4d69e7e193135d89      f   NaN          Canada   \n",
       "1  00004d2ac9316e22dc007ab2243d6fcb239e707d    NaN   NaN         Germany   \n",
       "2  000063d3fe1cf2ba248b9e3c3f0334845a27a6bf      m  19.0          Mexico   \n",
       "3  00007a47085b9aab8af55f52ec8846ac479ac4fe      m  28.0   United States   \n",
       "4  0000c176103e538d5c9828e695fed4f7ae42dd01      m  20.0  United Kingdom   \n",
       "\n",
       "    signup_date  \n",
       "0   Dec 4, 2007  \n",
       "1   Sep 1, 2006  \n",
       "2  Apr 28, 2008  \n",
       "3  Jan 27, 2006  \n",
       "4  Jan 14, 2006  "
      ]
     },
     "execution_count": 7,
     "metadata": {},
     "output_type": "execute_result"
    }
   ],
   "source": [
    "print(users.shape)\n",
    "print(\"users\")\n",
    "users.head(5)\n"
   ]
  },
  {
   "cell_type": "code",
   "execution_count": 8,
   "metadata": {},
   "outputs": [
    {
     "data": {
      "text/plain": [
       "user_id            0\n",
       "gender         32775\n",
       "age            74900\n",
       "country            0\n",
       "signup_date        0\n",
       "dtype: int64"
      ]
     },
     "execution_count": 8,
     "metadata": {},
     "output_type": "execute_result"
    }
   ],
   "source": [
    "users.isna().sum()\n"
   ]
  },
  {
   "cell_type": "code",
   "execution_count": 9,
   "metadata": {},
   "outputs": [
    {
     "name": "stdout",
     "output_type": "stream",
     "text": [
      "User count: 358868\n",
      "Item count: 292363\n",
      "Ratings count: 17535654\n",
      "interactions / (users * items) : 0.0001671340063649685\n"
     ]
    }
   ],
   "source": [
    "user_count = ratings.user_id.nunique()\n",
    "item_count = ratings.artist.nunique()\n",
    "rating_count = ratings.shape[0]\n",
    "print(\n",
    "    f\"User count: {user_count}\",\n",
    "    f\"Item count: {item_count}\",\n",
    "    f\"Ratings count: {rating_count}\",\n",
    "    f\"interactions / (users * items) : {rating_count / (user_count * item_count)}\",\n",
    "    sep=\"\\n\",\n",
    ")\n"
   ]
  },
  {
   "cell_type": "code",
   "execution_count": 10,
   "metadata": {},
   "outputs": [
    {
     "data": {
      "image/png": "[encoded data removed]",
      "text/plain": [
       "<Figure size 864x648 with 1 Axes>"
      ]
     },
     "metadata": {
      "needs_background": "light"
     },
     "output_type": "display_data"
    }
   ],
   "source": [
    "ratings_group = ratings.groupby(\"user_id\")\n",
    "ratings_group_count = ratings_group.count()\n",
    "\n",
    "plt.figure(figsize=(12, 9))\n",
    "sns.histplot(ratings_group_count.plays)\n",
    "plt.show()\n"
   ]
  },
  {
   "cell_type": "code",
   "execution_count": 11,
   "metadata": {},
   "outputs": [
    {
     "name": "stdout",
     "output_type": "stream",
     "text": [
      "0.05443730538939532\n"
     ]
    }
   ],
   "source": [
    "ratings.drop(\"artist_id\", axis=1, inplace=True)\n",
    "ratings.dropna(axis=0, inplace=True)\n",
    "ratings[\"plays\"], lambda__ = ss.boxcox(ratings[\"plays\"].values + 1)\n",
    "print(lambda__)\n"
   ]
  },
  {
   "cell_type": "code",
   "execution_count": 12,
   "metadata": {},
   "outputs": [],
   "source": [
    "users[\"age\"].fillna(119, inplace=True)\n",
    "users = users[(users[\"age\"] > 3) & (users[\"age\"] < 120)]\n",
    "users.age[users.age == 119] = np.nan\n"
   ]
  },
  {
   "cell_type": "code",
   "execution_count": 13,
   "metadata": {},
   "outputs": [],
   "source": [
    "ratings = ratings.merge(users[[\"user_id\"]], how=\"inner\", on=\"user_id\")\n",
    "users.gender.fillna(\"nan_value\", inplace=True)\n"
   ]
  },
  {
   "cell_type": "code",
   "execution_count": 14,
   "metadata": {},
   "outputs": [],
   "source": [
    "countries = set(\n",
    "    users.groupby(\"country\")\n",
    "    .count()\n",
    "    .sort_values(\"user_id\", ascending=False)\n",
    "    .head(25)\n",
    "    .index.tolist()\n",
    ")\n",
    "users[\"country\"] = users[\"country\"].apply(lambda x: x if x in countries else \"other\")\n"
   ]
  },
  {
   "cell_type": "code",
   "execution_count": 15,
   "metadata": {},
   "outputs": [],
   "source": [
    "target = users.dropna().age.copy()\n",
    "X = users.dropna()[[\"country\"]]\n",
    "\n",
    "X_train, X_test, y_train, y_test = train_test_split(\n",
    "    X,\n",
    "    target,\n",
    "    test_size=0.1,\n",
    "    random_state=20,\n",
    ")\n",
    "X_train, X_val, y_train, y_val = train_test_split(\n",
    "    X_train,\n",
    "    y_train,\n",
    "    test_size=0.17,\n",
    "    random_state=20,\n",
    ")\n",
    "\n",
    "train_pool = Pool(X_train, y_train, cat_features=[\"country\"])\n",
    "val_pool = Pool(X_val, y_val, cat_features=[\"country\"])\n",
    "test_pool = Pool(X_test, y_test, cat_features=[\"country\"])\n",
    "\n",
    "model = CatBoostRegressor(verbose=False, random_state=20)\n",
    "model.fit(train_pool, eval_set=val_pool)\n",
    "pred = model.predict(test_pool)\n"
   ]
  },
  {
   "cell_type": "code",
   "execution_count": 16,
   "metadata": {},
   "outputs": [
    {
     "data": {
      "text/plain": [
       "(5.9097751739850235, 90.97169875529791)"
      ]
     },
     "execution_count": 16,
     "metadata": {},
     "output_type": "execute_result"
    }
   ],
   "source": [
    "mean_absolute_error(y_test, pred), mean_squared_error(y_test, pred)\n"
   ]
  },
  {
   "cell_type": "code",
   "execution_count": 17,
   "metadata": {},
   "outputs": [],
   "source": [
    "nans_pool = Pool(users[users.age.isna()][[\"country\"]], cat_features=[\"country\"])\n",
    "pred_nans = model.predict(nans_pool)\n",
    "users.age.fillna(\n",
    "    pd.Series(pred_nans, index=users[users.age.isna()][[\"country\"]].index), inplace=True\n",
    ")\n"
   ]
  },
  {
   "cell_type": "code",
   "execution_count": 18,
   "metadata": {},
   "outputs": [],
   "source": [
    "ratings[\"timestamp\"] = np.arange(ratings.shape[0])\n"
   ]
  },
  {
   "cell_type": "code",
   "execution_count": 19,
   "metadata": {},
   "outputs": [
    {
     "name": "stderr",
     "output_type": "stream",
     "text": [
      "22/07/20 15:21:04 WARN TaskSetManager: Stage 0 contains a task of very large size (107888 KiB). The maximum recommended task size is 1000 KiB.\n",
      "22/07/20 15:21:05 WARN TaskSetManager: Stage 1 contains a task of very large size (107887 KiB). The maximum recommended task size is 1000 KiB.\n",
      "22/07/20 15:21:07 WARN TaskSetManager: Stage 3 contains a task of very large size (107887 KiB). The maximum recommended task size is 1000 KiB.\n",
      "20-Jul-22 15:21:09, replay, INFO: Column with ids of users or items is absent in mapping. The dataframe will be treated as a users'/items' features dataframe.\n",
      "22/07/20 15:21:09 WARN TaskSetManager: Stage 5 contains a task of very large size (2524 KiB). The maximum recommended task size is 1000 KiB.\n",
      "22/07/20 15:21:09 WARN TaskSetManager: Stage 6 contains a task of very large size (2524 KiB). The maximum recommended task size is 1000 KiB.\n"
     ]
    }
   ],
   "source": [
    "data_prep = DataPreparator()\n",
    "log = data_prep.transform(\n",
    "    columns_mapping={\n",
    "        \"item_id\": \"artist\",\n",
    "        \"relevance\": \"plays\",\n",
    "    },\n",
    "    data=ratings,\n",
    ")\n",
    "user_features = data_prep.transform(data=users, columns_mapping={\"user_id\": \"user_id\"})\n"
   ]
  },
  {
   "cell_type": "code",
   "execution_count": 21,
   "metadata": {},
   "outputs": [
    {
     "name": "stderr",
     "output_type": "stream",
     "text": [
      "22/07/20 15:24:35 WARN TaskSetManager: Stage 8 contains a task of very large size (107887 KiB). The maximum recommended task size is 1000 KiB.\n",
      "22/07/20 15:24:37 WARN TaskSetManager: Stage 10 contains a task of very large size (107887 KiB). The maximum recommended task size is 1000 KiB.\n",
      "22/07/20 15:24:39 WARN TaskSetManager: Stage 11 contains a task of very large size (107887 KiB). The maximum recommended task size is 1000 KiB.\n",
      "20-Jul-22 15:24:41, replay, INFO: current threshold removes 0.0007609151538159315% of data\n"
     ]
    }
   ],
   "source": [
    "log = filter_by_min_count(\n",
    "    log,\n",
    "    num_entries=15,  # 10 test, 5 train\n",
    "    group_by=\"user_id\",\n",
    ")\n"
   ]
  },
  {
   "cell_type": "code",
   "execution_count": 23,
   "metadata": {},
   "outputs": [
    {
     "name": "stderr",
     "output_type": "stream",
     "text": [
      "22/07/20 15:35:32 WARN TaskSetManager: Stage 14 contains a task of very large size (2524 KiB). The maximum recommended task size is 1000 KiB.\n",
      "22/07/20 15:35:35 WARN TaskSetManager: Stage 17 contains a task of very large size (107887 KiB). The maximum recommended task size is 1000 KiB.\n",
      "22/07/20 15:35:36 WARN TaskSetManager: Stage 18 contains a task of very large size (107887 KiB). The maximum recommended task size is 1000 KiB.\n",
      "22/07/20 15:35:45 WARN TaskSetManager: Stage 21 contains a task of very large size (107887 KiB). The maximum recommended task size is 1000 KiB.\n",
      "22/07/20 15:35:46 WARN TaskSetManager: Stage 22 contains a task of very large size (107887 KiB). The maximum recommended task size is 1000 KiB.\n",
      "22/07/20 15:35:51 WARN TaskSetManager: Stage 25 contains a task of very large size (107887 KiB). The maximum recommended task size is 1000 KiB.\n",
      "22/07/20 15:35:52 WARN TaskSetManager: Stage 26 contains a task of very large size (107887 KiB). The maximum recommended task size is 1000 KiB.\n",
      "22/07/20 15:35:56 WARN TaskSetManager: Stage 28 contains a task of very large size (2524 KiB). The maximum recommended task size is 1000 KiB.\n"
     ]
    }
   ],
   "source": [
    "indexer = Indexer(user_col=\"user_id\", item_col=\"item_id\")\n",
    "indexer.fit(users=user_features.select(\"user_id\").distinct(), items=log.select(\"item_id\"))\n",
    "log = indexer.transform(log)\n",
    "user_features = indexer.transform(user_features)\n"
   ]
  },
  {
   "cell_type": "code",
   "execution_count": 28,
   "metadata": {},
   "outputs": [
    {
     "name": "stderr",
     "output_type": "stream",
     "text": [
      "22/07/20 15:38:53 WARN TaskSetManager: Stage 30 contains a task of very large size (107887 KiB). The maximum recommended task size is 1000 KiB.\n",
      "22/07/20 15:38:54 WARN TaskSetManager: Stage 31 contains a task of very large size (107887 KiB). The maximum recommended task size is 1000 KiB.\n",
      "22/07/20 15:38:55 WARN DAGScheduler: Broadcasting large task binary with size 20.7 MiB\n",
      "22/07/20 15:39:00 WARN DAGScheduler: Broadcasting large task binary with size 20.7 MiB\n",
      "22/07/20 15:39:04 WARN TaskSetManager: Stage 36 contains a task of very large size (107887 KiB). The maximum recommended task size is 1000 KiB.\n",
      "22/07/20 15:39:05 WARN TaskSetManager: Stage 35 contains a task of very large size (107887 KiB). The maximum recommended task size is 1000 KiB.\n",
      "22/07/20 15:39:07 WARN TaskSetManager: Stage 37 contains a task of very large size (107887 KiB). The maximum recommended task size is 1000 KiB.\n",
      "22/07/20 15:39:08 WARN DAGScheduler: Broadcasting large task binary with size 32.7 MiB\n",
      "22/07/20 15:39:09 WARN DAGScheduler: Broadcasting large task binary with size 20.7 MiB\n",
      "22/07/20 15:39:18 WARN DAGScheduler: Broadcasting large task binary with size 32.7 MiB\n",
      "22/07/20 15:39:30 WARN DAGScheduler: Broadcasting large task binary with size 32.7 MiB\n",
      "22/07/20 15:39:31 WARN TaskSetManager: Stage 42 contains a task of very large size (107887 KiB). The maximum recommended task size is 1000 KiB.\n",
      "22/07/20 15:39:32 WARN TaskSetManager: Stage 43 contains a task of very large size (107887 KiB). The maximum recommended task size is 1000 KiB.\n",
      "22/07/20 15:39:33 WARN TaskSetManager: Stage 44 contains a task of very large size (107887 KiB). The maximum recommended task size is 1000 KiB.\n",
      "22/07/20 15:39:35 WARN DAGScheduler: Broadcasting large task binary with size 32.7 MiB\n",
      "22/07/20 15:39:36 WARN DAGScheduler: Broadcasting large task binary with size 20.7 MiB\n",
      "22/07/20 15:39:44 WARN DAGScheduler: Broadcasting large task binary with size 32.7 MiB\n",
      "22/07/20 15:39:48 WARN DAGScheduler: Broadcasting large task binary with size 32.7 MiB\n",
      "22/07/20 15:39:51 WARN DAGScheduler: Broadcasting large task binary with size 32.8 MiB\n",
      "                                                                                \r"
     ]
    }
   ],
   "source": [
    "train, test = UserSplitter(\n",
    "    item_test_size=10,\n",
    "    shuffle=False,\n",
    "    drop_cold_items=True,\n",
    "    drop_cold_users=True,\n",
    ").split(log)\n"
   ]
  },
  {
   "cell_type": "code",
   "execution_count": 31,
   "metadata": {},
   "outputs": [
    {
     "name": "stderr",
     "output_type": "stream",
     "text": [
      "22/07/20 15:42:00 WARN DAGScheduler: Broadcasting large task binary with size 32.7 MiB\n",
      "22/07/20 15:42:02 WARN DAGScheduler: Broadcasting large task binary with size 32.8 MiB\n",
      "22/07/20 15:42:03 WARN TaskSetManager: Stage 106 contains a task of very large size (2524 KiB). The maximum recommended task size is 1000 KiB.\n"
     ]
    },
    {
     "data": {
      "text/plain": [
       "(13914378, 3522481, 358493)"
      ]
     },
     "execution_count": 31,
     "metadata": {},
     "output_type": "execute_result"
    }
   ],
   "source": [
    "train.count(), test.count(), user_features.count()"
   ]
  },
  {
   "cell_type": "code",
   "execution_count": 30,
   "metadata": {},
   "outputs": [
    {
     "name": "stderr",
     "output_type": "stream",
     "text": [
      "22/07/20 15:41:13 WARN DAGScheduler: Broadcasting large task binary with size 32.7 MiB\n",
      "22/07/20 15:41:47 WARN DAGScheduler: Broadcasting large task binary with size 32.8 MiB\n",
      "22/07/20 15:41:57 WARN DAGScheduler: Broadcasting large task binary with size 20.7 MiB\n",
      "22/07/20 15:41:57 WARN TaskSetManager: Stage 83 contains a task of very large size (2524 KiB). The maximum recommended task size is 1000 KiB.\n",
      "                                                                                \r"
     ]
    }
   ],
   "source": [
    "train.toPandas().to_csv(\n",
    "    f\"{data_path}train.csv\",\n",
    "    index=False,\n",
    ")\n",
    "test.toPandas().to_csv(\n",
    "    f\"{data_path}test.csv\",\n",
    "    index=False,\n",
    ")\n",
    "user_features.toPandas().to_csv(\n",
    "    f\"{data_path}user_features.csv\",\n",
    "    index=False,\n",
    ")\n"
   ]
  },
  {
   "cell_type": "code",
   "execution_count": null,
   "metadata": {},
   "outputs": [],
   "source": []
  }
 ],
 "metadata": {
  "kernelspec": {
   "display_name": "Python 3.8.10 ('mc_venv': venv)",
   "language": "python",
   "name": "python3"
  },
  "language_info": {
   "codemirror_mode": {
    "name": "ipython",
    "version": 3
   },
   "file_extension": ".py",
   "mimetype": "text/x-python",
   "name": "python",
   "nbconvert_exporter": "python",
   "pygments_lexer": "ipython3",
   "version": "3.8.10"
  },
  "orig_nbformat": 4,
  "vscode": {
   "interpreter": {
    "hash": "4a1e246ba7264a68dfa8de1083033df2ac4589a6e589f0ab99b6826ead015aaf"
   }
  }
 },
 "nbformat": 4,
 "nbformat_minor": 2
}
