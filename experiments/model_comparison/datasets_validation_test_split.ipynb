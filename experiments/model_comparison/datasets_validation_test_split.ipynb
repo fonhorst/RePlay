{
 "cells": [
  {
   "cell_type": "code",
   "execution_count": 1,
   "metadata": {},
   "outputs": [],
   "source": [
    "# basic libs\n",
    "import sys\n",
    "import time\n",
    "import logging\n",
    "import yaml\n",
    "\n",
    "import numpy as np\n",
    "import pandas as pd\n",
    "\n",
    "# data preparation\n",
    "from replay.utils import convert2spark\n",
    "from replay.session_handler import get_spark_session, State, logger_with_settings\n",
    "from replay.splitters import UserSplitter\n"
   ]
  },
  {
   "cell_type": "code",
   "execution_count": 2,
   "metadata": {},
   "outputs": [
    {
     "name": "stderr",
     "output_type": "stream",
     "text": [
      "22/07/20 16:02:07 WARN Utils: Your hostname, recsys-automl resolves to a loopback address: 127.0.1.1; using 192.168.0.5 instead (on interface ens160)\n",
      "22/07/20 16:02:07 WARN Utils: Set SPARK_LOCAL_IP if you need to bind to another address\n",
      "22/07/20 16:02:07 WARN NativeCodeLoader: Unable to load native-hadoop library for your platform... using builtin-java classes where applicable\n",
      "Using Spark's default log4j profile: org/apache/spark/log4j-defaults.properties\n",
      "Setting default log level to \"WARN\".\n",
      "To adjust logging level use sc.setLogLevel(newLevel). For SparkR, use setLogLevel(newLevel).\n",
      "22/07/20 16:02:07 WARN SparkConf: Note that spark.local.dir will be overridden by the value set by the cluster manager (via SPARK_LOCAL_DIRS in mesos/standalone/kubernetes and LOCAL_DIRS in YARN).\n"
     ]
    },
    {
     "data": {
      "text/plain": [
       "[('spark.local.dir', '/home/baurzhan/tmp'),\n",
       " ('spark.sql.shuffle.partitions', '36'),\n",
       " ('spark.executor.id', 'driver'),\n",
       " ('spark.driver.host', 'localhost'),\n",
       " ('spark.app.name', 'pyspark-shell'),\n",
       " ('spark.app.id', 'local-1658332928155'),\n",
       " ('spark.driver.bindAddress', '127.0.0.1'),\n",
       " ('spark.driver.port', '41317'),\n",
       " ('spark.driver.extraJavaOptions',\n",
       "  '-Dio.netty.tryReflectionSetAccessible=true'),\n",
       " ('spark.driver.memory', '66g'),\n",
       " ('spark.sql.catalogImplementation', 'hive'),\n",
       " ('spark.sql.warehouse.dir',\n",
       "  'file:/home/baurzhan/model_comparison/spark-warehouse'),\n",
       " ('spark.rdd.compress', 'True'),\n",
       " ('spark.serializer.objectStreamReset', '100'),\n",
       " ('spark.kryoserializer.buffer.max', '256m'),\n",
       " ('spark.master', 'local[*]'),\n",
       " ('spark.submit.pyFiles', ''),\n",
       " ('spark.app.startTime', '1658332927563'),\n",
       " ('spark.submit.deployMode', 'client'),\n",
       " ('spark.ui.showConsoleProgress', 'true'),\n",
       " ('spark.sql.execution.arrow.pyspark.enabled', 'true'),\n",
       " ('spark.driver.maxResultSize', '4g')]"
      ]
     },
     "metadata": {},
     "output_type": "display_data"
    }
   ],
   "source": [
    "spark = get_spark_session()\n",
    "state = State(spark)\n",
    "spark.conf.set(\"spark.local.dir\", \"/home/baurzhan/tmp\")\n",
    "display(spark.sparkContext.getConf().getAll())\n"
   ]
  },
  {
   "cell_type": "code",
   "execution_count": 3,
   "metadata": {},
   "outputs": [],
   "source": [
    "logger_config = \"\"\"\n",
    "version: 1\n",
    "formatters:\n",
    "    simple:\n",
    "        class: logging.Formatter\n",
    "        format: \"%(asctime)s, %(name)s, %(levelname)s: %(message)s\"\n",
    "        datefmt: \"%d-%b-%y %H:%M:%S\"\n",
    "handlers:\n",
    "    file_handler:\n",
    "        class: logging.FileHandler\n",
    "        filename: logs/data_preparation.log\n",
    "        level: DEBUG\n",
    "        formatter: simple\n",
    "    stream_handler:\n",
    "        class: logging.StreamHandler\n",
    "        stream: ext://sys.stdout\n",
    "        level: DEBUG\n",
    "        formatter: simple\n",
    "loggers:\n",
    "    data_preparation_logger:\n",
    "        level: DEBUG\n",
    "        handlers: [file_handler, stream_handler]\n",
    "        propagate: no\n",
    "\"\"\"\n",
    "logger = logging.getLogger(name=\"data_preparation_logger\")\n",
    "\n",
    "config = yaml.load(logger_config, Loader=yaml.FullLoader)\n",
    "logging.config.dictConfig(config)\n"
   ]
  },
  {
   "cell_type": "code",
   "execution_count": 44,
   "metadata": {},
   "outputs": [],
   "source": [
    "DATA_NAME = \"lastfm\"\n",
    "DATA_PATH = f\"data/{DATA_NAME}/\"\n",
    "TRAIN_FILE_NAME = \"train.csv\"\n",
    "TEST_FILE_NAME = \"test.csv\"\n",
    "VAL_FILE_NAME = \"val.csv\"\n",
    "\n",
    "k = 10\n",
    "shuffle = False\n",
    "budget = 10\n",
    "trials_num = 10\n",
    "seed = 1909\n"
   ]
  },
  {
   "cell_type": "code",
   "execution_count": 45,
   "metadata": {},
   "outputs": [
    {
     "name": "stdout",
     "output_type": "stream",
     "text": [
      "20-Jul-22 16:10:23, data_preparation_logger, INFO: lastfm dataset!\n"
     ]
    }
   ],
   "source": [
    "logger.info(msg=f\"{DATA_NAME} dataset!\")\n"
   ]
  },
  {
   "cell_type": "code",
   "execution_count": 46,
   "metadata": {},
   "outputs": [],
   "source": [
    "def load_data(data_path, train_file_name, test_file_name):\n",
    "    return (\n",
    "        convert2spark(pd.read_csv(f\"{data_path}{train_file_name}\")),\n",
    "        convert2spark(pd.read_csv(f\"{data_path}{test_file_name}\")),\n",
    "    )\n"
   ]
  },
  {
   "cell_type": "code",
   "execution_count": 47,
   "metadata": {},
   "outputs": [
    {
     "name": "stdout",
     "output_type": "stream",
     "text": [
      "20-Jul-22 16:10:24, data_preparation_logger, DEBUG: train, val, test loading\n"
     ]
    }
   ],
   "source": [
    "logger.debug(msg=\"train, val, test loading\")\n",
    "train, test = load_data(\n",
    "    data_path=DATA_PATH,\n",
    "    train_file_name=TRAIN_FILE_NAME,\n",
    "    test_file_name=TEST_FILE_NAME,\n",
    ")\n"
   ]
  },
  {
   "cell_type": "code",
   "execution_count": 48,
   "metadata": {},
   "outputs": [
    {
     "name": "stderr",
     "output_type": "stream",
     "text": [
      "22/07/20 16:10:30 WARN TaskSetManager: Stage 4 contains a task of very large size (36240 KiB). The maximum recommended task size is 1000 KiB.\n",
      "22/07/20 16:10:32 WARN TaskSetManager: Stage 5 contains a task of very large size (9177 KiB). The maximum recommended task size is 1000 KiB.\n"
     ]
    }
   ],
   "source": [
    "train_ = train.toPandas()\n",
    "test_ = test.toPandas()\n"
   ]
  },
  {
   "cell_type": "code",
   "execution_count": 49,
   "metadata": {},
   "outputs": [
    {
     "data": {
      "text/plain": [
       "((13914378, 4), (3522481, 4))"
      ]
     },
     "execution_count": 49,
     "metadata": {},
     "output_type": "execute_result"
    }
   ],
   "source": [
    "train_.shape, test_.shape\n"
   ]
  },
  {
   "cell_type": "code",
   "execution_count": 50,
   "metadata": {},
   "outputs": [
    {
     "name": "stdout",
     "output_type": "stream",
     "text": [
      "20-Jul-22 16:10:33, data_preparation_logger, INFO: user_idx separation = 22000\n"
     ]
    }
   ],
   "source": [
    "sep = 1000 * 22\n",
    "logger.info(msg=f\"user_idx separation = {sep}\")\n"
   ]
  },
  {
   "cell_type": "code",
   "execution_count": 51,
   "metadata": {},
   "outputs": [],
   "source": [
    "test__ = test_.groupby(\"user_idx\").count().sort_values(\"relevance\", ascending=False).iloc[:sep]\n",
    "val_user_idxs, test_user_idxs = set(test__[(np.arange(test__.shape[0]) % 2).astype(bool)].index), set(test__[((np.arange(test__.shape[0]) + 1) % 2).astype(bool)].index)\n",
    "\n",
    "val_user_idxs_df = test_[\"user_idx\"].apply(lambda x: x in val_user_idxs)\n",
    "test_user_idxs_df = test_[\"user_idx\"].apply(lambda x: x in test_user_idxs)\n"
   ]
  },
  {
   "cell_type": "code",
   "execution_count": 52,
   "metadata": {},
   "outputs": [
    {
     "name": "stdout",
     "output_type": "stream",
     "text": [
      "20-Jul-22 16:10:35, data_preparation_logger, DEBUG: num of unique users in val set = 11000\n"
     ]
    }
   ],
   "source": [
    "val_nunique = len(val_user_idxs)\n",
    "logger.debug(msg=f\"num of unique users in val set = {val_nunique}\")\n"
   ]
  },
  {
   "cell_type": "code",
   "execution_count": 53,
   "metadata": {},
   "outputs": [
    {
     "name": "stdout",
     "output_type": "stream",
     "text": [
      "20-Jul-22 16:10:35, data_preparation_logger, DEBUG: num of unique users in test set = 11000\n"
     ]
    }
   ],
   "source": [
    "test_nunique = len(test_user_idxs)\n",
    "logger.debug(msg=f\"num of unique users in test set = {test_nunique}\")\n"
   ]
  },
  {
   "cell_type": "code",
   "execution_count": 54,
   "metadata": {},
   "outputs": [],
   "source": [
    "val_ = test_.loc[val_user_idxs_df]\n",
    "test_ = test_.loc[test_user_idxs_df]\n"
   ]
  },
  {
   "cell_type": "code",
   "execution_count": 55,
   "metadata": {},
   "outputs": [
    {
     "data": {
      "text/plain": [
       "0"
      ]
     },
     "execution_count": 55,
     "metadata": {},
     "output_type": "execute_result"
    }
   ],
   "source": [
    "(val_.groupby(\"user_idx\").count()[\"relevance\"] < 10).sum()"
   ]
  },
  {
   "cell_type": "code",
   "execution_count": 56,
   "metadata": {},
   "outputs": [
    {
     "data": {
      "text/plain": [
       "0"
      ]
     },
     "execution_count": 56,
     "metadata": {},
     "output_type": "execute_result"
    }
   ],
   "source": [
    "(test_.groupby(\"user_idx\").count()[\"relevance\"] < 10).sum()\n"
   ]
  },
  {
   "cell_type": "code",
   "execution_count": 59,
   "metadata": {},
   "outputs": [
    {
     "name": "stdout",
     "output_type": "stream",
     "text": [
      "20-Jul-22 16:10:42, data_preparation_logger, INFO: lastfm data val set saved.\n",
      "20-Jul-22 16:10:42, data_preparation_logger, INFO: lastfm data test set saved.\n"
     ]
    }
   ],
   "source": [
    "val_.to_csv(f\"{DATA_PATH}{VAL_FILE_NAME}\", index=False)\n",
    "logger.info(msg=f\"{DATA_NAME} data val set saved.\")\n",
    "\n",
    "test_.to_csv(f\"{DATA_PATH}{TEST_FILE_NAME}\", index=False)\n",
    "logger.info(msg=f\"{DATA_NAME} data test set saved.\")\n"
   ]
  }
 ],
 "metadata": {
  "kernelspec": {
   "display_name": "Python 3.8.10 ('mc_venv': venv)",
   "language": "python",
   "name": "python3"
  },
  "language_info": {
   "codemirror_mode": {
    "name": "ipython",
    "version": 3
   },
   "file_extension": ".py",
   "mimetype": "text/x-python",
   "name": "python",
   "nbconvert_exporter": "python",
   "pygments_lexer": "ipython3",
   "version": "3.8.10"
  },
  "orig_nbformat": 4,
  "vscode": {
   "interpreter": {
    "hash": "4a1e246ba7264a68dfa8de1083033df2ac4589a6e589f0ab99b6826ead015aaf"
   }
  }
 },
 "nbformat": 4,
 "nbformat_minor": 2
}
