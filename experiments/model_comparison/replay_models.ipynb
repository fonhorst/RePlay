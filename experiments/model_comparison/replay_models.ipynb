{
 "cells": [
  {
   "cell_type": "code",
   "execution_count": 1,
   "metadata": {},
   "outputs": [],
   "source": [
    "# basic libs\n",
    "import sys\n",
    "import time\n",
    "import logging\n",
    "import yaml\n",
    "\n",
    "import numpy as np\n",
    "import pandas as pd\n",
    "\n",
    "# data preparation\n",
    "from replay.utils import convert2spark\n",
    "from replay.session_handler import (\n",
    "    get_spark_session,\n",
    "    State,\n",
    "    logger_with_settings,\n",
    ")\n",
    "\n",
    "# metric for optimization\n",
    "from replay.metrics import NDCG\n",
    "\n",
    "# models\n",
    "from replay.models import (\n",
    "    ALSWrap,\n",
    "    SLIM,\n",
    "    MultVAE,\n",
    "    KNN,\n",
    "    PopRec,\n",
    "    UserPopRec,\n",
    "    RandomRec,\n",
    ")\n"
   ]
  },
  {
   "cell_type": "code",
   "execution_count": 2,
   "metadata": {},
   "outputs": [
    {
     "name": "stderr",
     "output_type": "stream",
     "text": [
      "22/07/20 06:04:49 WARN Utils: Your hostname, recsys-automl resolves to a loopback address: 127.0.1.1; using 192.168.0.5 instead (on interface ens160)\n",
      "22/07/20 06:04:49 WARN Utils: Set SPARK_LOCAL_IP if you need to bind to another address\n",
      "22/07/20 06:04:49 WARN NativeCodeLoader: Unable to load native-hadoop library for your platform... using builtin-java classes where applicable\n",
      "Using Spark's default log4j profile: org/apache/spark/log4j-defaults.properties\n",
      "Setting default log level to \"WARN\".\n",
      "To adjust logging level use sc.setLogLevel(newLevel). For SparkR, use setLogLevel(newLevel).\n",
      "22/07/20 06:04:49 WARN SparkConf: Note that spark.local.dir will be overridden by the value set by the cluster manager (via SPARK_LOCAL_DIRS in mesos/standalone/kubernetes and LOCAL_DIRS in YARN).\n"
     ]
    },
    {
     "data": {
      "text/plain": [
       "[('spark.app.id', 'local-1658297090466'),\n",
       " ('spark.local.dir', '/home/baurzhan/tmp'),\n",
       " ('spark.sql.shuffle.partitions', '36'),\n",
       " ('spark.executor.id', 'driver'),\n",
       " ('spark.driver.host', 'localhost'),\n",
       " ('spark.app.name', 'pyspark-shell'),\n",
       " ('spark.driver.bindAddress', '127.0.0.1'),\n",
       " ('spark.driver.extraJavaOptions',\n",
       "  '-Dio.netty.tryReflectionSetAccessible=true'),\n",
       " ('spark.driver.memory', '66g'),\n",
       " ('spark.sql.catalogImplementation', 'hive'),\n",
       " ('spark.sql.warehouse.dir',\n",
       "  'file:/home/baurzhan/model_comparison/spark-warehouse'),\n",
       " ('spark.rdd.compress', 'True'),\n",
       " ('spark.serializer.objectStreamReset', '100'),\n",
       " ('spark.kryoserializer.buffer.max', '256m'),\n",
       " ('spark.master', 'local[*]'),\n",
       " ('spark.submit.pyFiles', ''),\n",
       " ('spark.submit.deployMode', 'client'),\n",
       " ('spark.app.startTime', '1658297089877'),\n",
       " ('spark.ui.showConsoleProgress', 'true'),\n",
       " ('spark.sql.execution.arrow.pyspark.enabled', 'true'),\n",
       " ('spark.driver.port', '42931'),\n",
       " ('spark.driver.maxResultSize', '4g')]"
      ]
     },
     "metadata": {},
     "output_type": "display_data"
    }
   ],
   "source": [
    "spark = get_spark_session()\n",
    "state = State(spark)\n",
    "spark.conf.set(\"spark.local.dir\", \"/home/baurzhan/tmp\")\n",
    "display(spark.sparkContext.getConf().getAll())\n"
   ]
  },
  {
   "cell_type": "code",
   "execution_count": 3,
   "metadata": {},
   "outputs": [],
   "source": [
    "logger_config = \"\"\"\n",
    "version: 1\n",
    "formatters:\n",
    "    simple:\n",
    "        class: logging.Formatter\n",
    "        format: \"%(asctime)s, %(name)s, %(levelname)s: %(message)s\"\n",
    "        datefmt: \"%d-%b-%y %H:%M:%S\"\n",
    "handlers:\n",
    "    file_handler:\n",
    "        class: logging.FileHandler\n",
    "        filename: logs/replay_models.log\n",
    "        level: DEBUG\n",
    "        formatter: simple\n",
    "    stream_handler:\n",
    "        class: logging.StreamHandler\n",
    "        stream: ext://sys.stdout\n",
    "        level: DEBUG\n",
    "        formatter: simple\n",
    "loggers:\n",
    "    replay_models:\n",
    "        level: DEBUG\n",
    "        handlers: [file_handler, stream_handler]\n",
    "        propagate: no\n",
    "\"\"\"\n",
    "logger = logging.getLogger(\"replay_models\")\n",
    "\n",
    "config = yaml.load(logger_config, Loader=yaml.FullLoader)\n",
    "logging.config.dictConfig(config)\n"
   ]
  },
  {
   "cell_type": "code",
   "execution_count": 4,
   "metadata": {},
   "outputs": [],
   "source": [
    "replay_logger = logging.getLogger(\"replay\")\n",
    "file_handler = logging.FileHandler(\n",
    "    \"logs/replay_logs\",\n",
    "    mode=\"a\",\n",
    "    encoding=\"utf-8\",\n",
    ")\n",
    "simple_formatter = logging.Formatter(\n",
    "    fmt=\"%(asctime)s, %(name)s, %(levelname)s: %(message)s\",\n",
    "    datefmt=\"%d-%b-%y %H:%M:%S\",\n",
    ")\n",
    "file_handler.setLevel(logging.DEBUG)\n",
    "file_handler.setFormatter(simple_formatter)\n",
    "replay_logger.addHandler(file_handler)\n"
   ]
  },
  {
   "cell_type": "code",
   "execution_count": 5,
   "metadata": {},
   "outputs": [],
   "source": [
    "DATA_NAME = \"bookcrossing\"\n",
    "DATA_PATH = f\"data/{DATA_NAME}/\"\n",
    "TRAIN_FILE_NAME = \"train.csv\"\n",
    "VAL_FILE_NAME = \"val.csv\"\n",
    "TEST_FILE_NAME = \"test.csv\"\n",
    "\n",
    "k = 10\n",
    "shuffle = False\n",
    "budget = 10\n",
    "seed = 1909\n"
   ]
  },
  {
   "cell_type": "code",
   "execution_count": 6,
   "metadata": {},
   "outputs": [],
   "source": [
    "def load_data(data_path, train_file_name, val_file_name, test_file_name):\n",
    "    return (\n",
    "        convert2spark(pd.read_csv(f\"{data_path}{train_file_name}\")),\n",
    "        convert2spark(pd.read_csv(f\"{data_path}{val_file_name}\")),\n",
    "        convert2spark(pd.read_csv(f\"{data_path}{test_file_name}\")),\n",
    "    )\n"
   ]
  },
  {
   "cell_type": "code",
   "execution_count": 7,
   "metadata": {},
   "outputs": [
    {
     "name": "stdout",
     "output_type": "stream",
     "text": [
      "20-Jul-22 06:04:53, replay_models, INFO: bookcrossing dataset!\n"
     ]
    },
    {
     "name": "stderr",
     "output_type": "stream",
     "text": [
      "22/07/20 06:04:54 WARN TaskSetManager: Stage 0 contains a task of very large size (1574 KiB). The maximum recommended task size is 1000 KiB.\n",
      "                                                                                \r"
     ]
    },
    {
     "data": {
      "text/plain": [
       "(602879, 25508, 25515)"
      ]
     },
     "execution_count": 7,
     "metadata": {},
     "output_type": "execute_result"
    }
   ],
   "source": [
    "train, val, test = load_data(\n",
    "    data_path=DATA_PATH,\n",
    "    train_file_name=TRAIN_FILE_NAME,\n",
    "    val_file_name=VAL_FILE_NAME,\n",
    "    test_file_name=TEST_FILE_NAME,\n",
    ")\n",
    "logger.info(msg=f\"{DATA_NAME} dataset!\")\n",
    "\n",
    "\n",
    "train.count(), val.count(), test.count()\n"
   ]
  },
  {
   "cell_type": "markdown",
   "metadata": {},
   "source": [
    "## Baselines"
   ]
  },
  {
   "cell_type": "code",
   "execution_count": 8,
   "metadata": {},
   "outputs": [],
   "source": [
    "pop_rec_model = PopRec()\n",
    "user_pop_rec_model = UserPopRec()\n",
    "random_rec_model = RandomRec(seed=seed)\n"
   ]
  },
  {
   "cell_type": "code",
   "execution_count": 9,
   "metadata": {},
   "outputs": [],
   "source": [
    "try:\n",
    "    logger.info(msg=\"random rec fitting started\")\n",
    "    random_rec_model.fit(log=train)\n",
    "    logger.info(msg=\"random rec fitting finished\")\n",
    "except BaseException as e:\n",
    "    logger.warning(msg=\"random rec model fitting error\")\n",
    "    logger.warning(msg=f\"{e}\")\n",
    "\n",
    "try:\n",
    "    logger.info(msg=\"random rec test prediction started\")\n",
    "    random_rec_test_predict = random_rec_model.predict(\n",
    "        log=train,\n",
    "        k=k,\n",
    "        users=test.select(\"user_idx\").distinct(),\n",
    "        filter_seen_items=True,\n",
    "    )\n",
    "    logger.info(msg=\"random rec test prediction finished\")\n",
    "except BaseException as e:\n",
    "    logger.warning(msg=\"random rec model prediction error\")\n",
    "    logger.warning(msg=f\"{e}\")\n",
    "\n",
    "\n",
    "try:\n",
    "    logger.info(msg=\"random rec test predict saving\")\n",
    "    random_rec_test_predict.toPandas().to_csv(\n",
    "        f\"{DATA_PATH}predicts/random_rec_test_predict.csv\", index=False\n",
    "    )\n",
    "    logger.info(msg=\"random rec test predict saved\")\n",
    "except BaseException as e:\n",
    "    logger.warning(msg=\"random rec test predict file saving failed\")\n",
    "    logger.warning(msg=f\"{e}\")\n"
   ]
  },
  {
   "cell_type": "code",
   "execution_count": 10,
   "metadata": {},
   "outputs": [],
   "source": [
    "try:\n",
    "    logger.info(msg=\"pop rec fitting started\")\n",
    "    pop_rec_model.fit(log=train)\n",
    "    logger.info(msg=\"pop rec fitting finished\")\n",
    "except BaseException as e:\n",
    "    logger.warning(msg=\"pop rec model fitting error\")\n",
    "    logger.warning(msg=f\"{e}\")\n",
    "\n",
    "try:\n",
    "    logger.info(msg=\"pop rec test prediction started\")\n",
    "    pop_rec_test_predict = pop_rec_model.predict(\n",
    "        log=train,\n",
    "        k=k,\n",
    "        users=test.select(\"user_idx\").distinct(),\n",
    "        filter_seen_items=True,\n",
    ")\n",
    "    logger.info(msg=\"pop rec test prediction finished\")\n",
    "except BaseException as e:\n",
    "    logger.warning(msg=\"pop rec model prediction error\")\n",
    "    logger.warning(msg=f\"{e}\")\n",
    "\n",
    "\n",
    "try:\n",
    "    logger.info(msg=\"pop rec test predict saving\")\n",
    "    pop_rec_test_predict.toPandas().to_csv(\n",
    "        f\"{DATA_PATH}predicts/pop_rec_test_predict.csv\", index=False\n",
    "    )\n",
    "    logger.info(msg=\"pop rec test predict saved\")\n",
    "except BaseException as e:\n",
    "    logger.warning(msg=\"pop rec test predict file saving failed\")\n",
    "    logger.warning(msg=f\"{e}\")\n"
   ]
  },
  {
   "cell_type": "code",
   "execution_count": 14,
   "metadata": {},
   "outputs": [],
   "source": [
    "models_dict = {\n",
    "    # \"kNN\": {\n",
    "    #     \"model\": KNN,\n",
    "    #     \"param_space\": {\n",
    "    #         \"num_neighbours\": [10, 50],\n",
    "    #         \"shrink\": [1e-2, 1e3 + 1e-2],\n",
    "    #     },\n",
    "    # },\n",
    "    \"SLIM\": {\n",
    "        \"model\": SLIM,\n",
    "        \"param_space\": {\n",
    "            \"beta\": [1e-6, 1e2],\n",
    "            \"lambda_\": [1e-6, 1e2],\n",
    "        },\n",
    "    },\n",
    "    # \"ALS\": {\n",
    "    #     \"model\": ALSWrap,\n",
    "    #     \"param_space\": {\n",
    "    #         \"rank\": [5, 100],\n",
    "    #     },\n",
    "    # },\n",
    "    # \"MultVAE\": {\n",
    "    #     \"model\": MultVAE,\n",
    "    #     \"param_space\": {\n",
    "    #         \"learning_rate\": [1e-4, 1],\n",
    "    #         \"latent_dim\": [100, 300],\n",
    "    #         \"dropout\": [0, 0.5],\n",
    "    #         \"anneal\": [0.0, 1.0],\n",
    "    #         \"l2_reg\": [1e-5, 5],\n",
    "    #     },\n",
    "    # },\n",
    "}\n"
   ]
  },
  {
   "cell_type": "code",
   "execution_count": 15,
   "metadata": {},
   "outputs": [],
   "source": [
    "def optimize_algo(model_name, model_dict, train, val):\n",
    "    logger.info(msg=f\"Replay {model_name} optimizing started!\")\n",
    "    try:\n",
    "        logger.info(msg=f\"{model_name} model optimizing.\")\n",
    "        model = model_dict[\"model\"]()\n",
    "        best_params = model.optimize(\n",
    "            train=train,\n",
    "            test=val,\n",
    "            param_borders=model_dict[\"param_space\"],\n",
    "            criterion=NDCG(),\n",
    "            k=k,\n",
    "            budget=budget,\n",
    "        )\n",
    "        logger.info(msg=f\"Best params of {model_name} model are:\\n{best_params}\")\n",
    "        logger.info(msg=f\"{model_name} model optimizing finished.\")\n",
    "\n",
    "        return best_params\n",
    "    except BaseException as e:\n",
    "        logger.warning(msg=f\"{model_name} model optimization failed\")\n",
    "\n",
    "        return dict()\n",
    "\n",
    "\n",
    "def train_fit_test_predict(model_name, model_dict, train):\n",
    "    logger.info(msg=f\"Replay {model_name} training and prediction started!\")\n",
    "    try:\n",
    "        model = model_dict[\"model\"](**model_dict[\"best_params\"])\n",
    "        logger.debug(f\"{model_name} model instance creatred.\")\n",
    "\n",
    "        logger.debug(f\"{model_name} model training started.\")\n",
    "        start = time.time()\n",
    "        model.fit(train)\n",
    "        end = time.time()\n",
    "        logger.debug(f\"{model_name} model training finished.\")\n",
    "        logger.info(f\"{model_name} model training time {end-start}\")\n",
    "\n",
    "        logger.debug(f\"{model_name} model predict started.\")\n",
    "        pred = model.predict(\n",
    "            log=train,\n",
    "            k=k,\n",
    "            users=test.select(\"user_idx\").distinct(),\n",
    "            filter_seen_items=True,\n",
    "        )\n",
    "        logger.debug(f\"{model_name} model predict finished.\")\n",
    "\n",
    "        return pred\n",
    "    except BaseException as e:\n",
    "        logger.warning(msg=f\"{model_name} model fit-predict failed\")\n",
    "        logger.warning(msg=f\"{e}\")\n",
    "        return None\n",
    "\n",
    "\n",
    "def save_test_predict(model_name, model_dict):\n",
    "    try:\n",
    "        logger.info(msg=f\"{model_name} test predict saving started\")\n",
    "        model_dict[\"pred\"].toPandas().to_csv(\n",
    "            f\"{DATA_PATH}predicts/replay_{model_name}_test_predict.csv\",\n",
    "            index=False,\n",
    "        )\n",
    "        logger.info(msg=f\"{model_name} test predict saving finished\")\n",
    "    except BaseException as e:\n",
    "        logger.warning(msg=f\"{model_name} model test predict saving failed\")\n",
    "        logger.warning(msg=f\"{e}\")\n"
   ]
  },
  {
   "cell_type": "code",
   "execution_count": 16,
   "metadata": {},
   "outputs": [
    {
     "name": "stdout",
     "output_type": "stream",
     "text": [
      "SLIM\n",
      "{'model': <class 'replay.models.slim.SLIM'>, 'param_space': {'beta': [1e-06, 100.0], 'lambda_': [1e-06, 100.0]}}\n",
      "20-Jul-22 06:06:47, replay_models, INFO: Replay SLIM training and prediction started!\n",
      "20-Jul-22 06:06:47, replay_models, DEBUG: SLIM model instance creatred.\n",
      "20-Jul-22 06:06:47, replay_models, DEBUG: SLIM model training started.\n"
     ]
    },
    {
     "name": "stderr",
     "output_type": "stream",
     "text": [
      "22/07/20 06:06:47 WARN TaskSetManager: Stage 6 contains a task of very large size (1574 KiB). The maximum recommended task size is 1000 KiB.\n",
      "22/07/20 06:06:48 WARN TaskSetManager: Stage 9 contains a task of very large size (1574 KiB). The maximum recommended task size is 1000 KiB.\n",
      "22/07/20 06:06:48 WARN TaskSetManager: Stage 18 contains a task of very large size (1574 KiB). The maximum recommended task size is 1000 KiB.\n",
      "[Stage 20:>                                                       (0 + 12) / 36]\r"
     ]
    }
   ],
   "source": [
    "for model_name, model_dict in models_dict.items():\n",
    "    print(model_name)\n",
    "    print(model_dict)\n",
    "    model_dict[\"best_params\"] = optimize_algo(model_name, model_dict, train, val)\n",
    "    model_dict[\"pred\"] = train_fit_test_predict(model_name, model_dict, train)\n",
    "    save_test_predict(model_name, model_dict)\n"
   ]
  },
  {
   "cell_type": "code",
   "execution_count": null,
   "metadata": {},
   "outputs": [],
   "source": []
  }
 ],
 "metadata": {
  "kernelspec": {
   "display_name": "Python 3 (ipykernel)",
   "language": "python",
   "name": "python3"
  },
  "language_info": {
   "codemirror_mode": {
    "name": "ipython",
    "version": 3
   },
   "file_extension": ".py",
   "mimetype": "text/x-python",
   "name": "python",
   "nbconvert_exporter": "python",
   "pygments_lexer": "ipython3",
   "version": "3.8.10"
  },
  "vscode": {
   "interpreter": {
    "hash": "4a1e246ba7264a68dfa8de1083033df2ac4589a6e589f0ab99b6826ead015aaf"
   }
  }
 },
 "nbformat": 4,
 "nbformat_minor": 2
}
