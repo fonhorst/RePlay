{
 "cells": [
  {
   "cell_type": "code",
   "execution_count": 1,
   "metadata": {},
   "outputs": [],
   "source": [
    "import os\n",
    "\n",
    "import numpy as np\n",
    "import pandas as pd\n",
    "\n",
    "from replay.metrics import NDCG, Recall, HitRate, Coverage, MAP\n",
    "from replay.utils import convert2spark\n",
    "from replay.session_handler import get_spark_session, State\n",
    "from replay.experiment import Experiment\n"
   ]
  },
  {
   "cell_type": "code",
   "execution_count": 2,
   "metadata": {},
   "outputs": [
    {
     "name": "stderr",
     "output_type": "stream",
     "text": [
      "22/07/19 14:54:50 WARN Utils: Your hostname, recsys-automl resolves to a loopback address: 127.0.1.1; using 192.168.0.5 instead (on interface ens160)\n",
      "22/07/19 14:54:50 WARN Utils: Set SPARK_LOCAL_IP if you need to bind to another address\n",
      "22/07/19 14:54:50 WARN NativeCodeLoader: Unable to load native-hadoop library for your platform... using builtin-java classes where applicable\n",
      "Using Spark's default log4j profile: org/apache/spark/log4j-defaults.properties\n",
      "Setting default log level to \"WARN\".\n",
      "To adjust logging level use sc.setLogLevel(newLevel). For SparkR, use setLogLevel(newLevel).\n",
      "22/07/19 14:54:51 WARN SparkConf: Note that spark.local.dir will be overridden by the value set by the cluster manager (via SPARK_LOCAL_DIRS in mesos/standalone/kubernetes and LOCAL_DIRS in YARN).\n",
      "22/07/19 14:54:51 WARN Utils: Service 'SparkUI' could not bind on port 4040. Attempting port 4041.\n"
     ]
    },
    {
     "data": {
      "text/plain": [
       "[('spark.local.dir', '/home/baurzhan/tmp'),\n",
       " ('spark.sql.shuffle.partitions', '36'),\n",
       " ('spark.executor.id', 'driver'),\n",
       " ('spark.driver.host', 'localhost'),\n",
       " ('spark.app.startTime', '1658242491175'),\n",
       " ('spark.app.name', 'pyspark-shell'),\n",
       " ('spark.driver.bindAddress', '127.0.0.1'),\n",
       " ('spark.driver.extraJavaOptions',\n",
       "  '-Dio.netty.tryReflectionSetAccessible=true'),\n",
       " ('spark.driver.memory', '66g'),\n",
       " ('spark.driver.port', '39147'),\n",
       " ('spark.sql.catalogImplementation', 'hive'),\n",
       " ('spark.sql.warehouse.dir',\n",
       "  'file:/home/baurzhan/model_comparison/spark-warehouse'),\n",
       " ('spark.rdd.compress', 'True'),\n",
       " ('spark.serializer.objectStreamReset', '100'),\n",
       " ('spark.kryoserializer.buffer.max', '256m'),\n",
       " ('spark.master', 'local[*]'),\n",
       " ('spark.submit.pyFiles', ''),\n",
       " ('spark.submit.deployMode', 'client'),\n",
       " ('spark.ui.showConsoleProgress', 'true'),\n",
       " ('spark.sql.execution.arrow.pyspark.enabled', 'true'),\n",
       " ('spark.driver.maxResultSize', '4g'),\n",
       " ('spark.app.id', 'local-1658242491760')]"
      ]
     },
     "metadata": {},
     "output_type": "display_data"
    }
   ],
   "source": [
    "spark = get_spark_session()\n",
    "state = State(spark)\n",
    "spark.conf.set(\"spark.local.dir\", \"/home/baurzhan/tmp\")\n",
    "display(spark.sparkContext.getConf().getAll())\n",
    "\n"
   ]
  },
  {
   "cell_type": "code",
   "execution_count": 3,
   "metadata": {},
   "outputs": [],
   "source": [
    "DATA_NAME = \"bookcrossing\"\n",
    "DATA_PATH = f\"data/{DATA_NAME}/\"\n",
    "\n",
    "k = 10\n"
   ]
  },
  {
   "cell_type": "code",
   "execution_count": 4,
   "metadata": {},
   "outputs": [],
   "source": [
    "test_ = pd.read_csv(f\"{DATA_PATH}test.csv\")\n",
    "test = convert2spark(test_)\n",
    "\n",
    "train_ = pd.read_csv(f\"{DATA_PATH}train.csv\")\n",
    "train = convert2spark(train_)\n"
   ]
  },
  {
   "cell_type": "code",
   "execution_count": 5,
   "metadata": {},
   "outputs": [
    {
     "name": "stderr",
     "output_type": "stream",
     "text": [
      "22/07/19 14:54:55 WARN TaskSetManager: Stage 0 contains a task of very large size (1574 KiB). The maximum recommended task size is 1000 KiB.\n",
      "                                                                                \r"
     ]
    }
   ],
   "source": [
    "e = Experiment(\n",
    "    test=test,\n",
    "    metrics={\n",
    "        NDCG(): k,\n",
    "        Recall(): k,\n",
    "        Coverage(train): k,\n",
    "        HitRate(): k,\n",
    "        MAP(): k,\n",
    "    },\n",
    ")\n"
   ]
  },
  {
   "cell_type": "code",
   "execution_count": 6,
   "metadata": {},
   "outputs": [
    {
     "name": "stdout",
     "output_type": "stream",
     "text": [
      "data/bookcrossing/predicts/implicit_als.csv\n"
     ]
    },
    {
     "name": "stderr",
     "output_type": "stream",
     "text": [
      "22/07/19 14:54:57 WARN TaskSetManager: Stage 3 contains a task of very large size (1574 KiB). The maximum recommended task size is 1000 KiB.\n",
      "                                                                                \r"
     ]
    },
    {
     "name": "stdout",
     "output_type": "stream",
     "text": [
      "data/bookcrossing/predicts/replay_kNN_test_predict.csv\n"
     ]
    },
    {
     "name": "stderr",
     "output_type": "stream",
     "text": [
      "22/07/19 14:55:03 WARN TaskSetManager: Stage 33 contains a task of very large size (1574 KiB). The maximum recommended task size is 1000 KiB.\n"
     ]
    },
    {
     "name": "stdout",
     "output_type": "stream",
     "text": [
      "data/bookcrossing/predicts/replay_ALS_test_predict.csv\n"
     ]
    },
    {
     "name": "stderr",
     "output_type": "stream",
     "text": [
      "22/07/19 14:55:06 WARN TaskSetManager: Stage 62 contains a task of very large size (1574 KiB). The maximum recommended task size is 1000 KiB.\n"
     ]
    },
    {
     "name": "stdout",
     "output_type": "stream",
     "text": [
      "data/bookcrossing/predicts/random_rec_test_predict.csv\n"
     ]
    },
    {
     "name": "stderr",
     "output_type": "stream",
     "text": [
      "22/07/19 14:55:08 WARN TaskSetManager: Stage 90 contains a task of very large size (1574 KiB). The maximum recommended task size is 1000 KiB.\n"
     ]
    },
    {
     "name": "stdout",
     "output_type": "stream",
     "text": [
      "data/bookcrossing/predicts/pop_rec_test_predict.csv\n"
     ]
    },
    {
     "name": "stderr",
     "output_type": "stream",
     "text": [
      "22/07/19 14:55:10 WARN TaskSetManager: Stage 119 contains a task of very large size (1574 KiB). The maximum recommended task size is 1000 KiB.\n"
     ]
    },
    {
     "name": "stdout",
     "output_type": "stream",
     "text": [
      "data/bookcrossing/predicts/implicit_als_test_predict.csv\n"
     ]
    },
    {
     "name": "stderr",
     "output_type": "stream",
     "text": [
      "22/07/19 14:55:12 WARN TaskSetManager: Stage 149 contains a task of very large size (1574 KiB). The maximum recommended task size is 1000 KiB.\n",
      "19-Jul-22 14:55:12, replay, WARNING: Recommendations contain items that were not present in the log. The resulting metric value can be more than 1.0 ¯\\_(ツ)_/¯\n"
     ]
    }
   ],
   "source": [
    "for root, dirs, files in os.walk(f\"{DATA_PATH}predicts\", topdown=False):\n",
    "    for name in files:\n",
    "        path = os.path.join(root, name)\n",
    "        print(path)\n",
    "        file_name = path.split(\"/\")[-1]\n",
    "        data_ = convert2spark(pd.read_csv(path))\n",
    "        e.add_result(file_name.split(\".\")[0], data_)\n"
   ]
  },
  {
   "cell_type": "code",
   "execution_count": 7,
   "metadata": {},
   "outputs": [
    {
     "data": {
      "text/html": [
       "<div>\n",
       "<style scoped>\n",
       "    .dataframe tbody tr th:only-of-type {\n",
       "        vertical-align: middle;\n",
       "    }\n",
       "\n",
       "    .dataframe tbody tr th {\n",
       "        vertical-align: top;\n",
       "    }\n",
       "\n",
       "    .dataframe thead th {\n",
       "        text-align: right;\n",
       "    }\n",
       "</style>\n",
       "<table border=\"1\" class=\"dataframe\">\n",
       "  <thead>\n",
       "    <tr style=\"text-align: right;\">\n",
       "      <th></th>\n",
       "      <th>Coverage@10</th>\n",
       "      <th>HitRate@10</th>\n",
       "      <th>MAP@10</th>\n",
       "      <th>NDCG@10</th>\n",
       "      <th>Recall@10</th>\n",
       "    </tr>\n",
       "  </thead>\n",
       "  <tbody>\n",
       "    <tr>\n",
       "      <th>replay_SLIM_test_predict</th>\n",
       "      <td>0.287918</td>\n",
       "      <td>0.659091</td>\n",
       "      <td>0.055051</td>\n",
       "      <td>0.128453</td>\n",
       "      <td>0.113045</td>\n",
       "    </tr>\n",
       "    <tr>\n",
       "      <th>replay_kNN_test_predict</th>\n",
       "      <td>0.151788</td>\n",
       "      <td>0.626455</td>\n",
       "      <td>0.048636</td>\n",
       "      <td>0.115532</td>\n",
       "      <td>0.107773</td>\n",
       "    </tr>\n",
       "    <tr>\n",
       "      <th>implicit_als</th>\n",
       "      <td>0.111007</td>\n",
       "      <td>0.542182</td>\n",
       "      <td>0.042139</td>\n",
       "      <td>0.099243</td>\n",
       "      <td>0.088055</td>\n",
       "    </tr>\n",
       "    <tr>\n",
       "      <th>pop_rec_test_predict</th>\n",
       "      <td>0.004791</td>\n",
       "      <td>0.457273</td>\n",
       "      <td>0.028702</td>\n",
       "      <td>0.073075</td>\n",
       "      <td>0.068918</td>\n",
       "    </tr>\n",
       "    <tr>\n",
       "      <th>replay_MultVAE_test_predict</th>\n",
       "      <td>0.007595</td>\n",
       "      <td>0.453182</td>\n",
       "      <td>0.028246</td>\n",
       "      <td>0.072657</td>\n",
       "      <td>0.069200</td>\n",
       "    </tr>\n",
       "    <tr>\n",
       "      <th>implicit_als_test_predict</th>\n",
       "      <td>0.052816</td>\n",
       "      <td>0.426909</td>\n",
       "      <td>0.029013</td>\n",
       "      <td>0.072238</td>\n",
       "      <td>0.067045</td>\n",
       "    </tr>\n",
       "    <tr>\n",
       "      <th>replay_ALS_test_predict</th>\n",
       "      <td>0.100608</td>\n",
       "      <td>0.386727</td>\n",
       "      <td>0.027618</td>\n",
       "      <td>0.066382</td>\n",
       "      <td>0.063464</td>\n",
       "    </tr>\n",
       "    <tr>\n",
       "      <th>random_rec_test_predict</th>\n",
       "      <td>1.000000</td>\n",
       "      <td>0.011273</td>\n",
       "      <td>0.000322</td>\n",
       "      <td>0.001115</td>\n",
       "      <td>0.001136</td>\n",
       "    </tr>\n",
       "  </tbody>\n",
       "</table>\n",
       "</div>"
      ],
      "text/plain": [
       "                             Coverage@10  HitRate@10    MAP@10   NDCG@10  \\\n",
       "replay_SLIM_test_predict        0.287918    0.659091  0.055051  0.128453   \n",
       "replay_kNN_test_predict         0.151788    0.626455  0.048636  0.115532   \n",
       "implicit_als                    0.111007    0.542182  0.042139  0.099243   \n",
       "pop_rec_test_predict            0.004791    0.457273  0.028702  0.073075   \n",
       "replay_MultVAE_test_predict     0.007595    0.453182  0.028246  0.072657   \n",
       "implicit_als_test_predict       0.052816    0.426909  0.029013  0.072238   \n",
       "replay_ALS_test_predict         0.100608    0.386727  0.027618  0.066382   \n",
       "random_rec_test_predict         1.000000    0.011273  0.000322  0.001115   \n",
       "\n",
       "                             Recall@10  \n",
       "replay_SLIM_test_predict      0.113045  \n",
       "replay_kNN_test_predict       0.107773  \n",
       "implicit_als                  0.088055  \n",
       "pop_rec_test_predict          0.068918  \n",
       "replay_MultVAE_test_predict   0.069200  \n",
       "implicit_als_test_predict     0.067045  \n",
       "replay_ALS_test_predict       0.063464  \n",
       "random_rec_test_predict       0.001136  "
      ]
     },
     "execution_count": 7,
     "metadata": {},
     "output_type": "execute_result"
    }
   ],
   "source": [
    "#anime\n",
    "e.results.sort_values(\"NDCG@10\", ascending=False)\n"
   ]
  },
  {
   "cell_type": "code",
   "execution_count": 7,
   "metadata": {},
   "outputs": [
    {
     "data": {
      "text/html": [
       "<div>\n",
       "<style scoped>\n",
       "    .dataframe tbody tr th:only-of-type {\n",
       "        vertical-align: middle;\n",
       "    }\n",
       "\n",
       "    .dataframe tbody tr th {\n",
       "        vertical-align: top;\n",
       "    }\n",
       "\n",
       "    .dataframe thead th {\n",
       "        text-align: right;\n",
       "    }\n",
       "</style>\n",
       "<table border=\"1\" class=\"dataframe\">\n",
       "  <thead>\n",
       "    <tr style=\"text-align: right;\">\n",
       "      <th></th>\n",
       "      <th>Coverage@10</th>\n",
       "      <th>HitRate@10</th>\n",
       "      <th>MAP@10</th>\n",
       "      <th>NDCG@10</th>\n",
       "      <th>Recall@10</th>\n",
       "    </tr>\n",
       "  </thead>\n",
       "  <tbody>\n",
       "    <tr>\n",
       "      <th>replay_kNN_test_predict</th>\n",
       "      <td>0.021356</td>\n",
       "      <td>0.606182</td>\n",
       "      <td>0.041661</td>\n",
       "      <td>0.104433</td>\n",
       "      <td>0.094618</td>\n",
       "    </tr>\n",
       "    <tr>\n",
       "      <th>pop_rec_test_predict</th>\n",
       "      <td>0.000095</td>\n",
       "      <td>0.237818</td>\n",
       "      <td>0.010715</td>\n",
       "      <td>0.030939</td>\n",
       "      <td>0.028036</td>\n",
       "    </tr>\n",
       "    <tr>\n",
       "      <th>random_rec_test_predict</th>\n",
       "      <td>0.353608</td>\n",
       "      <td>0.000000</td>\n",
       "      <td>0.000000</td>\n",
       "      <td>0.000000</td>\n",
       "      <td>0.000000</td>\n",
       "    </tr>\n",
       "  </tbody>\n",
       "</table>\n",
       "</div>"
      ],
      "text/plain": [
       "                         Coverage@10  HitRate@10    MAP@10   NDCG@10  \\\n",
       "replay_kNN_test_predict     0.021356    0.606182  0.041661  0.104433   \n",
       "pop_rec_test_predict        0.000095    0.237818  0.010715  0.030939   \n",
       "random_rec_test_predict     0.353608    0.000000  0.000000  0.000000   \n",
       "\n",
       "                         Recall@10  \n",
       "replay_kNN_test_predict   0.094618  \n",
       "pop_rec_test_predict      0.028036  \n",
       "random_rec_test_predict   0.000000  "
      ]
     },
     "execution_count": 7,
     "metadata": {},
     "output_type": "execute_result"
    }
   ],
   "source": [
    "# last fm\n",
    "e.results.sort_values(\"NDCG@10\", ascending=False)\n"
   ]
  },
  {
   "cell_type": "code",
   "execution_count": 7,
   "metadata": {},
   "outputs": [
    {
     "data": {
      "text/html": [
       "<div>\n",
       "<style scoped>\n",
       "    .dataframe tbody tr th:only-of-type {\n",
       "        vertical-align: middle;\n",
       "    }\n",
       "\n",
       "    .dataframe tbody tr th {\n",
       "        vertical-align: top;\n",
       "    }\n",
       "\n",
       "    .dataframe thead th {\n",
       "        text-align: right;\n",
       "    }\n",
       "</style>\n",
       "<table border=\"1\" class=\"dataframe\">\n",
       "  <thead>\n",
       "    <tr style=\"text-align: right;\">\n",
       "      <th></th>\n",
       "      <th>Coverage@10</th>\n",
       "      <th>HitRate@10</th>\n",
       "      <th>MAP@10</th>\n",
       "      <th>NDCG@10</th>\n",
       "      <th>Recall@10</th>\n",
       "    </tr>\n",
       "  </thead>\n",
       "  <tbody>\n",
       "    <tr>\n",
       "      <th>pop_rec_test_predict</th>\n",
       "      <td>0.000139</td>\n",
       "      <td>0.088337</td>\n",
       "      <td>0.013546</td>\n",
       "      <td>0.024383</td>\n",
       "      <td>0.014935</td>\n",
       "    </tr>\n",
       "    <tr>\n",
       "      <th>replay_kNN_test_predict</th>\n",
       "      <td>0.022708</td>\n",
       "      <td>0.104467</td>\n",
       "      <td>0.012669</td>\n",
       "      <td>0.024347</td>\n",
       "      <td>0.018244</td>\n",
       "    </tr>\n",
       "    <tr>\n",
       "      <th>implicit_als_test_predict</th>\n",
       "      <td>0.013774</td>\n",
       "      <td>0.086352</td>\n",
       "      <td>0.009695</td>\n",
       "      <td>0.019054</td>\n",
       "      <td>0.014554</td>\n",
       "    </tr>\n",
       "    <tr>\n",
       "      <th>replay_ALS_test_predict</th>\n",
       "      <td>0.016748</td>\n",
       "      <td>0.094789</td>\n",
       "      <td>0.008117</td>\n",
       "      <td>0.017739</td>\n",
       "      <td>0.015667</td>\n",
       "    </tr>\n",
       "    <tr>\n",
       "      <th>implicit_als</th>\n",
       "      <td>0.014894</td>\n",
       "      <td>0.084615</td>\n",
       "      <td>0.008474</td>\n",
       "      <td>0.017179</td>\n",
       "      <td>0.013732</td>\n",
       "    </tr>\n",
       "    <tr>\n",
       "      <th>random_rec_test_predict</th>\n",
       "      <td>0.170653</td>\n",
       "      <td>0.000496</td>\n",
       "      <td>0.000058</td>\n",
       "      <td>0.000116</td>\n",
       "      <td>0.000132</td>\n",
       "    </tr>\n",
       "  </tbody>\n",
       "</table>\n",
       "</div>"
      ],
      "text/plain": [
       "                           Coverage@10  HitRate@10    MAP@10   NDCG@10  \\\n",
       "pop_rec_test_predict          0.000139    0.088337  0.013546  0.024383   \n",
       "replay_kNN_test_predict       0.022708    0.104467  0.012669  0.024347   \n",
       "implicit_als_test_predict     0.013774    0.086352  0.009695  0.019054   \n",
       "replay_ALS_test_predict       0.016748    0.094789  0.008117  0.017739   \n",
       "implicit_als                  0.014894    0.084615  0.008474  0.017179   \n",
       "random_rec_test_predict       0.170653    0.000496  0.000058  0.000116   \n",
       "\n",
       "                           Recall@10  \n",
       "pop_rec_test_predict        0.014935  \n",
       "replay_kNN_test_predict     0.018244  \n",
       "implicit_als_test_predict   0.014554  \n",
       "replay_ALS_test_predict     0.015667  \n",
       "implicit_als                0.013732  \n",
       "random_rec_test_predict     0.000132  "
      ]
     },
     "execution_count": 7,
     "metadata": {},
     "output_type": "execute_result"
    }
   ],
   "source": [
    "# book crossing\n",
    "e.results.sort_values(\"NDCG@10\", ascending=False)\n"
   ]
  }
 ],
 "metadata": {
  "kernelspec": {
   "display_name": "Python 3.8.10 ('mc_venv': venv)",
   "language": "python",
   "name": "python3"
  },
  "language_info": {
   "codemirror_mode": {
    "name": "ipython",
    "version": 3
   },
   "file_extension": ".py",
   "mimetype": "text/x-python",
   "name": "python",
   "nbconvert_exporter": "python",
   "pygments_lexer": "ipython3",
   "version": "3.8.10"
  },
  "orig_nbformat": 4,
  "vscode": {
   "interpreter": {
    "hash": "4a1e246ba7264a68dfa8de1083033df2ac4589a6e589f0ab99b6826ead015aaf"
   }
  }
 },
 "nbformat": 4,
 "nbformat_minor": 2
}
