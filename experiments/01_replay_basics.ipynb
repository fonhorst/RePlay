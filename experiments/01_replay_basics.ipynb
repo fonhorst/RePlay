{
 "cells": [
  {
   "cell_type": "markdown",
   "metadata": {},
   "source": [
    "# RePlay Tutorial\n",
    "This notebook is designed to familiarize with the use of RePlay library, including:\n",
    "- creating SparkSession or passing your own session to RePlay\n",
    "- data preprocessing\n",
    "- dataset users and items re-indexing\n",
    "- data splitting\n",
    "- model training and inference\n",
    "- model optimization\n",
    "- model saving and loading\n",
    "- models comparison"
   ]
  },
  {
   "cell_type": "code",
   "execution_count": 1,
   "metadata": {
    "ExecuteTime": {
     "end_time": "2020-02-10T16:01:45.639135Z",
     "start_time": "2020-02-10T16:01:45.612577Z"
    },
    "jupyter": {
     "outputs_hidden": false
    },
    "pycharm": {
     "is_executing": false
    }
   },
   "outputs": [],
   "source": [
    "%load_ext autoreload\n",
    "%autoreload 2"
   ]
  },
  {
   "cell_type": "code",
   "execution_count": 2,
   "metadata": {},
   "outputs": [],
   "source": [
    "%config Completer.use_jedi = False"
   ]
  },
  {
   "cell_type": "code",
   "execution_count": 3,
   "metadata": {},
   "outputs": [],
   "source": [
    "import warnings\n",
    "from optuna.exceptions import ExperimentalWarning\n",
    "warnings.filterwarnings(\"ignore\", category=UserWarning)\n",
    "warnings.filterwarnings(\"ignore\", category=ExperimentalWarning)"
   ]
  },
  {
   "cell_type": "code",
   "execution_count": 4,
   "metadata": {},
   "outputs": [],
   "source": [
    "import pandas as pd\n",
    "\n",
    "from pyspark.sql import SparkSession\n",
    "\n",
    "from replay.data_preparator import DataPreparator, Indexer\n",
    "from replay.experiment import Experiment\n",
    "from replay.metrics import Coverage, HitRate, NDCG, MAP\n",
    "from replay.model_handler import save, load, save_indexer, load_indexer\n",
    "from replay.models import ALSWrap, ItemKNN, SLIM\n",
    "from replay.session_handler import get_spark_session, State \n",
    "from replay.splitters import UserSplitter\n",
    "from replay.utils import convert2spark, get_log_info"
   ]
  },
  {
   "cell_type": "code",
   "execution_count": 5,
   "metadata": {},
   "outputs": [],
   "source": [
    "K = 5\n",
    "SEED=1234"
   ]
  },
  {
   "cell_type": "markdown",
   "metadata": {},
   "source": [
    "## Managing SparkSession"
   ]
  },
  {
   "cell_type": "markdown",
   "metadata": {},
   "source": [
    "RePlay uses Spark as a backend, and thus `SparkSession` should be created before RePlay running. Depends on your needs, you can choose, what to do about `SparkSession`.\n",
    "\n",
    "- Option 1: use default RePlay `SparkSession`\n",
    "- You can pass you own session to RePlay. Class `State` stores current session. Here you also have two options: \n",
    "    - Option 2: call `get_spark_session` to use default RePlay `SparkSession` with the custom driver memory and number of partitions \n",
    "    - Option 3: create `SparkSession` from scratch\n"
   ]
  },
  {
   "cell_type": "markdown",
   "metadata": {},
   "source": [
    "### Option 1: use default RePlay's SparkSession\n",
    "It is the simplest and recommended way for the local execution mode. RePlay will get existing SparkSession or create the new one with default configuration.  Default session parameters are stated in `replay/session_handler.py` file. The driver memory volume and number of partitions depends on available RAM and number of cores respectively.\n",
    "\n",
    "You could initiate default session creation explicitly, e.g. to preprocess spark DataFrames, get link to SparkUI and set logging level, but if you do not create it by yourself, the session will be created by RePlay anyway."
   ]
  },
  {
   "cell_type": "code",
   "execution_count": 6,
   "metadata": {},
   "outputs": [
    {
     "name": "stderr",
     "output_type": "stream",
     "text": [
      "WARNING: An illegal reflective access operation has occurred\n",
      "WARNING: Illegal reflective access by org.apache.spark.unsafe.Platform (file:/Users/a18785698/Documents/code_dir/replay_copies/gitlab_last/env39/lib/python3.9/site-packages/pyspark/jars/spark-unsafe_2.12-3.1.3.jar) to constructor java.nio.DirectByteBuffer(long,int)\n",
      "WARNING: Please consider reporting this to the maintainers of org.apache.spark.unsafe.Platform\n",
      "WARNING: Use --illegal-access=warn to enable warnings of further illegal reflective access operations\n",
      "WARNING: All illegal access operations will be denied in a future release\n",
      "22/07/13 14:27:05 WARN NativeCodeLoader: Unable to load native-hadoop library for your platform... using builtin-java classes where applicable\n",
      "Using Spark's default log4j profile: org/apache/spark/log4j-defaults.properties\n",
      "Setting default log level to \"WARN\".\n",
      "To adjust logging level use sc.setLogLevel(newLevel). For SparkR, use setLogLevel(newLevel).\n",
      "22/07/13 14:27:05 WARN SparkConf: Note that spark.local.dir will be overridden by the value set by the cluster manager (via SPARK_LOCAL_DIRS in mesos/standalone/kubernetes and LOCAL_DIRS in YARN).\n"
     ]
    },
    {
     "data": {
      "text/html": [
       "\n",
       "            <div>\n",
       "                <p><b>SparkSession - hive</b></p>\n",
       "                \n",
       "        <div>\n",
       "            <p><b>SparkContext</b></p>\n",
       "\n",
       "            <p><a href=\"http://localhost:4040\">Spark UI</a></p>\n",
       "\n",
       "            <dl>\n",
       "              <dt>Version</dt>\n",
       "                <dd><code>v3.1.3</code></dd>\n",
       "              <dt>Master</dt>\n",
       "                <dd><code>local[*]</code></dd>\n",
       "              <dt>AppName</dt>\n",
       "                <dd><code>pyspark-shell</code></dd>\n",
       "            </dl>\n",
       "        </div>\n",
       "        \n",
       "            </div>\n",
       "        "
      ],
      "text/plain": [
       "<pyspark.sql.session.SparkSession at 0x1323465e0>"
      ]
     },
     "execution_count": 6,
     "metadata": {},
     "output_type": "execute_result"
    }
   ],
   "source": [
    "spark = State().session\n",
    "spark.sparkContext.setLogLevel('ERROR')\n",
    "spark"
   ]
  },
  {
   "cell_type": "code",
   "execution_count": 7,
   "metadata": {},
   "outputs": [],
   "source": [
    "def print_config_param(session, conf_name):\n",
    "    # get current spark session configuration:\n",
    "    conf = session.sparkContext.getConf().getAll()\n",
    "    # get num partitions\n",
    "    print(f'{conf_name}: {dict(conf)[conf_name]}')"
   ]
  },
  {
   "cell_type": "code",
   "execution_count": 8,
   "metadata": {},
   "outputs": [
    {
     "name": "stdout",
     "output_type": "stream",
     "text": [
      "spark.sql.shuffle.partitions: 24\n"
     ]
    }
   ],
   "source": [
    "print_config_param(spark, 'spark.sql.shuffle.partitions')"
   ]
  },
  {
   "cell_type": "markdown",
   "metadata": {},
   "source": [
    "### Option 2:  Call `get_spark_session`  function to customize driver memory (spark.driver.memory) or number of partitions (spark.sql.shuffle.partitions) and use the default RePlay settings for other configuration parameters.\n",
    "We will specify 16 partitions and 4Gb driver memory for example. Pass created session to RePlay `State`."
   ]
  },
  {
   "cell_type": "code",
   "execution_count": 9,
   "metadata": {},
   "outputs": [],
   "source": [
    "spark.stop()\n",
    "session = get_spark_session(spark_memory=4, shuffle_partitions=16)\n",
    "spark = State(session).session"
   ]
  },
  {
   "cell_type": "code",
   "execution_count": 10,
   "metadata": {},
   "outputs": [
    {
     "name": "stdout",
     "output_type": "stream",
     "text": [
      "spark.sql.shuffle.partitions: 16\n"
     ]
    }
   ],
   "source": [
    "print_config_param(spark, 'spark.sql.shuffle.partitions')"
   ]
  },
  {
   "cell_type": "markdown",
   "metadata": {},
   "source": [
    "### Option 3: Create your own session\n",
    "Pass created session to RePlay `State`."
   ]
  },
  {
   "cell_type": "code",
   "execution_count": 11,
   "metadata": {},
   "outputs": [
    {
     "name": "stdout",
     "output_type": "stream",
     "text": [
      "spark.sql.shuffle.partitions: 50\n"
     ]
    }
   ],
   "source": [
    "spark.stop()\n",
    "session = (\n",
    "        SparkSession.builder.config(\"spark.driver.memory\", \"8g\")\n",
    "        .config(\"spark.sql.shuffle.partitions\", \"50\")\n",
    "        .config(\"spark.driver.bindAddress\", \"127.0.0.1\")\n",
    "        .config(\"spark.driver.host\", \"localhost\")\n",
    "        .master(\"local[*]\")\n",
    "        .enableHiveSupport()\n",
    "        .getOrCreate()\n",
    "    )\n",
    "spark = State(session).session\n",
    "print_config_param(spark, 'spark.sql.shuffle.partitions')"
   ]
  },
  {
   "cell_type": "markdown",
   "metadata": {},
   "source": [
    "#### Will return to the default session config"
   ]
  },
  {
   "cell_type": "code",
   "execution_count": 12,
   "metadata": {},
   "outputs": [
    {
     "data": {
      "text/html": [
       "\n",
       "            <div>\n",
       "                <p><b>SparkSession - hive</b></p>\n",
       "                \n",
       "        <div>\n",
       "            <p><b>SparkContext</b></p>\n",
       "\n",
       "            <p><a href=\"http://localhost:4040\">Spark UI</a></p>\n",
       "\n",
       "            <dl>\n",
       "              <dt>Version</dt>\n",
       "                <dd><code>v3.1.3</code></dd>\n",
       "              <dt>Master</dt>\n",
       "                <dd><code>local[*]</code></dd>\n",
       "              <dt>AppName</dt>\n",
       "                <dd><code>pyspark-shell</code></dd>\n",
       "            </dl>\n",
       "        </div>\n",
       "        \n",
       "            </div>\n",
       "        "
      ],
      "text/plain": [
       "<pyspark.sql.session.SparkSession at 0x1321fe4c0>"
      ]
     },
     "execution_count": 12,
     "metadata": {},
     "output_type": "execute_result"
    }
   ],
   "source": [
    "spark.stop()\n",
    "spark = State(get_spark_session()).session\n",
    "spark.sparkContext.setLogLevel('ERROR')\n",
    "spark"
   ]
  },
  {
   "cell_type": "markdown",
   "metadata": {},
   "source": [
    "## 0. Data preprocessing <a name='data-preparator'></a>\n",
    "We will use MovieLens 1m as an example."
   ]
  },
  {
   "cell_type": "code",
   "execution_count": 13,
   "metadata": {
    "ExecuteTime": {
     "end_time": "2020-02-10T15:59:42.041251Z",
     "start_time": "2020-02-10T15:59:09.230636Z"
    },
    "jupyter": {
     "outputs_hidden": false
    },
    "scrolled": true
   },
   "outputs": [],
   "source": [
    "df = pd.read_csv(\"data/ml1m_ratings.dat\", sep=\"\\t\", names=[\"userId\", \"item_id\", \"relevance\", \"timestamp\"])\n",
    "users = pd.read_csv(\"data/ml1m_users.dat\", sep=\"\\t\", names=[\"user_id\", \"gender\", \"age\", \"occupation\", \"zip_code\"])"
   ]
  },
  {
   "cell_type": "code",
   "execution_count": 14,
   "metadata": {},
   "outputs": [
    {
     "data": {
      "text/html": [
       "<div>\n",
       "<style scoped>\n",
       "    .dataframe tbody tr th:only-of-type {\n",
       "        vertical-align: middle;\n",
       "    }\n",
       "\n",
       "    .dataframe tbody tr th {\n",
       "        vertical-align: top;\n",
       "    }\n",
       "\n",
       "    .dataframe thead th {\n",
       "        text-align: right;\n",
       "    }\n",
       "</style>\n",
       "<table border=\"1\" class=\"dataframe\">\n",
       "  <thead>\n",
       "    <tr style=\"text-align: right;\">\n",
       "      <th></th>\n",
       "      <th>userId</th>\n",
       "      <th>item_id</th>\n",
       "      <th>relevance</th>\n",
       "      <th>timestamp</th>\n",
       "    </tr>\n",
       "  </thead>\n",
       "  <tbody>\n",
       "    <tr>\n",
       "      <th>0</th>\n",
       "      <td>1</td>\n",
       "      <td>1193</td>\n",
       "      <td>5</td>\n",
       "      <td>978300760</td>\n",
       "    </tr>\n",
       "    <tr>\n",
       "      <th>1</th>\n",
       "      <td>1</td>\n",
       "      <td>661</td>\n",
       "      <td>3</td>\n",
       "      <td>978302109</td>\n",
       "    </tr>\n",
       "  </tbody>\n",
       "</table>\n",
       "</div>"
      ],
      "text/plain": [
       "   userId  item_id  relevance  timestamp\n",
       "0       1     1193          5  978300760\n",
       "1       1      661          3  978302109"
      ]
     },
     "execution_count": 14,
     "metadata": {},
     "output_type": "execute_result"
    }
   ],
   "source": [
    "df.head(2)"
   ]
  },
  {
   "cell_type": "code",
   "execution_count": 15,
   "metadata": {},
   "outputs": [
    {
     "data": {
      "text/html": [
       "<div>\n",
       "<style scoped>\n",
       "    .dataframe tbody tr th:only-of-type {\n",
       "        vertical-align: middle;\n",
       "    }\n",
       "\n",
       "    .dataframe tbody tr th {\n",
       "        vertical-align: top;\n",
       "    }\n",
       "\n",
       "    .dataframe thead th {\n",
       "        text-align: right;\n",
       "    }\n",
       "</style>\n",
       "<table border=\"1\" class=\"dataframe\">\n",
       "  <thead>\n",
       "    <tr style=\"text-align: right;\">\n",
       "      <th></th>\n",
       "      <th>user_id</th>\n",
       "      <th>gender</th>\n",
       "      <th>age</th>\n",
       "      <th>occupation</th>\n",
       "      <th>zip_code</th>\n",
       "    </tr>\n",
       "  </thead>\n",
       "  <tbody>\n",
       "    <tr>\n",
       "      <th>0</th>\n",
       "      <td>1</td>\n",
       "      <td>F</td>\n",
       "      <td>1</td>\n",
       "      <td>10</td>\n",
       "      <td>48067</td>\n",
       "    </tr>\n",
       "    <tr>\n",
       "      <th>1</th>\n",
       "      <td>2</td>\n",
       "      <td>M</td>\n",
       "      <td>56</td>\n",
       "      <td>16</td>\n",
       "      <td>70072</td>\n",
       "    </tr>\n",
       "  </tbody>\n",
       "</table>\n",
       "</div>"
      ],
      "text/plain": [
       "   user_id gender  age  occupation zip_code\n",
       "0        1      F    1          10    48067\n",
       "1        2      M   56          16    70072"
      ]
     },
     "execution_count": 15,
     "metadata": {},
     "output_type": "execute_result"
    }
   ],
   "source": [
    "users.head(2)"
   ]
  },
  {
   "cell_type": "markdown",
   "metadata": {},
   "source": [
    "### 0.1. DataPreparator"
   ]
  },
  {
   "cell_type": "markdown",
   "metadata": {},
   "source": [
    "An inner data format in RePlay is a spark dataframe. \n",
    "\n",
    "Columns with users' and items' identifiers are required for interaction log. Original user and item identifiers should be named as `user_id` and `item_id`. Those identifiers in section [0.3. Indexing](#indexing) will be converted to integer identifiers, which will be named `user_idx`, `item_idx`. Optional columns for interaction matrix are ``relevance`` and interaction ``timestamp``.\n",
    "\n",
    "DataFrames with user or item features should have column `user_id` or `item_id` respectively.\n",
    "\n",
    "We implemented DataPreparator class to convert pandas dataframes to spark format and preprocess the data, including renaming/creation of required and optional interaction matrix columns, null check and dates parsing. It is an optional step, if you already have data in Spark DataFrame format, could rename the above mentioned columns, and confident in completeness and quality of the data, skip this step."
   ]
  },
  {
   "cell_type": "code",
   "execution_count": 16,
   "metadata": {},
   "outputs": [],
   "source": [
    "preparator = DataPreparator()"
   ]
  },
  {
   "cell_type": "markdown",
   "metadata": {},
   "source": [
    "#### Interactions log preprocessing"
   ]
  },
  {
   "cell_type": "code",
   "execution_count": 17,
   "metadata": {},
   "outputs": [
    {
     "name": "stderr",
     "output_type": "stream",
     "text": [
      "13-Jul-22 14:28:06, replay, INFO: Columns with ids of users or items are present in mapping. The dataframe will be treated as an interactions log.\n",
      "                                                                                \r"
     ]
    },
    {
     "name": "stdout",
     "output_type": "stream",
     "text": [
      "CPU times: user 128 ms, sys: 59.7 ms, total: 188 ms\n",
      "Wall time: 5.22 s\n"
     ]
    }
   ],
   "source": [
    "%%time\n",
    "log = preparator.transform(columns_mapping={'user_id': 'userId',\n",
    "                                      'item_id': 'item_id',\n",
    "                                      'relevance': 'relevance',\n",
    "                                      'timestamp': 'timestamp'\n",
    "                                     }, \n",
    "                           data=df)"
   ]
  },
  {
   "cell_type": "code",
   "execution_count": 18,
   "metadata": {},
   "outputs": [
    {
     "name": "stdout",
     "output_type": "stream",
     "text": [
      "+-------+-------+---------+-------------------+\n",
      "|user_id|item_id|relevance|          timestamp|\n",
      "+-------+-------+---------+-------------------+\n",
      "|      1|   1193|      5.0|2001-01-01 01:12:40|\n",
      "|      1|    661|      3.0|2001-01-01 01:35:09|\n",
      "+-------+-------+---------+-------------------+\n",
      "only showing top 2 rows\n",
      "\n"
     ]
    }
   ],
   "source": [
    "log.show(2)"
   ]
  },
  {
   "cell_type": "code",
   "execution_count": 19,
   "metadata": {},
   "outputs": [
    {
     "name": "stdout",
     "output_type": "stream",
     "text": [
      "root\n",
      " |-- user_id: long (nullable = true)\n",
      " |-- item_id: long (nullable = true)\n",
      " |-- relevance: double (nullable = true)\n",
      " |-- timestamp: timestamp (nullable = true)\n",
      "\n"
     ]
    }
   ],
   "source": [
    "log.printSchema()"
   ]
  },
  {
   "cell_type": "code",
   "execution_count": 20,
   "metadata": {},
   "outputs": [
    {
     "name": "stderr",
     "output_type": "stream",
     "text": [
      "                                                                                \r"
     ]
    },
    {
     "data": {
      "text/plain": [
       "'total lines: 1000209, total users: 6040, total items: 3706'"
      ]
     },
     "execution_count": 20,
     "metadata": {},
     "output_type": "execute_result"
    }
   ],
   "source": [
    "get_log_info(log, user_col='user_id', item_col='item_id')"
   ]
  },
  {
   "cell_type": "markdown",
   "metadata": {},
   "source": [
    "As you see, `userId` was renamed to `user_id` and `timestamp` was converted to `TimestampType`."
   ]
  },
  {
   "cell_type": "markdown",
   "metadata": {},
   "source": [
    "#### Feature dataframe preprocessing\n",
    "To transform feature dataframes you could also use DataPreparator:"
   ]
  },
  {
   "cell_type": "code",
   "execution_count": 21,
   "metadata": {},
   "outputs": [
    {
     "name": "stderr",
     "output_type": "stream",
     "text": [
      "13-Jul-22 14:28:13, replay, INFO: Column with ids of users or items is absent in mapping. The dataframe will be treated as a users'/items' features dataframe.\n"
     ]
    },
    {
     "name": "stdout",
     "output_type": "stream",
     "text": [
      "+-------+------+---+----------+--------+\n",
      "|user_id|gender|age|occupation|zip_code|\n",
      "+-------+------+---+----------+--------+\n",
      "|      1|     F|  1|        10|   48067|\n",
      "|      2|     M| 56|        16|   70072|\n",
      "+-------+------+---+----------+--------+\n",
      "only showing top 2 rows\n",
      "\n"
     ]
    }
   ],
   "source": [
    "user_features = preparator.transform(columns_mapping={'user_id': 'user_id'},\n",
    "                                     data=users)\n",
    "user_features.show(2)"
   ]
  },
  {
   "cell_type": "markdown",
   "metadata": {},
   "source": [
    "Using the DataPreparator is optional, you could convert dataFrame to spark with ``convert_to_spark`` from ``replay.utils`` and manually rename columns."
   ]
  },
  {
   "cell_type": "code",
   "execution_count": 22,
   "metadata": {},
   "outputs": [
    {
     "name": "stdout",
     "output_type": "stream",
     "text": [
      "+-------+------+---+----------+--------+\n",
      "|user_id|gender|age|occupation|zip_code|\n",
      "+-------+------+---+----------+--------+\n",
      "|      1|     F|  1|        10|   48067|\n",
      "|      2|     M| 56|        16|   70072|\n",
      "+-------+------+---+----------+--------+\n",
      "only showing top 2 rows\n",
      "\n"
     ]
    }
   ],
   "source": [
    "# the same result without DataPreparator\n",
    "convert2spark(users).show(2)"
   ]
  },
  {
   "cell_type": "markdown",
   "metadata": {},
   "source": [
    "### 0.2 Filtering\n",
    "It is common to filter interactions log by interaction date or rating value or remove items or users with small number of interactions. RePlay offers some filters presented in `replay.filters` module.\n",
    "We will leave ratings greater than or equal to 3 and remove users with 4 or fewer interactions."
   ]
  },
  {
   "cell_type": "code",
   "execution_count": 23,
   "metadata": {},
   "outputs": [],
   "source": [
    "from replay.filters import filter_by_min_count, filter_out_low_ratings"
   ]
  },
  {
   "cell_type": "code",
   "execution_count": 24,
   "metadata": {},
   "outputs": [
    {
     "data": {
      "text/plain": [
       "'total lines: 836478, total users: 6039, total items: 3628'"
      ]
     },
     "execution_count": 24,
     "metadata": {},
     "output_type": "execute_result"
    }
   ],
   "source": [
    "log = filter_out_low_ratings(log, value=3)\n",
    "get_log_info(log, user_col='user_id', item_col='item_id')"
   ]
  },
  {
   "cell_type": "code",
   "execution_count": 25,
   "metadata": {},
   "outputs": [
    {
     "name": "stderr",
     "output_type": "stream",
     "text": [
      "13-Jul-22 14:28:17, replay, INFO: current threshold removes 1.1954887038272376e-06% of data\n",
      "[Stage 46:>                                                         (0 + 8) / 8]\r"
     ]
    },
    {
     "name": "stdout",
     "output_type": "stream",
     "text": [
      "CPU times: user 15.1 ms, sys: 5.92 ms, total: 21.1 ms\n",
      "Wall time: 6.18 s\n"
     ]
    },
    {
     "name": "stderr",
     "output_type": "stream",
     "text": [
      "\r",
      "                                                                                \r"
     ]
    },
    {
     "data": {
      "text/plain": [
       "'total lines: 836477, total users: 6038, total items: 3628'"
      ]
     },
     "execution_count": 25,
     "metadata": {},
     "output_type": "execute_result"
    }
   ],
   "source": [
    "%%time\n",
    "log = filter_by_min_count(log, num_entries=5, group_by='user_id')\n",
    "get_log_info(log, user_col='user_id', item_col='item_id')"
   ]
  },
  {
   "cell_type": "markdown",
   "metadata": {},
   "source": [
    "<a id='indexing'></a>\n",
    "### 0.3. Indexing"
   ]
  },
  {
   "cell_type": "markdown",
   "metadata": {},
   "source": [
    "RePlay models require columns with users' and items' identifiers _(ids)_ to be named as `user_idx` and `item_idx`. Those _ids_ should be integers starting at zero without gaps. This is important for models that use sparse matrices and define the matrix size as the biggest seen user and item index. Storing _ids_ as integers also help to reduce memory usage compared to string _ids_.\n",
    "\n",
    "You should convert user and item _ids_ in interaction's log and feature dataframes. RaPlay offers Indexer class to perform the _ids_ conversion and convert them back after recommendations generation (predict). The Indexer will store label encoders for users and items and allow transforming ids for users and items, which come after the Indexer fit."
   ]
  },
  {
   "cell_type": "code",
   "execution_count": 26,
   "metadata": {},
   "outputs": [],
   "source": [
    "indexer = Indexer(user_col='user_id', item_col='item_id')"
   ]
  },
  {
   "cell_type": "markdown",
   "metadata": {},
   "source": [
    "Take all available user and item ids from log and features and pass them to Indexer. The _ids_ could repeat, the indexes will be ordered by label frequencies, so the most frequent label gets index 0."
   ]
  },
  {
   "cell_type": "code",
   "execution_count": 27,
   "metadata": {},
   "outputs": [
    {
     "name": "stderr",
     "output_type": "stream",
     "text": [
      "                                                                                \r"
     ]
    },
    {
     "name": "stdout",
     "output_type": "stream",
     "text": [
      "CPU times: user 52.2 ms, sys: 14.1 ms, total: 66.4 ms\n",
      "Wall time: 3.76 s\n"
     ]
    }
   ],
   "source": [
    "%%time\n",
    "indexer.fit(users=log.select('user_id').unionByName(user_features.select('user_id')),\n",
    "            items=log.select('item_id'))"
   ]
  },
  {
   "cell_type": "code",
   "execution_count": 28,
   "metadata": {},
   "outputs": [
    {
     "name": "stderr",
     "output_type": "stream",
     "text": [
      "[Stage 65:==>               (1 + 7) / 8][Stage 66:>                 (0 + 1) / 8]\r"
     ]
    },
    {
     "name": "stdout",
     "output_type": "stream",
     "text": [
      "+--------+--------+---------+-------------------+\n",
      "|user_idx|item_idx|relevance|          timestamp|\n",
      "+--------+--------+---------+-------------------+\n",
      "|    2645|     242|      4.0|2000-12-30 00:47:02|\n",
      "|    2645|    1418|      4.0|2000-12-30 00:38:05|\n",
      "+--------+--------+---------+-------------------+\n",
      "only showing top 2 rows\n",
      "\n",
      "CPU times: user 65.8 ms, sys: 20.8 ms, total: 86.6 ms\n",
      "Wall time: 3.85 s\n"
     ]
    },
    {
     "name": "stderr",
     "output_type": "stream",
     "text": [
      "\r",
      "[Stage 66:==============>                                           (2 + 6) / 8]\r",
      "\r",
      "                                                                                \r"
     ]
    }
   ],
   "source": [
    "%%time\n",
    "log_replay = indexer.transform(df=log)\n",
    "log_replay.show(2)"
   ]
  },
  {
   "cell_type": "code",
   "execution_count": 29,
   "metadata": {},
   "outputs": [
    {
     "name": "stdout",
     "output_type": "stream",
     "text": [
      "+--------+------+---+----------+--------+\n",
      "|user_idx|gender|age|occupation|zip_code|\n",
      "+--------+------+---+----------+--------+\n",
      "|    3861|     F|  1|        10|   48067|\n",
      "|    2301|     M| 56|        16|   70072|\n",
      "+--------+------+---+----------+--------+\n",
      "only showing top 2 rows\n",
      "\n",
      "CPU times: user 36.9 ms, sys: 7.24 ms, total: 44.1 ms\n",
      "Wall time: 352 ms\n"
     ]
    }
   ],
   "source": [
    "%%time\n",
    "user_features_replay = indexer.transform(df=user_features)\n",
    "user_features_replay.show(2)"
   ]
  },
  {
   "cell_type": "markdown",
   "metadata": {},
   "source": [
    "### 0.4. Split"
   ]
  },
  {
   "cell_type": "markdown",
   "metadata": {},
   "source": [
    "RePlay provides you with data splitters to reproduce a validation schemas widely-used in recommender systems. Splitters return cached dataframes to compute them once and re-use for models training, inference and metrics calculation.\n",
    "\n",
    "`UserSplitter` takes ``item_test_size`` items for ``user_test_size`` user to the test dataset."
   ]
  },
  {
   "cell_type": "code",
   "execution_count": 30,
   "metadata": {
    "ExecuteTime": {
     "end_time": "2020-02-10T15:59:50.986401Z",
     "start_time": "2020-02-10T15:59:42.042998Z"
    },
    "jupyter": {
     "outputs_hidden": false
    }
   },
   "outputs": [
    {
     "name": "stderr",
     "output_type": "stream",
     "text": [
      "                                                                                \r"
     ]
    },
    {
     "name": "stdout",
     "output_type": "stream",
     "text": [
      "833977 2499\n",
      "CPU times: user 50.9 ms, sys: 18.1 ms, total: 69 ms\n",
      "Wall time: 11.9 s\n"
     ]
    }
   ],
   "source": [
    "%%time\n",
    "splitter = UserSplitter(\n",
    "    drop_cold_items=True,\n",
    "    drop_cold_users=True,\n",
    "    item_test_size=K,\n",
    "    user_test_size=500,\n",
    "    seed=SEED,\n",
    "    shuffle=True\n",
    ")\n",
    "train, test = splitter.split(log_replay)\n",
    "print(train.count(), test.count())"
   ]
  },
  {
   "cell_type": "code",
   "execution_count": 31,
   "metadata": {},
   "outputs": [
    {
     "data": {
      "text/plain": [
       "True"
      ]
     },
     "execution_count": 31,
     "metadata": {},
     "output_type": "execute_result"
    }
   ],
   "source": [
    "test.is_cached"
   ]
  },
  {
   "cell_type": "markdown",
   "metadata": {},
   "source": [
    "## 1. Models training\n",
    "\n",
    "#### SLIM"
   ]
  },
  {
   "cell_type": "code",
   "execution_count": 32,
   "metadata": {},
   "outputs": [],
   "source": [
    "slim = SLIM(seed=SEED)"
   ]
  },
  {
   "cell_type": "code",
   "execution_count": 33,
   "metadata": {},
   "outputs": [
    {
     "name": "stderr",
     "output_type": "stream",
     "text": [
      "[Stage 169:==================================================>    (22 + 2) / 24]\r"
     ]
    },
    {
     "name": "stdout",
     "output_type": "stream",
     "text": [
      "CPU times: user 1.78 s, sys: 140 ms, total: 1.92 s\n",
      "Wall time: 41 s\n"
     ]
    },
    {
     "name": "stderr",
     "output_type": "stream",
     "text": [
      "\r",
      "                                                                                \r"
     ]
    }
   ],
   "source": [
    "%%time\n",
    "slim.fit(log=train)"
   ]
  },
  {
   "cell_type": "code",
   "execution_count": 34,
   "metadata": {},
   "outputs": [
    {
     "name": "stderr",
     "output_type": "stream",
     "text": [
      "13-Jul-22 14:29:23, replay, INFO: This model can't predict cold items, they will be ignored\n"
     ]
    },
    {
     "name": "stdout",
     "output_type": "stream",
     "text": [
      "CPU times: user 34.6 ms, sys: 17.8 ms, total: 52.5 ms\n",
      "Wall time: 2.2 s\n"
     ]
    }
   ],
   "source": [
    "%%time\n",
    "\n",
    "recs = slim.predict(\n",
    "    k=K,\n",
    "    users=test.select('user_idx').distinct(),\n",
    "    log=train,\n",
    "    filter_seen_items=True\n",
    ")"
   ]
  },
  {
   "cell_type": "code",
   "execution_count": 35,
   "metadata": {},
   "outputs": [
    {
     "name": "stderr",
     "output_type": "stream",
     "text": [
      "[Stage 256:=============================================>         (20 + 4) / 24]\r"
     ]
    },
    {
     "name": "stdout",
     "output_type": "stream",
     "text": [
      "+--------+--------+------------------+\n",
      "|user_idx|item_idx|         relevance|\n",
      "+--------+--------+------------------+\n",
      "|     282|      15|1.0327709816356303|\n",
      "|     282|      80|0.9718415807887311|\n",
      "+--------+--------+------------------+\n",
      "only showing top 2 rows\n",
      "\n"
     ]
    },
    {
     "name": "stderr",
     "output_type": "stream",
     "text": [
      "\r",
      "                                                                                \r"
     ]
    }
   ],
   "source": [
    "recs.show(2)"
   ]
  },
  {
   "cell_type": "markdown",
   "metadata": {},
   "source": [
    "## 2. Models evaluation"
   ]
  },
  {
   "cell_type": "markdown",
   "metadata": {},
   "source": [
    "RePlay implements some popular recommenders' quality metrics. Use pure metrics or calculate a set of chosen metrics and compare models with the ``Experiment`` class."
   ]
  },
  {
   "cell_type": "code",
   "execution_count": 36,
   "metadata": {
    "ExecuteTime": {
     "end_time": "2020-02-10T16:07:28.942205Z",
     "start_time": "2020-02-10T16:07:26.281475Z"
    },
    "jupyter": {
     "outputs_hidden": false
    }
   },
   "outputs": [],
   "source": [
    "metrics = Experiment(test, {NDCG(): K,\n",
    "                            MAP() : K,\n",
    "                            HitRate(): [1, K],\n",
    "                            Coverage(train): K\n",
    "                           })"
   ]
  },
  {
   "cell_type": "code",
   "execution_count": 37,
   "metadata": {},
   "outputs": [
    {
     "name": "stderr",
     "output_type": "stream",
     "text": [
      "                                                                                \r"
     ]
    },
    {
     "name": "stdout",
     "output_type": "stream",
     "text": [
      "CPU times: user 182 ms, sys: 107 ms, total: 288 ms\n",
      "Wall time: 26.2 s\n"
     ]
    },
    {
     "data": {
      "text/html": [
       "<div>\n",
       "<style scoped>\n",
       "    .dataframe tbody tr th:only-of-type {\n",
       "        vertical-align: middle;\n",
       "    }\n",
       "\n",
       "    .dataframe tbody tr th {\n",
       "        vertical-align: top;\n",
       "    }\n",
       "\n",
       "    .dataframe thead th {\n",
       "        text-align: right;\n",
       "    }\n",
       "</style>\n",
       "<table border=\"1\" class=\"dataframe\">\n",
       "  <thead>\n",
       "    <tr style=\"text-align: right;\">\n",
       "      <th></th>\n",
       "      <th>Coverage@5</th>\n",
       "      <th>HitRate@1</th>\n",
       "      <th>HitRate@5</th>\n",
       "      <th>MAP@5</th>\n",
       "      <th>NDCG@5</th>\n",
       "    </tr>\n",
       "  </thead>\n",
       "  <tbody>\n",
       "    <tr>\n",
       "      <th>SLIM</th>\n",
       "      <td>0.151916</td>\n",
       "      <td>0.22</td>\n",
       "      <td>0.556</td>\n",
       "      <td>0.10006</td>\n",
       "      <td>0.172416</td>\n",
       "    </tr>\n",
       "  </tbody>\n",
       "</table>\n",
       "</div>"
      ],
      "text/plain": [
       "      Coverage@5  HitRate@1  HitRate@5    MAP@5    NDCG@5\n",
       "SLIM    0.151916       0.22      0.556  0.10006  0.172416"
      ]
     },
     "execution_count": 37,
     "metadata": {},
     "output_type": "execute_result"
    }
   ],
   "source": [
    "%%time\n",
    "metrics.add_result(\"SLIM\", recs)\n",
    "metrics.results"
   ]
  },
  {
   "cell_type": "markdown",
   "metadata": {},
   "source": [
    "## 3. Hyperparameters optimization"
   ]
  },
  {
   "cell_type": "markdown",
   "metadata": {},
   "source": [
    "#### 3.1 Search"
   ]
  },
  {
   "cell_type": "code",
   "execution_count": 38,
   "metadata": {},
   "outputs": [
    {
     "name": "stderr",
     "output_type": "stream",
     "text": [
      "                                                                                \r"
     ]
    }
   ],
   "source": [
    "# data split for hyperparameters optimization\n",
    "train_opt, val_opt = splitter.split(train)"
   ]
  },
  {
   "cell_type": "code",
   "execution_count": 39,
   "metadata": {},
   "outputs": [
    {
     "name": "stderr",
     "output_type": "stream",
     "text": [
      "\u001B[32m[I 2022-07-13 14:31:50,885]\u001B[0m A new study created in memory with name: no-name-11180cb9-31dc-40a1-bb83-a71f5c182226\u001B[0m\n",
      "13-Jul-22 14:32:34, replay, INFO: This model can't predict cold items, they will be ignored\n",
      "\u001B[32m[I 2022-07-13 14:32:55,945]\u001B[0m Trial 0 finished with value: 0.1734326589995294 and parameters: {'beta': 0.01, 'lambda_': 0.01}. Best is trial 0 with value: 0.1734326589995294.\u001B[0m\n",
      "13-Jul-22 14:33:54, replay, INFO: This model can't predict cold items, they will be ignored\n",
      "\u001B[32m[I 2022-07-13 14:34:12,212]\u001B[0m Trial 1 finished with value: 0.170801871243933 and parameters: {'beta': 1.4507835506704378, 'lambda_': 0.00040535434413768067}. Best is trial 0 with value: 0.1734326589995294.\u001B[0m\n",
      "13-Jul-22 14:35:05, replay, INFO: This model can't predict cold items, they will be ignored\n",
      "\u001B[32m[I 2022-07-13 14:35:31,316]\u001B[0m Trial 2 finished with value: 0.17174942939647048 and parameters: {'beta': 1.6339267240132733, 'lambda_': 0.00486422220451093}. Best is trial 0 with value: 0.1734326589995294.\u001B[0m\n",
      "13-Jul-22 14:36:42, replay, INFO: This model can't predict cold items, they will be ignored\n",
      "\u001B[32m[I 2022-07-13 14:36:58,354]\u001B[0m Trial 3 finished with value: 0.1733478734928956 and parameters: {'beta': 0.005254240941865545, 'lambda_': 0.008512888457054401}. Best is trial 0 with value: 0.1734326589995294.\u001B[0m\n",
      "13-Jul-22 14:37:31, replay, INFO: This model can't predict cold items, they will be ignored\n",
      "\u001B[32m[I 2022-07-13 14:37:40,544]\u001B[0m Trial 4 finished with value: 0.1319152163252058 and parameters: {'beta': 0.275262805349141, 'lambda_': 0.4087794327917848}. Best is trial 0 with value: 0.1734326589995294.\u001B[0m\n",
      "13-Jul-22 14:38:28, replay, INFO: This model can't predict cold items, they will be ignored\n",
      "\u001B[32m[I 2022-07-13 14:38:46,175]\u001B[0m Trial 5 finished with value: 0.17268282322571415 and parameters: {'beta': 0.004856924351248056, 'lambda_': 0.0015723621019677425}. Best is trial 0 with value: 0.1734326589995294.\u001B[0m\n",
      "13-Jul-22 14:39:24, replay, INFO: This model can't predict cold items, they will be ignored\n",
      "\u001B[32m[I 2022-07-13 14:39:36,004]\u001B[0m Trial 6 finished with value: 0.13718231066049125 and parameters: {'beta': 4.03093674008769e-06, 'lambda_': 0.28009404883605465}. Best is trial 0 with value: 0.1734326589995294.\u001B[0m\n",
      "13-Jul-22 14:42:25, replay, INFO: This model can't predict cold items, they will be ignored\n",
      "\u001B[32m[I 2022-07-13 14:42:41,969]\u001B[0m Trial 7 finished with value: 0.1704819323098413 and parameters: {'beta': 1.2212623794542685e-05, 'lambda_': 5.021168061712835e-05}. Best is trial 0 with value: 0.1734326589995294.\u001B[0m\n",
      "13-Jul-22 14:43:13, replay, INFO: This model can't predict cold items, they will be ignored\n",
      "\u001B[32m[I 2022-07-13 14:43:25,946]\u001B[0m Trial 8 finished with value: 0.14218128553004544 and parameters: {'beta': 1.135462265570822, 'lambda_': 0.26187608514471244}. Best is trial 0 with value: 0.1734326589995294.\u001B[0m\n",
      "13-Jul-22 14:43:47, replay, INFO: This model can't predict cold items, they will be ignored\n",
      "\u001B[32m[I 2022-07-13 14:44:21,816]\u001B[0m Trial 9 finished with value: 0.08005579449746636 and parameters: {'beta': 0.0051851312246645066, 'lambda_': 1.978537848810918}. Best is trial 0 with value: 0.1734326589995294.\u001B[0m\n",
      "13-Jul-22 14:47:38, replay, INFO: This model can't predict cold items, they will be ignored\n",
      "\u001B[32m[I 2022-07-13 14:48:01,220]\u001B[0m Trial 10 finished with value: 0.1700961159087662 and parameters: {'beta': 0.0001466784414890987, 'lambda_': 1.2114175895643672e-06}. Best is trial 0 with value: 0.1734326589995294.\u001B[0m\n",
      "13-Jul-22 14:48:51, replay, INFO: This model can't predict cold items, they will be ignored\n",
      "\u001B[32m[I 2022-07-13 14:49:06,792]\u001B[0m Trial 11 finished with value: 0.17378304091911687 and parameters: {'beta': 0.04262602807574715, 'lambda_': 0.011936660561585872}. Best is trial 11 with value: 0.17378304091911687.\u001B[0m\n",
      "13-Jul-22 14:49:50, replay, INFO: This model can't predict cold items, they will be ignored\n",
      "\u001B[32m[I 2022-07-13 14:50:04,661]\u001B[0m Trial 12 finished with value: 0.1724164035159464 and parameters: {'beta': 0.0630716454428016, 'lambda_': 0.03295203383609872}. Best is trial 11 with value: 0.17378304091911687.\u001B[0m\n",
      "13-Jul-22 14:51:17, replay, INFO: This model can't predict cold items, they will be ignored\n",
      "\u001B[32m[I 2022-07-13 14:51:32,698]\u001B[0m Trial 13 finished with value: 0.17079173328024091 and parameters: {'beta': 0.00020027240618393754, 'lambda_': 0.00014277702187791752}. Best is trial 11 with value: 0.17378304091911687.\u001B[0m\n",
      "13-Jul-22 14:52:22, replay, INFO: This model can't predict cold items, they will be ignored\n",
      "\u001B[32m[I 2022-07-13 14:52:35,576]\u001B[0m Trial 14 finished with value: 0.1738847556189315 and parameters: {'beta': 0.061429815496712774, 'lambda_': 0.02613996164121192}. Best is trial 14 with value: 0.1738847556189315.\u001B[0m\n"
     ]
    },
    {
     "name": "stdout",
     "output_type": "stream",
     "text": [
      "CPU times: user 35.5 s, sys: 5.67 s, total: 41.1 s\n",
      "Wall time: 20min 44s\n"
     ]
    }
   ],
   "source": [
    "%%time\n",
    "best_params = slim.optimize(train_opt, val_opt, criterion=NDCG(), k=K, budget=15)"
   ]
  },
  {
   "cell_type": "code",
   "execution_count": 40,
   "metadata": {},
   "outputs": [
    {
     "data": {
      "text/plain": [
       "{'beta': 0.061429815496712774, 'lambda_': 0.02613996164121192}"
      ]
     },
     "execution_count": 40,
     "metadata": {},
     "output_type": "execute_result"
    }
   ],
   "source": [
    "best_params"
   ]
  },
  {
   "cell_type": "markdown",
   "metadata": {},
   "source": [
    "#### 3.2 Compare with previous"
   ]
  },
  {
   "cell_type": "code",
   "execution_count": 41,
   "metadata": {},
   "outputs": [],
   "source": [
    "def fit_predict_evaluate(model, experiment, name):\n",
    "    model.fit(log=train)\n",
    "\n",
    "    recs = model.predict(\n",
    "        k=K,\n",
    "        users=test.select('user_idx').distinct(),\n",
    "        log=train,\n",
    "        filter_seen_items=True\n",
    "    )\n",
    "\n",
    "    experiment.add_result(name, recs)\n",
    "    return recs"
   ]
  },
  {
   "cell_type": "code",
   "execution_count": 42,
   "metadata": {},
   "outputs": [
    {
     "name": "stderr",
     "output_type": "stream",
     "text": [
      "13-Jul-22 14:53:17, replay, INFO: This model can't predict cold items, they will be ignored\n",
      "                                                                                \r"
     ]
    },
    {
     "name": "stdout",
     "output_type": "stream",
     "text": [
      "CPU times: user 2.28 s, sys: 375 ms, total: 2.65 s\n",
      "Wall time: 1min 4s\n"
     ]
    },
    {
     "data": {
      "text/html": [
       "<div>\n",
       "<style scoped>\n",
       "    .dataframe tbody tr th:only-of-type {\n",
       "        vertical-align: middle;\n",
       "    }\n",
       "\n",
       "    .dataframe tbody tr th {\n",
       "        vertical-align: top;\n",
       "    }\n",
       "\n",
       "    .dataframe thead th {\n",
       "        text-align: right;\n",
       "    }\n",
       "</style>\n",
       "<table border=\"1\" class=\"dataframe\">\n",
       "  <thead>\n",
       "    <tr style=\"text-align: right;\">\n",
       "      <th></th>\n",
       "      <th>Coverage@5</th>\n",
       "      <th>HitRate@1</th>\n",
       "      <th>HitRate@5</th>\n",
       "      <th>MAP@5</th>\n",
       "      <th>NDCG@5</th>\n",
       "    </tr>\n",
       "  </thead>\n",
       "  <tbody>\n",
       "    <tr>\n",
       "      <th>SLIM</th>\n",
       "      <td>0.151916</td>\n",
       "      <td>0.220</td>\n",
       "      <td>0.556</td>\n",
       "      <td>0.100060</td>\n",
       "      <td>0.172416</td>\n",
       "    </tr>\n",
       "    <tr>\n",
       "      <th>SLIM_optimized</th>\n",
       "      <td>0.141163</td>\n",
       "      <td>0.214</td>\n",
       "      <td>0.568</td>\n",
       "      <td>0.099273</td>\n",
       "      <td>0.172007</td>\n",
       "    </tr>\n",
       "  </tbody>\n",
       "</table>\n",
       "</div>"
      ],
      "text/plain": [
       "                Coverage@5  HitRate@1  HitRate@5     MAP@5    NDCG@5\n",
       "SLIM              0.151916      0.220      0.556  0.100060  0.172416\n",
       "SLIM_optimized    0.141163      0.214      0.568  0.099273  0.172007"
      ]
     },
     "execution_count": 42,
     "metadata": {},
     "output_type": "execute_result"
    }
   ],
   "source": [
    "%%time\n",
    "recs = fit_predict_evaluate(SLIM(**best_params, seed=SEED), metrics, 'SLIM_optimized')\n",
    "recs.cache() #caching for further processing\n",
    "metrics.results.sort_values('NDCG@5', ascending=False)"
   ]
  },
  {
   "cell_type": "markdown",
   "metadata": {},
   "source": [
    "The optimized model was better on the validation dataset, but shows comparable quality on test (better by HitRate@5 and worse by the other quality metrics). "
   ]
  },
  {
   "cell_type": "markdown",
   "metadata": {},
   "source": [
    "## 4. Getting final recommendations "
   ]
  },
  {
   "cell_type": "markdown",
   "metadata": {},
   "source": [
    "### Return to original user and item identifiers"
   ]
  },
  {
   "cell_type": "code",
   "execution_count": 43,
   "metadata": {},
   "outputs": [
    {
     "name": "stderr",
     "output_type": "stream",
     "text": [
      "[Stage 2721:======================================>               (17 + 7) / 24]\r"
     ]
    },
    {
     "name": "stdout",
     "output_type": "stream",
     "text": [
      "+-------+-------+------------------+\n",
      "|user_id|item_id|         relevance|\n",
      "+-------+-------+------------------+\n",
      "|   5107|    527| 1.046002020356746|\n",
      "|   5107|   2599|0.9492305434804991|\n",
      "+-------+-------+------------------+\n",
      "only showing top 2 rows\n",
      "\n",
      "CPU times: user 754 ms, sys: 296 ms, total: 1.05 s\n",
      "Wall time: 6.67 s\n"
     ]
    },
    {
     "name": "stderr",
     "output_type": "stream",
     "text": [
      "\r",
      "                                                                                \r"
     ]
    }
   ],
   "source": [
    "%%time\n",
    "recs = indexer.inverse_transform(recs)\n",
    "recs.show(2)"
   ]
  },
  {
   "cell_type": "markdown",
   "metadata": {},
   "source": [
    "### Convert to pandas or save"
   ]
  },
  {
   "cell_type": "code",
   "execution_count": 44,
   "metadata": {},
   "outputs": [
    {
     "data": {
      "text/html": [
       "<div>\n",
       "<style scoped>\n",
       "    .dataframe tbody tr th:only-of-type {\n",
       "        vertical-align: middle;\n",
       "    }\n",
       "\n",
       "    .dataframe tbody tr th {\n",
       "        vertical-align: top;\n",
       "    }\n",
       "\n",
       "    .dataframe thead th {\n",
       "        text-align: right;\n",
       "    }\n",
       "</style>\n",
       "<table border=\"1\" class=\"dataframe\">\n",
       "  <thead>\n",
       "    <tr style=\"text-align: right;\">\n",
       "      <th></th>\n",
       "      <th>user_id</th>\n",
       "      <th>item_id</th>\n",
       "      <th>relevance</th>\n",
       "    </tr>\n",
       "  </thead>\n",
       "  <tbody>\n",
       "    <tr>\n",
       "      <th>0</th>\n",
       "      <td>5107</td>\n",
       "      <td>527</td>\n",
       "      <td>1.046002</td>\n",
       "    </tr>\n",
       "    <tr>\n",
       "      <th>1</th>\n",
       "      <td>5107</td>\n",
       "      <td>2599</td>\n",
       "      <td>0.949231</td>\n",
       "    </tr>\n",
       "  </tbody>\n",
       "</table>\n",
       "</div>"
      ],
      "text/plain": [
       "   user_id  item_id  relevance\n",
       "0     5107      527   1.046002\n",
       "1     5107     2599   0.949231"
      ]
     },
     "execution_count": 44,
     "metadata": {},
     "output_type": "execute_result"
    }
   ],
   "source": [
    "recs_pd = recs.toPandas()\n",
    "recs_pd.head(2)"
   ]
  },
  {
   "cell_type": "code",
   "execution_count": 45,
   "metadata": {},
   "outputs": [
    {
     "name": "stderr",
     "output_type": "stream",
     "text": [
      "\r",
      "[Stage 2751:>                                                      (0 + 8) / 24]\r"
     ]
    },
    {
     "name": "stdout",
     "output_type": "stream",
     "text": [
      "CPU times: user 4.62 ms, sys: 4.24 ms, total: 8.86 ms\n",
      "Wall time: 2.75 s\n"
     ]
    },
    {
     "name": "stderr",
     "output_type": "stream",
     "text": [
      "\r",
      "[Stage 2751:==================>                                    (8 + 8) / 24]\r",
      "\r",
      "                                                                                \r"
     ]
    }
   ],
   "source": [
    "%%time\n",
    "recs.write.parquet(path='./slim_recs.parquet', mode='overwrite')"
   ]
  },
  {
   "cell_type": "markdown",
   "metadata": {},
   "source": [
    "## 4. Save and load"
   ]
  },
  {
   "cell_type": "markdown",
   "metadata": {},
   "source": [
    "RePlay allows saving and loading fitted models with `save` and `load` functions of `model_handler` module. Model is saved as a folder with all necessary parameters and data."
   ]
  },
  {
   "cell_type": "code",
   "execution_count": 46,
   "metadata": {},
   "outputs": [
    {
     "name": "stderr",
     "output_type": "stream",
     "text": [
      "\r",
      "[Stage 2762:>                                                       (0 + 1) / 1]\r",
      "\r",
      "                                                                                \r"
     ]
    },
    {
     "name": "stdout",
     "output_type": "stream",
     "text": [
      "CPU times: user 715 ms, sys: 273 ms, total: 988 ms\n",
      "Wall time: 4.57 s\n"
     ]
    }
   ],
   "source": [
    "%%time\n",
    "save_indexer(indexer, './indexer_ml1')\n",
    "indexer = load_indexer('./indexer_ml1')"
   ]
  },
  {
   "cell_type": "code",
   "execution_count": 47,
   "metadata": {},
   "outputs": [
    {
     "name": "stderr",
     "output_type": "stream",
     "text": [
      "                                                                                \r"
     ]
    },
    {
     "name": "stdout",
     "output_type": "stream",
     "text": [
      "CPU times: user 66.1 ms, sys: 59 ms, total: 125 ms\n",
      "Wall time: 42.4 s\n"
     ]
    }
   ],
   "source": [
    "%%time\n",
    "save(slim, path='./slim_best_params')\n",
    "slim_loaded = load('./slim_best_params')"
   ]
  },
  {
   "cell_type": "code",
   "execution_count": 48,
   "metadata": {},
   "outputs": [
    {
     "data": {
      "text/plain": [
       "(0.061429815496712774, 0.02613996164121192)"
      ]
     },
     "execution_count": 48,
     "metadata": {},
     "output_type": "execute_result"
    }
   ],
   "source": [
    "slim_loaded.beta, slim_loaded.lambda_"
   ]
  },
  {
   "cell_type": "code",
   "execution_count": 49,
   "metadata": {},
   "outputs": [
    {
     "name": "stderr",
     "output_type": "stream",
     "text": [
      "13-Jul-22 14:54:38, replay, INFO: This model can't predict cold items, they will be ignored\n",
      "[Stage 2842:========================================>             (18 + 6) / 24]\r"
     ]
    },
    {
     "name": "stdout",
     "output_type": "stream",
     "text": [
      "+--------+--------+------------------+\n",
      "|user_idx|item_idx|         relevance|\n",
      "+--------+--------+------------------+\n",
      "|     282|      15|1.0362708717674016|\n",
      "|     282|      61|0.9560245729412186|\n",
      "+--------+--------+------------------+\n",
      "only showing top 2 rows\n",
      "\n",
      "CPU times: user 66.2 ms, sys: 33.3 ms, total: 99.5 ms\n",
      "Wall time: 10.4 s\n"
     ]
    },
    {
     "name": "stderr",
     "output_type": "stream",
     "text": [
      "\r",
      "                                                                                \r"
     ]
    }
   ],
   "source": [
    "%%time\n",
    "pred_from_loaded = slim_loaded.predict(k=K,\n",
    "    users=test.select('user_idx').distinct(),\n",
    "    log=train,\n",
    "    filter_seen_items=True)\n",
    "pred_from_loaded.show(2)"
   ]
  },
  {
   "cell_type": "code",
   "execution_count": 50,
   "metadata": {},
   "outputs": [
    {
     "name": "stderr",
     "output_type": "stream",
     "text": [
      "[Stage 2868:==========================================>           (19 + 5) / 24]\r"
     ]
    },
    {
     "name": "stdout",
     "output_type": "stream",
     "text": [
      "+-------+-------+------------------+\n",
      "|user_id|item_id|         relevance|\n",
      "+-------+-------+------------------+\n",
      "|   5107|    527|1.0362708717674016|\n",
      "|   5107|   2599|0.9560245729412186|\n",
      "+-------+-------+------------------+\n",
      "only showing top 2 rows\n",
      "\n",
      "CPU times: user 886 ms, sys: 341 ms, total: 1.23 s\n",
      "Wall time: 7.32 s\n"
     ]
    },
    {
     "name": "stderr",
     "output_type": "stream",
     "text": [
      "\r",
      "                                                                                \r"
     ]
    }
   ],
   "source": [
    "%%time\n",
    "recs = indexer.inverse_transform(pred_from_loaded)\n",
    "recs.show(2)"
   ]
  },
  {
   "cell_type": "markdown",
   "metadata": {},
   "source": [
    "## 5. Other RePlay models"
   ]
  },
  {
   "cell_type": "markdown",
   "metadata": {},
   "source": [
    "#### ALS\n",
    "Commonly-used matrix factorization algorithm."
   ]
  },
  {
   "cell_type": "code",
   "execution_count": 51,
   "metadata": {},
   "outputs": [
    {
     "name": "stderr",
     "output_type": "stream",
     "text": [
      "13-Jul-22 14:55:47, replay, INFO: This model can't predict cold users, they will be ignored\n",
      "13-Jul-22 14:55:47, replay, INFO: This model can't predict cold items, they will be ignored\n",
      "                                                                                \r"
     ]
    },
    {
     "name": "stdout",
     "output_type": "stream",
     "text": [
      "CPU times: user 746 ms, sys: 450 ms, total: 1.2 s\n",
      "Wall time: 3min 11s\n"
     ]
    },
    {
     "data": {
      "text/html": [
       "<div>\n",
       "<style scoped>\n",
       "    .dataframe tbody tr th:only-of-type {\n",
       "        vertical-align: middle;\n",
       "    }\n",
       "\n",
       "    .dataframe tbody tr th {\n",
       "        vertical-align: top;\n",
       "    }\n",
       "\n",
       "    .dataframe thead th {\n",
       "        text-align: right;\n",
       "    }\n",
       "</style>\n",
       "<table border=\"1\" class=\"dataframe\">\n",
       "  <thead>\n",
       "    <tr style=\"text-align: right;\">\n",
       "      <th></th>\n",
       "      <th>Coverage@5</th>\n",
       "      <th>HitRate@1</th>\n",
       "      <th>HitRate@5</th>\n",
       "      <th>MAP@5</th>\n",
       "      <th>NDCG@5</th>\n",
       "    </tr>\n",
       "  </thead>\n",
       "  <tbody>\n",
       "    <tr>\n",
       "      <th>SLIM</th>\n",
       "      <td>0.151916</td>\n",
       "      <td>0.220</td>\n",
       "      <td>0.556</td>\n",
       "      <td>0.100060</td>\n",
       "      <td>0.172416</td>\n",
       "    </tr>\n",
       "    <tr>\n",
       "      <th>SLIM_optimized</th>\n",
       "      <td>0.141163</td>\n",
       "      <td>0.214</td>\n",
       "      <td>0.568</td>\n",
       "      <td>0.099273</td>\n",
       "      <td>0.172007</td>\n",
       "    </tr>\n",
       "    <tr>\n",
       "      <th>ALS</th>\n",
       "      <td>0.196305</td>\n",
       "      <td>0.202</td>\n",
       "      <td>0.550</td>\n",
       "      <td>0.086360</td>\n",
       "      <td>0.156045</td>\n",
       "    </tr>\n",
       "  </tbody>\n",
       "</table>\n",
       "</div>"
      ],
      "text/plain": [
       "                Coverage@5  HitRate@1  HitRate@5     MAP@5    NDCG@5\n",
       "SLIM              0.151916      0.220      0.556  0.100060  0.172416\n",
       "SLIM_optimized    0.141163      0.214      0.568  0.099273  0.172007\n",
       "ALS               0.196305      0.202      0.550  0.086360  0.156045"
      ]
     },
     "execution_count": 51,
     "metadata": {},
     "output_type": "execute_result"
    }
   ],
   "source": [
    "%%time\n",
    "recs = fit_predict_evaluate(ALSWrap(rank=100, seed=SEED), metrics, 'ALS')\n",
    "metrics.results.sort_values('NDCG@5', ascending=False)"
   ]
  },
  {
   "cell_type": "markdown",
   "metadata": {},
   "source": [
    "#### ItemKNN\n",
    "Commonly-used item-based recommender"
   ]
  },
  {
   "cell_type": "code",
   "execution_count": 52,
   "metadata": {},
   "outputs": [
    {
     "name": "stderr",
     "output_type": "stream",
     "text": [
      "13-Jul-22 15:00:29, replay, INFO: This model can't predict cold items, they will be ignored\n",
      "                                                                                \r"
     ]
    },
    {
     "name": "stdout",
     "output_type": "stream",
     "text": [
      "CPU times: user 373 ms, sys: 413 ms, total: 786 ms\n",
      "Wall time: 3min 3s\n"
     ]
    },
    {
     "data": {
      "text/html": [
       "<div>\n",
       "<style scoped>\n",
       "    .dataframe tbody tr th:only-of-type {\n",
       "        vertical-align: middle;\n",
       "    }\n",
       "\n",
       "    .dataframe tbody tr th {\n",
       "        vertical-align: top;\n",
       "    }\n",
       "\n",
       "    .dataframe thead th {\n",
       "        text-align: right;\n",
       "    }\n",
       "</style>\n",
       "<table border=\"1\" class=\"dataframe\">\n",
       "  <thead>\n",
       "    <tr style=\"text-align: right;\">\n",
       "      <th></th>\n",
       "      <th>Coverage@5</th>\n",
       "      <th>HitRate@1</th>\n",
       "      <th>HitRate@5</th>\n",
       "      <th>MAP@5</th>\n",
       "      <th>NDCG@5</th>\n",
       "    </tr>\n",
       "  </thead>\n",
       "  <tbody>\n",
       "    <tr>\n",
       "      <th>SLIM</th>\n",
       "      <td>0.151916</td>\n",
       "      <td>0.220</td>\n",
       "      <td>0.556</td>\n",
       "      <td>0.100060</td>\n",
       "      <td>0.172416</td>\n",
       "    </tr>\n",
       "    <tr>\n",
       "      <th>SLIM_optimized</th>\n",
       "      <td>0.141163</td>\n",
       "      <td>0.214</td>\n",
       "      <td>0.568</td>\n",
       "      <td>0.099273</td>\n",
       "      <td>0.172007</td>\n",
       "    </tr>\n",
       "    <tr>\n",
       "      <th>ALS</th>\n",
       "      <td>0.196305</td>\n",
       "      <td>0.202</td>\n",
       "      <td>0.550</td>\n",
       "      <td>0.086360</td>\n",
       "      <td>0.156045</td>\n",
       "    </tr>\n",
       "    <tr>\n",
       "      <th>ItemKNN</th>\n",
       "      <td>0.050731</td>\n",
       "      <td>0.168</td>\n",
       "      <td>0.390</td>\n",
       "      <td>0.063387</td>\n",
       "      <td>0.113365</td>\n",
       "    </tr>\n",
       "  </tbody>\n",
       "</table>\n",
       "</div>"
      ],
      "text/plain": [
       "                Coverage@5  HitRate@1  HitRate@5     MAP@5    NDCG@5\n",
       "SLIM              0.151916      0.220      0.556  0.100060  0.172416\n",
       "SLIM_optimized    0.141163      0.214      0.568  0.099273  0.172007\n",
       "ALS               0.196305      0.202      0.550  0.086360  0.156045\n",
       "ItemKNN               0.050731      0.168      0.390  0.063387  0.113365"
      ]
     },
     "execution_count": 52,
     "metadata": {},
     "output_type": "execute_result"
    }
   ],
   "source": [
    "%%time\n",
    "recs = fit_predict_evaluate(ItemKNN(num_neighbours=100), metrics, 'ItemKNN')\n",
    "metrics.results.sort_values('NDCG@5', ascending=False)"
   ]
  },
  {
   "cell_type": "markdown",
   "metadata": {},
   "source": [
    "## 6 Compare RePlay models with others\n",
    "To easily evaluate recommendations obtained from other sources, read and pass these recommendations to ``Experiment``"
   ]
  },
  {
   "cell_type": "code",
   "execution_count": 53,
   "metadata": {},
   "outputs": [],
   "source": [
    "import pyspark.sql.functions as sf"
   ]
  },
  {
   "cell_type": "code",
   "execution_count": 54,
   "metadata": {},
   "outputs": [
    {
     "name": "stderr",
     "output_type": "stream",
     "text": [
      "                                                                                \r"
     ]
    },
    {
     "data": {
      "text/html": [
       "<div>\n",
       "<style scoped>\n",
       "    .dataframe tbody tr th:only-of-type {\n",
       "        vertical-align: middle;\n",
       "    }\n",
       "\n",
       "    .dataframe tbody tr th {\n",
       "        vertical-align: top;\n",
       "    }\n",
       "\n",
       "    .dataframe thead th {\n",
       "        text-align: right;\n",
       "    }\n",
       "</style>\n",
       "<table border=\"1\" class=\"dataframe\">\n",
       "  <thead>\n",
       "    <tr style=\"text-align: right;\">\n",
       "      <th></th>\n",
       "      <th>Coverage@5</th>\n",
       "      <th>HitRate@1</th>\n",
       "      <th>HitRate@5</th>\n",
       "      <th>MAP@5</th>\n",
       "      <th>NDCG@5</th>\n",
       "    </tr>\n",
       "  </thead>\n",
       "  <tbody>\n",
       "    <tr>\n",
       "      <th>SLIM</th>\n",
       "      <td>0.151916</td>\n",
       "      <td>0.220</td>\n",
       "      <td>0.556</td>\n",
       "      <td>0.100060</td>\n",
       "      <td>0.172416</td>\n",
       "    </tr>\n",
       "    <tr>\n",
       "      <th>SLIM_optimized</th>\n",
       "      <td>0.141163</td>\n",
       "      <td>0.214</td>\n",
       "      <td>0.568</td>\n",
       "      <td>0.099273</td>\n",
       "      <td>0.172007</td>\n",
       "    </tr>\n",
       "    <tr>\n",
       "      <th>ALS</th>\n",
       "      <td>0.196305</td>\n",
       "      <td>0.202</td>\n",
       "      <td>0.550</td>\n",
       "      <td>0.086360</td>\n",
       "      <td>0.156045</td>\n",
       "    </tr>\n",
       "    <tr>\n",
       "      <th>ItemKNN</th>\n",
       "      <td>0.050731</td>\n",
       "      <td>0.168</td>\n",
       "      <td>0.390</td>\n",
       "      <td>0.063387</td>\n",
       "      <td>0.113365</td>\n",
       "    </tr>\n",
       "    <tr>\n",
       "      <th>my_model</th>\n",
       "      <td>0.050731</td>\n",
       "      <td>0.118</td>\n",
       "      <td>0.390</td>\n",
       "      <td>0.055720</td>\n",
       "      <td>0.104047</td>\n",
       "    </tr>\n",
       "  </tbody>\n",
       "</table>\n",
       "</div>"
      ],
      "text/plain": [
       "                Coverage@5  HitRate@1  HitRate@5     MAP@5    NDCG@5\n",
       "SLIM              0.151916      0.220      0.556  0.100060  0.172416\n",
       "SLIM_optimized    0.141163      0.214      0.568  0.099273  0.172007\n",
       "ALS               0.196305      0.202      0.550  0.086360  0.156045\n",
       "ItemKNN               0.050731      0.168      0.390  0.063387  0.113365\n",
       "my_model          0.050731      0.118      0.390  0.055720  0.104047"
      ]
     },
     "execution_count": 54,
     "metadata": {},
     "output_type": "execute_result"
    }
   ],
   "source": [
    "metrics.add_result(\"my_model\", recs.withColumn(\"relevance\", sf.rand()))\n",
    "metrics.results.sort_values(\"NDCG@5\", ascending=False)"
   ]
  },
  {
   "cell_type": "code",
   "execution_count": null,
   "metadata": {},
   "outputs": [],
   "source": []
  },
  {
   "cell_type": "code",
   "execution_count": null,
   "metadata": {},
   "outputs": [],
   "source": []
  }
 ],
 "metadata": {
  "kernelspec": {
   "display_name": "Python 3 (ipykernel)",
   "language": "python",
   "name": "python3"
  },
  "language_info": {
   "codemirror_mode": {
    "name": "ipython",
    "version": 3
   },
   "file_extension": ".py",
   "mimetype": "text/x-python",
   "name": "python",
   "nbconvert_exporter": "python",
   "pygments_lexer": "ipython3",
   "version": "3.9.7"
  },
  "name": "movielens_nmf.ipynb",
  "pycharm": {
   "stem_cell": {
    "cell_type": "raw",
    "source": [
     "null"
    ],
    "metadata": {
     "collapsed": false
    }
   }
  }
 },
 "nbformat": 4,
 "nbformat_minor": 4
}